{
 "cells": [
  {
   "cell_type": "code",
   "execution_count": 98,
   "metadata": {
    "collapsed": true
   },
   "outputs": [],
   "source": [
    "\n",
    "import numpy as np\n",
    "import matplotlib.pyplot as plt\n",
    "import statsmodels.api as sm\n",
    "from statsmodels.tsa.ar_model import AutoReg\n",
    "from statsmodels.tsa.arima_model import ARMA\n",
    "from statsmodels.tsa.stattools import adfuller\n",
    "from statsmodels.graphics.tsaplots import plot_acf\n",
    "from statsmodels.graphics.tsaplots import plot_pacf\n",
    "from statsmodels.tsa.arima_model import ARIMA\n",
    "from statsmodels.tsa.statespace.sarimax import SARIMAX\n",
    "from statsmodels.tsa.seasonal import seasonal_decompose\n",
    "from scipy import stats\n",
    "from itertools import product\n",
    "import warnings\n",
    "warnings.filterwarnings('ignore')\n",
    "import Data_Process as dp\n",
    "%reload_ext autoreload\n",
    "%autoreload 2\n"
   ]
  },
  {
   "cell_type": "code",
   "execution_count": 95,
   "outputs": [],
   "source": [],
   "metadata": {
    "collapsed": false,
    "pycharm": {
     "name": "#%%\n"
    }
   }
  },
  {
   "cell_type": "code",
   "execution_count": 102,
   "outputs": [
    {
     "ename": "ValueError",
     "evalue": "Only callable can be used as callback",
     "output_type": "error",
     "traceback": [
      "\u001B[0;31m---------------------------------------------------------------------------\u001B[0m",
      "\u001B[0;31mValueError\u001B[0m                                Traceback (most recent call last)",
      "\u001B[0;32m/var/folders/6m/3s7yl6qx0gq1s0mxmjm3mjm00000gn/T/ipykernel_4330/1849560302.py\u001B[0m in \u001B[0;36m<module>\u001B[0;34m\u001B[0m\n\u001B[0;32m----> 1\u001B[0;31m \u001B[0minfo\u001B[0m \u001B[0;34m=\u001B[0m \u001B[0mpd\u001B[0m\u001B[0;34m.\u001B[0m\u001B[0mread_csv\u001B[0m\u001B[0;34m(\u001B[0m\u001B[0;34m\"g-research-crypto-forecasting/asset_details.csv\"\u001B[0m\u001B[0;34m)\u001B[0m\u001B[0;34m\u001B[0m\u001B[0;34m\u001B[0m\u001B[0m\n\u001B[0m\u001B[1;32m      2\u001B[0m \u001B[0mctrain\u001B[0m \u001B[0;34m=\u001B[0m \u001B[0mpd\u001B[0m\u001B[0;34m.\u001B[0m\u001B[0mread_csv\u001B[0m\u001B[0;34m(\u001B[0m\u001B[0;34m\"g-research-crypto-forecasting/train.csv\"\u001B[0m\u001B[0;34m)\u001B[0m\u001B[0;34m\u001B[0m\u001B[0;34m\u001B[0m\u001B[0m\n",
      "\u001B[0;32m/opt/anaconda3/envs/ml4f/lib/python3.9/site-packages/pandas/util/_decorators.py\u001B[0m in \u001B[0;36mwrapper\u001B[0;34m(*args, **kwargs)\u001B[0m\n\u001B[1;32m    309\u001B[0m                     \u001B[0mstacklevel\u001B[0m\u001B[0;34m=\u001B[0m\u001B[0mstacklevel\u001B[0m\u001B[0;34m,\u001B[0m\u001B[0;34m\u001B[0m\u001B[0;34m\u001B[0m\u001B[0m\n\u001B[1;32m    310\u001B[0m                 )\n\u001B[0;32m--> 311\u001B[0;31m             \u001B[0;32mreturn\u001B[0m \u001B[0mfunc\u001B[0m\u001B[0;34m(\u001B[0m\u001B[0;34m*\u001B[0m\u001B[0margs\u001B[0m\u001B[0;34m,\u001B[0m \u001B[0;34m**\u001B[0m\u001B[0mkwargs\u001B[0m\u001B[0;34m)\u001B[0m\u001B[0;34m\u001B[0m\u001B[0;34m\u001B[0m\u001B[0m\n\u001B[0m\u001B[1;32m    312\u001B[0m \u001B[0;34m\u001B[0m\u001B[0m\n\u001B[1;32m    313\u001B[0m         \u001B[0;32mreturn\u001B[0m \u001B[0mwrapper\u001B[0m\u001B[0;34m\u001B[0m\u001B[0;34m\u001B[0m\u001B[0m\n",
      "\u001B[0;32m/opt/anaconda3/envs/ml4f/lib/python3.9/site-packages/pandas/io/parsers/readers.py\u001B[0m in \u001B[0;36mread_csv\u001B[0;34m(filepath_or_buffer, sep, delimiter, header, names, index_col, usecols, squeeze, prefix, mangle_dupe_cols, dtype, engine, converters, true_values, false_values, skipinitialspace, skiprows, skipfooter, nrows, na_values, keep_default_na, na_filter, verbose, skip_blank_lines, parse_dates, infer_datetime_format, keep_date_col, date_parser, dayfirst, cache_dates, iterator, chunksize, compression, thousands, decimal, lineterminator, quotechar, quoting, doublequote, escapechar, comment, encoding, encoding_errors, dialect, error_bad_lines, warn_bad_lines, on_bad_lines, delim_whitespace, low_memory, memory_map, float_precision, storage_options)\u001B[0m\n\u001B[1;32m    584\u001B[0m     \u001B[0mkwds\u001B[0m\u001B[0;34m.\u001B[0m\u001B[0mupdate\u001B[0m\u001B[0;34m(\u001B[0m\u001B[0mkwds_defaults\u001B[0m\u001B[0;34m)\u001B[0m\u001B[0;34m\u001B[0m\u001B[0;34m\u001B[0m\u001B[0m\n\u001B[1;32m    585\u001B[0m \u001B[0;34m\u001B[0m\u001B[0m\n\u001B[0;32m--> 586\u001B[0;31m     \u001B[0;32mreturn\u001B[0m \u001B[0m_read\u001B[0m\u001B[0;34m(\u001B[0m\u001B[0mfilepath_or_buffer\u001B[0m\u001B[0;34m,\u001B[0m \u001B[0mkwds\u001B[0m\u001B[0;34m)\u001B[0m\u001B[0;34m\u001B[0m\u001B[0;34m\u001B[0m\u001B[0m\n\u001B[0m\u001B[1;32m    587\u001B[0m \u001B[0;34m\u001B[0m\u001B[0m\n\u001B[1;32m    588\u001B[0m \u001B[0;34m\u001B[0m\u001B[0m\n",
      "\u001B[0;32m/opt/anaconda3/envs/ml4f/lib/python3.9/site-packages/pandas/io/parsers/readers.py\u001B[0m in \u001B[0;36m_read\u001B[0;34m(filepath_or_buffer, kwds)\u001B[0m\n\u001B[1;32m    486\u001B[0m \u001B[0;34m\u001B[0m\u001B[0m\n\u001B[1;32m    487\u001B[0m     \u001B[0;32mwith\u001B[0m \u001B[0mparser\u001B[0m\u001B[0;34m:\u001B[0m\u001B[0;34m\u001B[0m\u001B[0;34m\u001B[0m\u001B[0m\n\u001B[0;32m--> 488\u001B[0;31m         \u001B[0;32mreturn\u001B[0m \u001B[0mparser\u001B[0m\u001B[0;34m.\u001B[0m\u001B[0mread\u001B[0m\u001B[0;34m(\u001B[0m\u001B[0mnrows\u001B[0m\u001B[0;34m)\u001B[0m\u001B[0;34m\u001B[0m\u001B[0;34m\u001B[0m\u001B[0m\n\u001B[0m\u001B[1;32m    489\u001B[0m \u001B[0;34m\u001B[0m\u001B[0m\n\u001B[1;32m    490\u001B[0m \u001B[0;34m\u001B[0m\u001B[0m\n",
      "\u001B[0;32m/opt/anaconda3/envs/ml4f/lib/python3.9/site-packages/pandas/io/parsers/readers.py\u001B[0m in \u001B[0;36mread\u001B[0;34m(self, nrows)\u001B[0m\n\u001B[1;32m   1057\u001B[0m             \u001B[0mnew_rows\u001B[0m \u001B[0;34m=\u001B[0m \u001B[0mlen\u001B[0m\u001B[0;34m(\u001B[0m\u001B[0mindex\u001B[0m\u001B[0;34m)\u001B[0m\u001B[0;34m\u001B[0m\u001B[0;34m\u001B[0m\u001B[0m\n\u001B[1;32m   1058\u001B[0m \u001B[0;34m\u001B[0m\u001B[0m\n\u001B[0;32m-> 1059\u001B[0;31m         \u001B[0mdf\u001B[0m \u001B[0;34m=\u001B[0m \u001B[0mDataFrame\u001B[0m\u001B[0;34m(\u001B[0m\u001B[0mcol_dict\u001B[0m\u001B[0;34m,\u001B[0m \u001B[0mcolumns\u001B[0m\u001B[0;34m=\u001B[0m\u001B[0mcolumns\u001B[0m\u001B[0;34m,\u001B[0m \u001B[0mindex\u001B[0m\u001B[0;34m=\u001B[0m\u001B[0mindex\u001B[0m\u001B[0;34m)\u001B[0m\u001B[0;34m\u001B[0m\u001B[0;34m\u001B[0m\u001B[0m\n\u001B[0m\u001B[1;32m   1060\u001B[0m \u001B[0;34m\u001B[0m\u001B[0m\n\u001B[1;32m   1061\u001B[0m         \u001B[0mself\u001B[0m\u001B[0;34m.\u001B[0m\u001B[0m_currow\u001B[0m \u001B[0;34m+=\u001B[0m \u001B[0mnew_rows\u001B[0m\u001B[0;34m\u001B[0m\u001B[0;34m\u001B[0m\u001B[0m\n",
      "\u001B[0;32m/opt/anaconda3/envs/ml4f/lib/python3.9/site-packages/pandas/core/frame.py\u001B[0m in \u001B[0;36m__init__\u001B[0;34m(self, data, index, columns, dtype, copy)\u001B[0m\n\u001B[1;32m    612\u001B[0m         \u001B[0;32melif\u001B[0m \u001B[0misinstance\u001B[0m\u001B[0;34m(\u001B[0m\u001B[0mdata\u001B[0m\u001B[0;34m,\u001B[0m \u001B[0mdict\u001B[0m\u001B[0;34m)\u001B[0m\u001B[0;34m:\u001B[0m\u001B[0;34m\u001B[0m\u001B[0;34m\u001B[0m\u001B[0m\n\u001B[1;32m    613\u001B[0m             \u001B[0;31m# GH#38939 de facto copy defaults to False only in non-dict cases\u001B[0m\u001B[0;34m\u001B[0m\u001B[0;34m\u001B[0m\u001B[0m\n\u001B[0;32m--> 614\u001B[0;31m             \u001B[0mmgr\u001B[0m \u001B[0;34m=\u001B[0m \u001B[0mdict_to_mgr\u001B[0m\u001B[0;34m(\u001B[0m\u001B[0mdata\u001B[0m\u001B[0;34m,\u001B[0m \u001B[0mindex\u001B[0m\u001B[0;34m,\u001B[0m \u001B[0mcolumns\u001B[0m\u001B[0;34m,\u001B[0m \u001B[0mdtype\u001B[0m\u001B[0;34m=\u001B[0m\u001B[0mdtype\u001B[0m\u001B[0;34m,\u001B[0m \u001B[0mcopy\u001B[0m\u001B[0;34m=\u001B[0m\u001B[0mcopy\u001B[0m\u001B[0;34m,\u001B[0m \u001B[0mtyp\u001B[0m\u001B[0;34m=\u001B[0m\u001B[0mmanager\u001B[0m\u001B[0;34m)\u001B[0m\u001B[0;34m\u001B[0m\u001B[0;34m\u001B[0m\u001B[0m\n\u001B[0m\u001B[1;32m    615\u001B[0m         \u001B[0;32melif\u001B[0m \u001B[0misinstance\u001B[0m\u001B[0;34m(\u001B[0m\u001B[0mdata\u001B[0m\u001B[0;34m,\u001B[0m \u001B[0mma\u001B[0m\u001B[0;34m.\u001B[0m\u001B[0mMaskedArray\u001B[0m\u001B[0;34m)\u001B[0m\u001B[0;34m:\u001B[0m\u001B[0;34m\u001B[0m\u001B[0;34m\u001B[0m\u001B[0m\n\u001B[1;32m    616\u001B[0m             \u001B[0;32mimport\u001B[0m \u001B[0mnumpy\u001B[0m\u001B[0;34m.\u001B[0m\u001B[0mma\u001B[0m\u001B[0;34m.\u001B[0m\u001B[0mmrecords\u001B[0m \u001B[0;32mas\u001B[0m \u001B[0mmrecords\u001B[0m\u001B[0;34m\u001B[0m\u001B[0;34m\u001B[0m\u001B[0m\n",
      "\u001B[0;32m/opt/anaconda3/envs/ml4f/lib/python3.9/site-packages/pandas/core/internals/construction.py\u001B[0m in \u001B[0;36mdict_to_mgr\u001B[0;34m(data, index, columns, dtype, typ, copy)\u001B[0m\n\u001B[1;32m    425\u001B[0m \u001B[0;34m\u001B[0m\u001B[0m\n\u001B[1;32m    426\u001B[0m         \u001B[0;31m# no obvious \"empty\" int column\u001B[0m\u001B[0;34m\u001B[0m\u001B[0;34m\u001B[0m\u001B[0m\n\u001B[0;32m--> 427\u001B[0;31m         \u001B[0;32mif\u001B[0m \u001B[0mmissing\u001B[0m\u001B[0;34m.\u001B[0m\u001B[0many\u001B[0m\u001B[0;34m(\u001B[0m\u001B[0;34m)\u001B[0m \u001B[0;32mand\u001B[0m \u001B[0;32mnot\u001B[0m \u001B[0mis_integer_dtype\u001B[0m\u001B[0;34m(\u001B[0m\u001B[0mdtype\u001B[0m\u001B[0;34m)\u001B[0m\u001B[0;34m:\u001B[0m\u001B[0;34m\u001B[0m\u001B[0;34m\u001B[0m\u001B[0m\n\u001B[0m\u001B[1;32m    428\u001B[0m             \u001B[0mnan_dtype\u001B[0m\u001B[0;34m:\u001B[0m \u001B[0mDtypeObj\u001B[0m\u001B[0;34m\u001B[0m\u001B[0;34m\u001B[0m\u001B[0m\n\u001B[1;32m    429\u001B[0m \u001B[0;34m\u001B[0m\u001B[0m\n",
      "\u001B[0;32m/opt/anaconda3/envs/ml4f/lib/python3.9/site-packages/pandas/core/generic.py\u001B[0m in \u001B[0;36many\u001B[0;34m(self, axis, bool_only, skipna, level, **kwargs)\u001B[0m\n\u001B[1;32m  10529\u001B[0m         )\n\u001B[1;32m  10530\u001B[0m         \u001B[0;32mdef\u001B[0m \u001B[0many\u001B[0m\u001B[0;34m(\u001B[0m\u001B[0mself\u001B[0m\u001B[0;34m,\u001B[0m \u001B[0maxis\u001B[0m\u001B[0;34m=\u001B[0m\u001B[0;36m0\u001B[0m\u001B[0;34m,\u001B[0m \u001B[0mbool_only\u001B[0m\u001B[0;34m=\u001B[0m\u001B[0;32mNone\u001B[0m\u001B[0;34m,\u001B[0m \u001B[0mskipna\u001B[0m\u001B[0;34m=\u001B[0m\u001B[0;32mTrue\u001B[0m\u001B[0;34m,\u001B[0m \u001B[0mlevel\u001B[0m\u001B[0;34m=\u001B[0m\u001B[0;32mNone\u001B[0m\u001B[0;34m,\u001B[0m \u001B[0;34m**\u001B[0m\u001B[0mkwargs\u001B[0m\u001B[0;34m)\u001B[0m\u001B[0;34m:\u001B[0m\u001B[0;34m\u001B[0m\u001B[0;34m\u001B[0m\u001B[0m\n\u001B[0;32m> 10531\u001B[0;31m             \u001B[0;32mreturn\u001B[0m \u001B[0mNDFrame\u001B[0m\u001B[0;34m.\u001B[0m\u001B[0many\u001B[0m\u001B[0;34m(\u001B[0m\u001B[0mself\u001B[0m\u001B[0;34m,\u001B[0m \u001B[0maxis\u001B[0m\u001B[0;34m,\u001B[0m \u001B[0mbool_only\u001B[0m\u001B[0;34m,\u001B[0m \u001B[0mskipna\u001B[0m\u001B[0;34m,\u001B[0m \u001B[0mlevel\u001B[0m\u001B[0;34m,\u001B[0m \u001B[0;34m**\u001B[0m\u001B[0mkwargs\u001B[0m\u001B[0;34m)\u001B[0m\u001B[0;34m\u001B[0m\u001B[0;34m\u001B[0m\u001B[0m\n\u001B[0m\u001B[1;32m  10532\u001B[0m \u001B[0;34m\u001B[0m\u001B[0m\n\u001B[1;32m  10533\u001B[0m         \u001B[0msetattr\u001B[0m\u001B[0;34m(\u001B[0m\u001B[0mcls\u001B[0m\u001B[0;34m,\u001B[0m \u001B[0;34m\"any\"\u001B[0m\u001B[0;34m,\u001B[0m \u001B[0many\u001B[0m\u001B[0;34m)\u001B[0m\u001B[0;34m\u001B[0m\u001B[0;34m\u001B[0m\u001B[0m\n",
      "\u001B[0;32m/opt/anaconda3/envs/ml4f/lib/python3.9/site-packages/pandas/core/generic.py\u001B[0m in \u001B[0;36many\u001B[0;34m(self, axis, bool_only, skipna, level, **kwargs)\u001B[0m\n\u001B[1;32m  10219\u001B[0m \u001B[0;34m\u001B[0m\u001B[0m\n\u001B[1;32m  10220\u001B[0m     \u001B[0;32mdef\u001B[0m \u001B[0many\u001B[0m\u001B[0;34m(\u001B[0m\u001B[0mself\u001B[0m\u001B[0;34m,\u001B[0m \u001B[0maxis\u001B[0m\u001B[0;34m=\u001B[0m\u001B[0;36m0\u001B[0m\u001B[0;34m,\u001B[0m \u001B[0mbool_only\u001B[0m\u001B[0;34m=\u001B[0m\u001B[0;32mNone\u001B[0m\u001B[0;34m,\u001B[0m \u001B[0mskipna\u001B[0m\u001B[0;34m=\u001B[0m\u001B[0;32mTrue\u001B[0m\u001B[0;34m,\u001B[0m \u001B[0mlevel\u001B[0m\u001B[0;34m=\u001B[0m\u001B[0;32mNone\u001B[0m\u001B[0;34m,\u001B[0m \u001B[0;34m**\u001B[0m\u001B[0mkwargs\u001B[0m\u001B[0;34m)\u001B[0m\u001B[0;34m:\u001B[0m\u001B[0;34m\u001B[0m\u001B[0;34m\u001B[0m\u001B[0m\n\u001B[0;32m> 10221\u001B[0;31m         return self._logical_func(\n\u001B[0m\u001B[1;32m  10222\u001B[0m             \u001B[0;34m\"any\"\u001B[0m\u001B[0;34m,\u001B[0m \u001B[0mnanops\u001B[0m\u001B[0;34m.\u001B[0m\u001B[0mnanany\u001B[0m\u001B[0;34m,\u001B[0m \u001B[0maxis\u001B[0m\u001B[0;34m,\u001B[0m \u001B[0mbool_only\u001B[0m\u001B[0;34m,\u001B[0m \u001B[0mskipna\u001B[0m\u001B[0;34m,\u001B[0m \u001B[0mlevel\u001B[0m\u001B[0;34m,\u001B[0m \u001B[0;34m**\u001B[0m\u001B[0mkwargs\u001B[0m\u001B[0;34m\u001B[0m\u001B[0;34m\u001B[0m\u001B[0m\n\u001B[1;32m  10223\u001B[0m         )\n",
      "\u001B[0;32m/opt/anaconda3/envs/ml4f/lib/python3.9/site-packages/pandas/core/generic.py\u001B[0m in \u001B[0;36m_logical_func\u001B[0;34m(self, name, func, axis, bool_only, skipna, level, **kwargs)\u001B[0m\n\u001B[1;32m  10209\u001B[0m             \u001B[0;32mreturn\u001B[0m \u001B[0mres\u001B[0m\u001B[0;34m.\u001B[0m\u001B[0m_logical_func\u001B[0m\u001B[0;34m(\u001B[0m\u001B[0mname\u001B[0m\u001B[0;34m,\u001B[0m \u001B[0mfunc\u001B[0m\u001B[0;34m,\u001B[0m \u001B[0mskipna\u001B[0m\u001B[0;34m=\u001B[0m\u001B[0mskipna\u001B[0m\u001B[0;34m,\u001B[0m \u001B[0;34m**\u001B[0m\u001B[0mkwargs\u001B[0m\u001B[0;34m)\u001B[0m\u001B[0;34m\u001B[0m\u001B[0;34m\u001B[0m\u001B[0m\n\u001B[1;32m  10210\u001B[0m \u001B[0;34m\u001B[0m\u001B[0m\n\u001B[0;32m> 10211\u001B[0;31m         return self._reduce(\n\u001B[0m\u001B[1;32m  10212\u001B[0m             \u001B[0mfunc\u001B[0m\u001B[0;34m,\u001B[0m\u001B[0;34m\u001B[0m\u001B[0;34m\u001B[0m\u001B[0m\n\u001B[1;32m  10213\u001B[0m             \u001B[0mname\u001B[0m\u001B[0;34m=\u001B[0m\u001B[0mname\u001B[0m\u001B[0;34m,\u001B[0m\u001B[0;34m\u001B[0m\u001B[0;34m\u001B[0m\u001B[0m\n",
      "\u001B[0;32m/opt/anaconda3/envs/ml4f/lib/python3.9/site-packages/pandas/core/series.py\u001B[0m in \u001B[0;36m_reduce\u001B[0;34m(self, op, name, axis, skipna, numeric_only, filter_type, **kwds)\u001B[0m\n\u001B[1;32m   4389\u001B[0m                     \u001B[0;34mf\"Series.{name} does not implement numeric_only.\"\u001B[0m\u001B[0;34m\u001B[0m\u001B[0;34m\u001B[0m\u001B[0m\n\u001B[1;32m   4390\u001B[0m                 )\n\u001B[0;32m-> 4391\u001B[0;31m             \u001B[0;32mwith\u001B[0m \u001B[0mnp\u001B[0m\u001B[0;34m.\u001B[0m\u001B[0merrstate\u001B[0m\u001B[0;34m(\u001B[0m\u001B[0mall\u001B[0m\u001B[0;34m=\u001B[0m\u001B[0;34m\"ignore\"\u001B[0m\u001B[0;34m)\u001B[0m\u001B[0;34m:\u001B[0m\u001B[0;34m\u001B[0m\u001B[0;34m\u001B[0m\u001B[0m\n\u001B[0m\u001B[1;32m   4392\u001B[0m                 \u001B[0;32mreturn\u001B[0m \u001B[0mop\u001B[0m\u001B[0;34m(\u001B[0m\u001B[0mdelegate\u001B[0m\u001B[0;34m,\u001B[0m \u001B[0mskipna\u001B[0m\u001B[0;34m=\u001B[0m\u001B[0mskipna\u001B[0m\u001B[0;34m,\u001B[0m \u001B[0;34m**\u001B[0m\u001B[0mkwds\u001B[0m\u001B[0;34m)\u001B[0m\u001B[0;34m\u001B[0m\u001B[0;34m\u001B[0m\u001B[0m\n\u001B[1;32m   4393\u001B[0m \u001B[0;34m\u001B[0m\u001B[0m\n",
      "\u001B[0;32m/opt/anaconda3/envs/ml4f/lib/python3.9/site-packages/numpy/core/_ufunc_config.py\u001B[0m in \u001B[0;36m__enter__\u001B[0;34m(self)\u001B[0m\n\u001B[1;32m    434\u001B[0m     \u001B[0;32mdef\u001B[0m \u001B[0m__exit__\u001B[0m\u001B[0;34m(\u001B[0m\u001B[0mself\u001B[0m\u001B[0;34m,\u001B[0m \u001B[0;34m*\u001B[0m\u001B[0mexc_info\u001B[0m\u001B[0;34m)\u001B[0m\u001B[0;34m:\u001B[0m\u001B[0;34m\u001B[0m\u001B[0;34m\u001B[0m\u001B[0m\n\u001B[1;32m    435\u001B[0m         \u001B[0mseterr\u001B[0m\u001B[0;34m(\u001B[0m\u001B[0;34m**\u001B[0m\u001B[0mself\u001B[0m\u001B[0;34m.\u001B[0m\u001B[0moldstate\u001B[0m\u001B[0;34m)\u001B[0m\u001B[0;34m\u001B[0m\u001B[0;34m\u001B[0m\u001B[0m\n\u001B[0;32m--> 436\u001B[0;31m         \u001B[0;32mif\u001B[0m \u001B[0mself\u001B[0m\u001B[0;34m.\u001B[0m\u001B[0mcall\u001B[0m \u001B[0;32mis\u001B[0m \u001B[0;32mnot\u001B[0m \u001B[0m_Unspecified\u001B[0m\u001B[0;34m:\u001B[0m\u001B[0;34m\u001B[0m\u001B[0;34m\u001B[0m\u001B[0m\n\u001B[0m\u001B[1;32m    437\u001B[0m             \u001B[0mseterrcall\u001B[0m\u001B[0;34m(\u001B[0m\u001B[0mself\u001B[0m\u001B[0;34m.\u001B[0m\u001B[0moldcall\u001B[0m\u001B[0;34m)\u001B[0m\u001B[0;34m\u001B[0m\u001B[0;34m\u001B[0m\u001B[0m\n\u001B[1;32m    438\u001B[0m \u001B[0;34m\u001B[0m\u001B[0m\n",
      "\u001B[0;32m/opt/anaconda3/envs/ml4f/lib/python3.9/site-packages/numpy/core/_ufunc_config.py\u001B[0m in \u001B[0;36mseterrcall\u001B[0;34m(func)\u001B[0m\n\u001B[1;32m    303\u001B[0m         if (not hasattr(func, 'write') or\n\u001B[1;32m    304\u001B[0m                 not isinstance(func.write, collections.abc.Callable)):\n\u001B[0;32m--> 305\u001B[0;31m             \u001B[0;32mraise\u001B[0m \u001B[0mValueError\u001B[0m\u001B[0;34m(\u001B[0m\u001B[0;34m\"Only callable can be used as callback\"\u001B[0m\u001B[0;34m)\u001B[0m\u001B[0;34m\u001B[0m\u001B[0;34m\u001B[0m\u001B[0m\n\u001B[0m\u001B[1;32m    306\u001B[0m     \u001B[0mpyvals\u001B[0m \u001B[0;34m=\u001B[0m \u001B[0mumath\u001B[0m\u001B[0;34m.\u001B[0m\u001B[0mgeterrobj\u001B[0m\u001B[0;34m(\u001B[0m\u001B[0;34m)\u001B[0m\u001B[0;34m\u001B[0m\u001B[0;34m\u001B[0m\u001B[0m\n\u001B[1;32m    307\u001B[0m     \u001B[0mold\u001B[0m \u001B[0;34m=\u001B[0m \u001B[0mgeterrcall\u001B[0m\u001B[0;34m(\u001B[0m\u001B[0;34m)\u001B[0m\u001B[0;34m\u001B[0m\u001B[0;34m\u001B[0m\u001B[0m\n",
      "\u001B[0;31mValueError\u001B[0m: Only callable can be used as callback"
     ]
    }
   ],
   "source": [
    "info = pd.read_csv(\"g-research-crypto-forecasting/asset_details.csv\")\n",
    "ctrain = pd.read_csv(\"g-research-crypto-forecasting/train.csv\")"
   ],
   "metadata": {
    "collapsed": false,
    "pycharm": {
     "name": "#%%\n"
    }
   }
  },
  {
   "cell_type": "code",
   "execution_count": null,
   "outputs": [],
   "source": [
    "btc = dp.c_time_sub(asset_id =1, data = ctrain)"
   ],
   "metadata": {
    "collapsed": false,
    "pycharm": {
     "name": "#%%\n"
    }
   }
  },
  {
   "cell_type": "code",
   "execution_count": null,
   "outputs": [],
   "source": [
    "btc.Close.plot()"
   ],
   "metadata": {
    "collapsed": false,
    "pycharm": {
     "name": "#%%\n"
    }
   }
  },
  {
   "cell_type": "code",
   "execution_count": null,
   "outputs": [],
   "source": [
    "#Box-Cox Transformation for monthly rolled\n",
    "btc_month=btc.resample(\"M\").mean()\n",
    "btc_month[\"close_box\"], lmbda=stats.boxcox(btc_month.Close)\n",
    "print(\"Dickey–Fuller test: p=%f\" % adfuller(btc_month.close_box)[1])"
   ],
   "metadata": {
    "collapsed": false,
    "pycharm": {
     "name": "#%%\n"
    }
   }
  },
  {
   "cell_type": "code",
   "execution_count": null,
   "outputs": [],
   "source": [
    "#Box-Cox Transformation for minute data\n",
    "btc[\"close_box\"], lmbda_2=stats.boxcox(btc.Close)\n",
    "print(\"Dickey–Fuller test: p=%f\" % adfuller(btc_month.close_box)[1])\n"
   ],
   "metadata": {
    "collapsed": false,
    "pycharm": {
     "name": "#%%\n"
    }
   }
  },
  {
   "cell_type": "code",
   "execution_count": null,
   "outputs": [],
   "source": [
    "# Seasonal differentiation (12 months)\n",
    "btc_month['box_diff_seasonal_12'] = btc_month.close_box - btc_month.close_box.shift(12)\n",
    "print(\"Dickey–Fuller test: p=%f\" % adfuller(btc_month.box_diff_seasonal_12[12:])[1])"
   ],
   "metadata": {
    "collapsed": false,
    "pycharm": {
     "name": "#%%\n"
    }
   }
  },
  {
   "cell_type": "code",
   "execution_count": null,
   "outputs": [],
   "source": [
    "# Seasonal differentiation (3 months)\n",
    "btc_month['box_diff_seasonal_3'] = btc_month.close_box - btc_month.close_box.shift(3)\n",
    "print(\"Dickey–Fuller test: p=%f\" % adfuller(btc_month.box_diff_seasonal_3[3:])[1])"
   ],
   "metadata": {
    "collapsed": false,
    "pycharm": {
     "name": "#%%\n"
    }
   }
  },
  {
   "cell_type": "markdown",
   "source": [
    "Initial approximation of parameters using Autocorrelation and Partial Autocorrelation Plots\n",
    "fot month value"
   ],
   "metadata": {
    "collapsed": false,
    "pycharm": {
     "name": "#%% md\n"
    }
   }
  },
  {
   "cell_type": "code",
   "execution_count": null,
   "outputs": [],
   "source": [
    "ax = plt.subplot(211)\n",
    "# Plot the autocorrelation function\n",
    "plot_acf(btc_month.Close.values.squeeze(), lags=12, ax=ax)\n",
    "ax = plt.subplot(212)\n",
    "plot_pacf(btc_month.Close.values.squeeze(), lags=12, ax=ax)\n",
    "plt.tight_layout()\n",
    "plt.show()"
   ],
   "metadata": {
    "collapsed": false,
    "pycharm": {
     "name": "#%%\n"
    }
   }
  },
  {
   "cell_type": "markdown",
   "source": [
    "We see that there are 4 spikes in the ACF, followed by an almost significant spike at lag 5.\n",
    "In the PACF, there are 4 significant spikes, and then no significant spikes thereafter (apart from one just outside the bounds). We can ignore significant spikes in each plot if it is just outside the limits, and not in the first few lags"
   ],
   "metadata": {
    "collapsed": false
   }
  },
  {
   "cell_type": "code",
   "execution_count": null,
   "outputs": [],
   "source": [
    "plot_acf(btc_month.close_box.values.squeeze(), lags=12)\n",
    "plot_pacf(btc_month.close_box.values.squeeze(), lags=12)\n",
    "\n",
    "plt.tight_layout()\n",
    "plt.show()"
   ],
   "metadata": {
    "collapsed": false,
    "pycharm": {
     "name": "#%%\n"
    }
   }
  },
  {
   "cell_type": "markdown",
   "source": [
    "ARIMA for Close"
   ],
   "metadata": {
    "collapsed": false,
    "pycharm": {
     "name": "#%% md\n"
    }
   }
  },
  {
   "cell_type": "code",
   "execution_count": null,
   "outputs": [],
   "source": [
    "PCT_VALIDATION = 0.1 # last 10% of the data are used as validation set\n",
    "\n",
    "btc_month_train = btc_month[:int(len(btc_month)*(1-PCT_VALIDATION))]\n",
    "btc_month_train.shape[0]/btc_month.shape[0]"
   ],
   "metadata": {
    "collapsed": false,
    "pycharm": {
     "name": "#%%\n"
    }
   }
  },
  {
   "cell_type": "code",
   "execution_count": null,
   "outputs": [],
   "source": [
    "# Initial approximation of parameters\n",
    "\n",
    "qs = range(0, 5)\n",
    "ps = range(0, 5)\n",
    "d=1\n",
    "parameters = product(ps, qs)\n",
    "parameters_list = list(parameters)\n",
    "len(parameters_list)\n",
    "\n",
    "# Model Selection\n",
    "results = []\n",
    "best_aic = float(\"inf\")\n",
    "warnings.filterwarnings('ignore')\n",
    "for param in parameters_list:\n",
    "    try:\n",
    "        model = SARIMAX(btc_month_train.Close, order=(param[0], d, param[1])).fit(disp=-1)\n",
    "    except ValueError:\n",
    "        print('bad parameter combination:', param)\n",
    "        continue\n",
    "    aic = model.aic\n",
    "    if aic < best_aic:\n",
    "        best_model = model\n",
    "        best_aic = aic\n",
    "        best_param = param\n",
    "    results.append([param, model.aic])"
   ],
   "metadata": {
    "collapsed": false,
    "pycharm": {
     "name": "#%%\n"
    }
   }
  },
  {
   "cell_type": "code",
   "execution_count": null,
   "outputs": [],
   "source": [
    "# Best Models\n",
    "result_table = pd.DataFrame(results)\n",
    "result_table.columns = ['parameters', 'aic']\n",
    "print(result_table.sort_values(by = 'aic', ascending=True).head())"
   ],
   "metadata": {
    "collapsed": false,
    "pycharm": {
     "name": "#%%\n"
    }
   }
  },
  {
   "cell_type": "code",
   "execution_count": null,
   "outputs": [],
   "source": [
    "best_model.plot_diagnostics(figsize=(15, 12))\n",
    "plt.show()"
   ],
   "metadata": {
    "collapsed": false,
    "pycharm": {
     "name": "#%%\n"
    }
   }
  },
  {
   "cell_type": "code",
   "execution_count": null,
   "outputs": [],
   "source": [
    "print(\"Dickey–Fuller test:: p=%f\" % adfuller(best_model.resid[13:])[1])"
   ],
   "metadata": {
    "collapsed": false,
    "pycharm": {
     "name": "#%%\n"
    }
   }
  },
  {
   "cell_type": "markdown",
   "source": [
    "Auto tuning of params"
   ],
   "metadata": {
    "collapsed": false,
    "pycharm": {
     "name": "#%% md\n"
    }
   }
  },
  {
   "cell_type": "code",
   "execution_count": null,
   "outputs": [],
   "source": [
    "#we will use pmdarima library to fit automatically\n",
    "#!pip install pmdarima\n",
    "import numpy as np\n",
    "import pmdarima as pm\n",
    "import pmdarima as pm\n",
    "from pmdarima.model_selection import train_test_split\n",
    "import numpy as np\n",
    "import matplotlib.pyplot as plt"
   ],
   "metadata": {
    "collapsed": false,
    "pycharm": {
     "name": "#%%\n"
    }
   }
  },
  {
   "cell_type": "markdown",
   "source": [
    "If you are unsure (as is common) of the best parameters for your model, let auto_arima figure it out for you. auto_arima is similar to an ARIMA-specific grid search, but (by default) uses a more intelligent stepwise algorithm laid out in a paper by Hyndman and Khandakar (2008). If stepwise is False, the models will be fit similar to a gridsearch. Note that it is possible for auto_arima not to find a model that will converge; if this is the case, it will raise a ValueError.\n",
    "\n"
   ],
   "metadata": {
    "collapsed": false,
    "pycharm": {
     "name": "#%% md\n"
    }
   }
  },
  {
   "cell_type": "code",
   "execution_count": null,
   "outputs": [],
   "source": [
    "# fitting a stepwise model:\n",
    "\n",
    "stepwise_fit = pm.auto_arima(btc_month.Close, start_p=1, start_q=1, max_p=3, max_q=3, m=12,\n",
    "                             start_P=0, seasonal=True, d=1, D=1, trace=True,\n",
    "                             error_action='ignore',  # don't want to know if an order does not work\n",
    "                             suppress_warnings=True,  # don't want convergence warnings\n",
    "                             stepwise=True)  # set to stepwise\n",
    "\n",
    "stepwise_fit.summary()"
   ],
   "metadata": {
    "collapsed": false,
    "pycharm": {
     "name": "#%%\n"
    }
   }
  },
  {
   "cell_type": "code",
   "execution_count": null,
   "outputs": [],
   "source": [
    "stepwise_fit.plot_diagnostics(figsize=(15, 12))\n",
    "plt.show()"
   ],
   "metadata": {
    "collapsed": false,
    "pycharm": {
     "name": "#%%\n"
    }
   }
  },
  {
   "cell_type": "code",
   "execution_count": null,
   "outputs": [],
   "source": [
    "#stepwise is False\n",
    "rs_fit = pm.auto_arima(btc_month.Close, start_p=1, start_q=1, max_p=3, max_q=3, m=12,\n",
    "                       start_P=0, seasonal=True, d=1, D=1, trace=True,\n",
    "                       n_jobs=-1,  # We can run this in parallel by controlling this option\n",
    "                       error_action='ignore',  # don't want to know if an order does not work\n",
    "                       suppress_warnings=True,  # don't want convergence warnings\n",
    "                       stepwise=False, random=True, random_state=42,  # we can fit a random search (not exhaustive)\n",
    "                       n_fits=25)\n",
    "\n",
    "rs_fit.summary()"
   ],
   "metadata": {
    "collapsed": false,
    "pycharm": {
     "name": "#%%\n"
    }
   }
  },
  {
   "cell_type": "code",
   "execution_count": null,
   "outputs": [],
   "source": [
    "rs_fit.plot_diagnostics(figsize=(15, 12))\n",
    "plt.show()\n"
   ],
   "metadata": {
    "collapsed": false,
    "pycharm": {
     "name": "#%%\n"
    }
   }
  },
  {
   "cell_type": "code",
   "execution_count": null,
   "outputs": [],
   "source": [
    "train, test = train_test_split(btc_month.Close, train_size=35)"
   ],
   "metadata": {
    "collapsed": false,
    "pycharm": {
     "name": "#%%\n"
    }
   }
  },
  {
   "cell_type": "code",
   "execution_count": null,
   "outputs": [],
   "source": [
    "# Fit the model\n",
    "model = pm.auto_arima(train, seasonal=True, m=12)\n",
    "\n",
    "# make the forecasts\n",
    "forecasts,conf_int = model.predict(test.shape[0],return_conf_int=True)  # predict N steps into the future\n",
    "\n",
    "# Visualize the forecasts (blue=train, green=forecasts)\n",
    "x = np.arange(btc_month.Close.shape[0])\n",
    "plt.plot(x[:35], train, c='blue')\n",
    "plt.plot(x[35:], forecasts, c='green')\n",
    "plt.show()#%%"
   ],
   "metadata": {
    "collapsed": false,
    "pycharm": {
     "name": "#%%\n"
    }
   }
  },
  {
   "cell_type": "code",
   "execution_count": null,
   "outputs": [],
   "source": [
    "model.plot_diagnostics(figsize=(15, 12))\n",
    "plt.show()"
   ],
   "metadata": {
    "collapsed": false,
    "pycharm": {
     "name": "#%%\n"
    }
   }
  },
  {
   "cell_type": "code",
   "execution_count": null,
   "outputs": [],
   "source": [
    "def plt_arima_result(y_train = train, forecasts = forecasts,y_test = test,conf_int = conf_int ):\n",
    "    fig = plt.figure(figsize=(16, 8))\n",
    "    ax = fig.add_subplot(1, 1, 1)\n",
    "\n",
    "    n_train = y_train.shape[0]\n",
    "    x = np.arange(n_train + forecasts.shape[0])\n",
    "\n",
    "    ax.plot(x[:n_train], y_train, color='blue', label='Training Data')\n",
    "    ax.plot(x[n_train:], forecasts, color='green', marker='o',\n",
    "            label='Predicted')\n",
    "    ax.plot(x[n_train:], y_test, color='red', label='Actual')\n",
    "    ax.legend(loc='lower left', borderaxespad=0.5)\n",
    "    ax.set_title('Predicted Foo')\n",
    "    ax.set_ylabel('# Foo')\n",
    "    plt.fill_between(x[n_train:],\n",
    "                 conf_int[:, 0], conf_int[:, 1],\n",
    "                 alpha=0.1, color='b')\n",
    "\n",
    "    plt.show()"
   ],
   "metadata": {
    "collapsed": false,
    "pycharm": {
     "name": "#%%\n"
    }
   }
  },
  {
   "cell_type": "code",
   "execution_count": null,
   "outputs": [],
   "source": [
    "plt_arima_result(y_train = train, forecasts = forecasts,y_test = test )"
   ],
   "metadata": {
    "collapsed": false,
    "pycharm": {
     "name": "#%%\n"
    }
   }
  },
  {
   "cell_type": "code",
   "execution_count": null,
   "outputs": [],
   "source": [
    "import pmdarima as pm\n",
    "from pmdarima import arima\n",
    "from pmdarima import model_selection\n",
    "from pmdarima import pipeline\n",
    "from pmdarima import preprocessing\n",
    "from pmdarima.datasets._base import load_date_example\n",
    "\n",
    "import numpy as np\n",
    "from matplotlib import pyplot as plt"
   ],
   "metadata": {
    "collapsed": false,
    "pycharm": {
     "name": "#%%\n"
    }
   }
  },
  {
   "cell_type": "markdown",
   "source": [
    "Predict with BoxCoxEndogTransformer"
   ],
   "metadata": {
    "collapsed": false,
    "pycharm": {
     "name": "#%% md\n"
    }
   }
  },
  {
   "cell_type": "code",
   "execution_count": null,
   "outputs": [],
   "source": [
    "import pmdarima as pm\n",
    "from pmdarima.model_selection import train_test_split\n",
    "from pmdarima.pipeline import Pipeline\n",
    "from pmdarima.preprocessing import BoxCoxEndogTransformer\n",
    "import pickle\n",
    "\n",
    "# Load/split your data\n",
    "y = btc_month.Close\n",
    "train_size=int(len(y)*0.8)\n",
    "train, test = train_test_split(btc_month.Close, train_size=train_size)\n",
    "\n",
    "# Define and fit your pipeline\n",
    "pipeline = Pipeline([\n",
    "    ('boxcox', BoxCoxEndogTransformer(lmbda2=1e-6)),  # lmbda2 avoids negative values\n",
    "    ('arima', pm.AutoARIMA(seasonal=True, m=12, #monthly data\n",
    "                           suppress_warnings=True,\n",
    "                           trace=True))\n",
    "])\n",
    "\n",
    "pipeline.fit(train)\n",
    "\n",
    "# Serialize your model just like you would in scikit:\n",
    "with open('model.pkl', 'wb') as pkl:\n",
    "    pickle.dump(pipeline, pkl)\n",
    "\n",
    "# Load it and make predictions seamlessly:\n",
    "with open('model.pkl', 'rb') as pkl:\n",
    "    mod = pickle.load(pkl)\n",
    "    print(mod.predict(len(y)-train_size)\n",
    "# [25.20580375 25.05573898 24.4263037  23.56766793 22.67463049 21.82231043\n",
    "# 21.04061069 20.33693017 19.70906027 19.1509862  18.6555793  18.21577243\n",
    "# 17.8250318  17.47750614 17.16803394]\n",
    "\n",
    "\n",
    "plt_arima_result(y_train = train, forecasts = mod.predict(int(len(y)*0.2)),y_test = test )"
   ],
   "metadata": {
    "collapsed": false,
    "pycharm": {
     "name": "#%%\n"
    }
   }
  },
  {
   "cell_type": "markdown",
   "source": [
    "Hourly prediction"
   ],
   "metadata": {
    "collapsed": false,
    "pycharm": {
     "name": "#%% md\n"
    }
   }
  },
  {
   "cell_type": "code",
   "execution_count": null,
   "outputs": [],
   "source": [
    "btc_hour=btc.resample(\"H\").mean()\n",
    "\n",
    "import pmdarima as pm\n",
    "from pmdarima.model_selection import train_test_split\n",
    "from pmdarima.pipeline import Pipeline\n",
    "from pmdarima.preprocessing import BoxCoxEndogTransformer\n",
    "import pickle\n",
    "\n",
    "# Load/split your data\n",
    "y = btc_hour.Close\n",
    "train_size=int(len(y)*0.8)\n",
    "train, test = train_test_split(btc_hour.Close, train_size=train_size)\n",
    "\n",
    "# Define and fit your pipeline\n",
    "pipeline = Pipeline([\n",
    "    ('boxcox', BoxCoxEndogTransformer(lmbda2=1e-6)),  # lmbda2 avoids negative values\n",
    "    ('arima', pm.AutoARIMA(seasonal=True, m=1, #hourly data\n",
    "                           suppress_warnings=True,\n",
    "                           trace=True))\n",
    "])\n",
    "\n",
    "pipeline.fit(train)\n",
    "\n",
    "# Serialize your model just like you would in scikit:\n",
    "with open('model_H.pkl', 'wb') as pkl:\n",
    "    pickle.dump(pipeline, pkl)\n",
    "\n",
    "# Load it and make predictions seamlessly:\n",
    "with open('model_H.pkl', 'rb') as pkl:\n",
    "    mod = pickle.load(pkl)\n",
    "forecasts = mod.predict(len(y)-train_size)\n",
    "forecasts"
   ],
   "metadata": {
    "collapsed": false,
    "pycharm": {
     "name": "#%%\n"
    }
   }
  },
  {
   "cell_type": "code",
   "execution_count": null,
   "outputs": [],
   "source": [
    "plt_arima_result(y_train = train, forecasts = forecasts,y_test = test )\n"
   ],
   "metadata": {
    "collapsed": false,
    "pycharm": {
     "name": "#%%\n"
    }
   }
  },
  {
   "cell_type": "code",
   "execution_count": null,
   "outputs": [],
   "source": [
    "btc_hour=btc.resample(\"H\").mean()\n",
    "\n",
    "import pmdarima as pm\n",
    "from pmdarima.model_selection import train_test_split\n",
    "from pmdarima.pipeline import Pipeline\n",
    "from pmdarima.preprocessing import BoxCoxEndogTransformer\n",
    "import pickle\n",
    "\n",
    "# Load/split your data\n",
    "y = btc_hour.Close\n",
    "train_size=int(len(y)*0.8)\n",
    "train, test = train_test_split(btc_hour.Close, train_size=train_size)\n",
    "\n",
    "# Define and fit your pipeline\n",
    "pipeline = Pipeline([\n",
    "    ('boxcox', BoxCoxEndogTransformer(lmbda2=1e-6)),  # lmbda2 avoids negative values\n",
    "    ('arima', pm.AutoARIMA(seasonal=True, m=12, #hourly data\n",
    "                           suppress_warnings=True,\n",
    "                           trace=True))\n",
    "])\n",
    "\n",
    "pipeline.fit(train)\n",
    "\n",
    "# Serialize your model just like you would in scikit:\n",
    "with open('model_H.pkl', 'wb') as pkl:\n",
    "    pickle.dump(pipeline, pkl)\n",
    "\n",
    "# Load it and make predictions seamlessly:\n",
    "with open('model_H.pkl', 'rb') as pkl:\n",
    "    mod = pickle.load(pkl)\n",
    "forecasts = mod.predict(len(y)-train_size)\n",
    "forecasts\n",
    "\n"
   ],
   "metadata": {
    "collapsed": false,
    "pycharm": {
     "name": "#%%\n"
    }
   }
  },
  {
   "cell_type": "code",
   "execution_count": null,
   "outputs": [],
   "source": [
    "plt_arima_result(y_train = train, forecasts = forecasts,y_test = test )"
   ],
   "metadata": {
    "collapsed": false,
    "pycharm": {
     "name": "#%%\n"
    }
   }
  },
  {
   "cell_type": "code",
   "execution_count": null,
   "outputs": [],
   "source": [
    "btc_hour=btc.resample(\"H\").mean()\n",
    "\n",
    "import pmdarima as pm\n",
    "from pmdarima.model_selection import train_test_split\n",
    "from pmdarima.pipeline import Pipeline\n",
    "from pmdarima.preprocessing import BoxCoxEndogTransformer\n",
    "import pickle\n",
    "\n",
    "# Load/split your data\n",
    "y = btc_hour.Close\n",
    "train_size=int(len(y)*0.8)\n",
    "train, test = train_test_split(btc_hour.Close, train_size=train_size)\n",
    "\n",
    "# Define and fit your pipeline\n",
    "pipeline = Pipeline([\n",
    "    ('boxcox', BoxCoxEndogTransformer(lmbda2=1e-6)),  # lmbda2 avoids negative values\n",
    "    ('arima', pm.AutoARIMA(seasonal=True, m=24, #hourly data\n",
    "                           suppress_warnings=True,\n",
    "                           trace=True))\n",
    "])\n",
    "\n",
    "pipeline.fit(train)\n",
    "\n",
    "# Serialize your model just like you would in scikit:\n",
    "with open('model_H.pkl', 'wb') as pkl:\n",
    "    pickle.dump(pipeline, pkl)\n",
    "\n",
    "# Load it and make predictions seamlessly:\n",
    "with open('model_H.pkl', 'rb') as pkl:\n",
    "    mod = pickle.load(pkl)\n",
    "forecasts = mod.predict(len(y)-train_size)\n",
    "forecasts\n",
    "\n",
    "plt_arima_result(y_train = train, forecasts = forecasts,y_test = test )"
   ],
   "metadata": {
    "collapsed": false,
    "pycharm": {
     "name": "#%%\n"
    }
   }
  },
  {
   "cell_type": "markdown",
   "source": [
    "Minute prediction"
   ],
   "metadata": {
    "collapsed": false,
    "pycharm": {
     "name": "#%% md\n"
    }
   }
  },
  {
   "cell_type": "code",
   "execution_count": null,
   "outputs": [],
   "source": [
    "n_steps_to_train = 180*24*60 #0.5 year\n",
    "btc_mini =  btc[-n_steps_to_train:]"
   ],
   "metadata": {
    "collapsed": false,
    "pycharm": {
     "name": "#%%\n"
    }
   }
  },
  {
   "cell_type": "code",
   "execution_count": null,
   "outputs": [],
   "source": [
    "btc[-1:]"
   ],
   "metadata": {
    "collapsed": false,
    "pycharm": {
     "name": "#%%\n"
    }
   }
  },
  {
   "cell_type": "code",
   "execution_count": null,
   "outputs": [],
   "source": [
    "plot_acf(btc_mini.Close.values.squeeze(), lags=60)\n",
    "plot_pacf(btc_mini.Close.values.squeeze(), lags=60)\n",
    "\n",
    "plt.tight_layout()\n",
    "plt.show()\n",
    "\n",
    "\n",
    "\n",
    "\n",
    "\n",
    "\n",
    "\n",
    "# Load/split your data\n",
    "y = btc_mini.Close\n",
    "\n",
    "train_size=int(len(y)*0.8)\n",
    "train, test = train_test_split(y, train_size=train_size)\n",
    "\n",
    "# Define and fit your pipeline\n",
    "pipeline = Pipeline([\n",
    "    ('boxcox', BoxCoxEndogTransformer(lmbda2=1e-6)),  # lmbda2 avoids negative values\n",
    "    ('arima', pm.AutoARIMA(seasonal=True, m =2, #min data\n",
    "                           suppress_warnings=True,\n",
    "                           trace=True))\n",
    "])\n",
    "\n",
    "pipeline.fit(train)\n",
    "\n",
    "# Serialize your model just like you would in scikit:\n",
    "with open('model_H.pkl', 'wb') as pkl:\n",
    "    pickle.dump(pipeline, pkl)\n",
    "\n",
    "# Load it and make predictions seamlessly:\n",
    "with open('model_H.pkl', 'rb') as pkl:\n",
    "    mod = pickle.load(pkl)\n",
    "forecasts ,conf_int = mod.predict(len(y)-train_size,return_conf_int=True)\n",
    "forecasts\n",
    "\n",
    "plt_arima_result(y_train = train, forecasts = forecasts,y_test = test )"
   ],
   "metadata": {
    "collapsed": false,
    "pycharm": {
     "name": "#%%\n"
    }
   }
  },
  {
   "cell_type": "code",
   "execution_count": null,
   "outputs": [],
   "source": [
    "\n",
    "n_steps_to_train = 180*24*60 #0.5 year\n",
    "btc_mini =  btc[-n_steps_to_train:]\n",
    "\n",
    "# Load/split your data\n",
    "y = btc_mini.Close\n",
    "\n",
    "train_size=int(len(y)*0.8)\n",
    "train, test = train_test_split(y, train_size=train_size)\n",
    "\n",
    "# Define and fit your pipeline\n",
    "pipeline = Pipeline([\n",
    "    ('boxcox', BoxCoxEndogTransformer(lmbda2=1e-6)),  # lmbda2 avoids negative values\n",
    "    ('arima', pm.AutoARIMA(seasonal=True, m =60, #min data\n",
    "                           suppress_warnings=True,\n",
    "                           trace=True))\n",
    "])\n",
    "\n",
    "pipeline.fit(train)\n",
    "\n",
    "# Serialize your model just like you would in scikit:\n",
    "with open('model_H.pkl', 'wb') as pkl:\n",
    "    pickle.dump(pipeline, pkl)\n",
    "\n",
    "# Load it and make predictions seamlessly:\n",
    "with open('model_H.pkl', 'rb') as pkl:\n",
    "    mod = pickle.load(pkl)\n",
    "forecasts ,conf_int = mod.predict(len(y)-train_size,return_conf_int=True)\n",
    "forecasts\n",
    "\n",
    "plt_arima_result(y_train = train, forecasts = forecasts,y_test = test )"
   ],
   "metadata": {
    "collapsed": false,
    "pycharm": {
     "name": "#%%\n"
    }
   }
  },
  {
   "cell_type": "code",
   "execution_count": null,
   "outputs": [],
   "source": [],
   "metadata": {
    "collapsed": false,
    "pycharm": {
     "name": "#%%\n"
    }
   }
  }
 ],
 "metadata": {
  "kernelspec": {
   "display_name": "Python 3",
   "language": "python",
   "name": "python3"
  },
  "language_info": {
   "codemirror_mode": {
    "name": "ipython",
    "version": 2
   },
   "file_extension": ".py",
   "mimetype": "text/x-python",
   "name": "python",
   "nbconvert_exporter": "python",
   "pygments_lexer": "ipython2",
   "version": "2.7.6"
  }
 },
 "nbformat": 4,
 "nbformat_minor": 0
}
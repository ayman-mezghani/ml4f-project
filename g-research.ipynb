{
 "cells": [
  {
   "cell_type": "markdown",
   "metadata": {},
   "source": [
    "# G-Research predictions\n",
    "Ekaterina Kryukova, Ayman Mezghani"
   ]
  },
  {
   "cell_type": "code",
   "execution_count": null,
   "metadata": {
    "_cell_guid": "b1076dfc-b9ad-4769-8c92-a6c4dae69d19",
    "_uuid": "8f2839f25d086af736a60e9eeb907d3b93b6e0e5",
    "tags": []
   },
   "outputs": [],
   "source": [
    "import os\n",
    "from datetime import datetime\n",
    "import time\n",
    "from sklearn.preprocessing import StandardScaler\n",
    "import plotly.express as px\n",
    "import plotly.graph_objs as go\n",
    "import matplotlib.pyplot as plt\n",
    "import seaborn as sns\n",
    "import math\n",
    "\n",
    "import statsmodels.api as sm\n",
    "from statsmodels.tsa.ar_model import AutoReg\n",
    "from statsmodels.tsa.arima_model import ARMA\n",
    "from statsmodels.tsa.stattools import adfuller\n",
    "from statsmodels.graphics.tsaplots import plot_acf\n",
    "from statsmodels.graphics.tsaplots import plot_pacf\n",
    "from statsmodels.tsa.arima_model import ARIMA\n",
    "from statsmodels.tsa.statespace.sarimax import SARIMAX\n",
    "from statsmodels.tsa.seasonal import seasonal_decompose\n",
    "from scipy import stats\n",
    "from itertools import product\n",
    "\n",
    "from plotly.subplots import make_subplots\n",
    "\n",
    "from statsmodels.graphics.tsaplots import plot_acf, plot_pacf\n",
    "\n",
    "import warnings\n",
    "warnings.filterwarnings(\"ignore\")\n",
    "import numpy as np\n",
    "import pandas as pd"
   ]
  },
  {
   "cell_type": "code",
   "execution_count": null,
   "metadata": {
    "_cell_guid": "b1076dfc-b9ad-4769-8c92-a6c4dae69d19",
    "_uuid": "8f2839f25d086af736a60e9eeb907d3b93b6e0e5",
    "tags": []
   },
   "outputs": [],
   "source": [
    "info = pd.read_csv(\"/kaggle/input/g-research-crypto-forecasting/asset_details.csv\")\n",
    "train = pd.read_csv(\"/kaggle/input/g-research-crypto-forecasting/train.csv\")"
   ]
  },
  {
   "cell_type": "code",
   "execution_count": null,
   "metadata": {},
   "outputs": [],
   "source": [
    "info.Asset_Name.unique()"
   ]
  },
  {
   "cell_type": "code",
   "execution_count": null,
   "metadata": {},
   "outputs": [],
   "source": [
    "train.columns"
   ]
  },
  {
   "cell_type": "code",
   "execution_count": null,
   "metadata": {},
   "outputs": [],
   "source": [
    "#time\n",
    "pd.to_datetime(ctrain['timestamp'], unit='s')"
   ]
  },
  {
   "cell_type": "markdown",
   "metadata": {},
   "source": [
    "## Candlestick charts"
   ]
  },
  {
   "cell_type": "code",
   "execution_count": null,
   "metadata": {},
   "outputs": [],
   "source": [
    "#Dictionary for assets\n",
    "rename_dict = {}\n",
    "asset_details = info \n",
    "for a in asset_details['Asset_ID']:\n",
    "    rename_dict[a] = asset_details[asset_details.Asset_ID == a].Asset_Name.values[0]\n",
    "\n",
    "display(rename_dict)"
   ]
  },
  {
   "cell_type": "code",
   "execution_count": null,
   "metadata": {},
   "outputs": [],
   "source": [
    "# Convert timestamp\n",
    "train  = ctrain\n",
    "train['timestamp'] = train['timestamp'].astype('datetime64[s]')\n",
    "#supplemental_train['timestamp'] = supplemental_train['timestamp'].astype('datetime64[s]')\n",
    "#example_test['timestamp'] = example_test['timestamp'].astype('datetime64[s]')\n",
    "\n",
    "#train['date'] = pd.DatetimeIndex(train['timestamp']).date\n",
    "#supplemental_train['date'] = pd.DatetimeIndex(supplemental_train['timestamp']).date\n",
    "#example_test['date'] = pd.DatetimeIndex(example_test['timestamp']).date\n",
    "\n",
    "# Resample\n",
    "train_daily = pd.DataFrame()\n",
    "\n",
    "for asset_id in asset_details.Asset_ID:\n",
    "    train_single = train[train.Asset_ID == asset_id].copy()\n",
    "\n",
    "    train_single_new = train_single[['timestamp','Count']].resample('D', on='timestamp').sum()\n",
    "    train_single_new['Open'] = train_single[['timestamp','Open']].resample('D', on='timestamp').first()['Open']\n",
    "    train_single_new['High'] = train_single[['timestamp','High']].resample('D', on='timestamp').max()['High']\n",
    "    train_single_new['Low'] = train_single[['timestamp','Low']].resample('D', on='timestamp').min()['Low']\n",
    "    train_single_new['Close'] = train_single[['timestamp','Close']].resample('D', on='timestamp').last()['Close']\n",
    "    train_single_new['Volume'] = train_single[['timestamp','Volume']].resample('D', on='timestamp').sum()['Volume']\n",
    "    # train_single_new['VWAP']\n",
    "    #train_single_new['Target'] = train_single[['timestamp','Target']].resample('D', on='timestamp').mean()['Target']\n",
    "    train_single_new['Asset_ID'] = asset_id\n",
    "\n",
    "    train_daily = train_daily.append(train_single_new.reset_index(drop=False))\n",
    "train_daily = train_daily.sort_values(by = ['timestamp', 'Asset_ID']).reset_index(drop=True)\n",
    "\n",
    "train_daily = train_daily.pivot(index='timestamp', columns='Asset_ID')[['Count', 'Open', 'High', 'Low', 'Close', 'Volume']]\n",
    "train_daily = train_daily.reset_index(drop=False)\n",
    "\n",
    "display(train_daily.head(10))"
   ]
  },
  {
   "cell_type": "code",
   "execution_count": null,
   "metadata": {},
   "outputs": [],
   "source": [
    "#visualize Bitcoin for recent data rows - last 200 rows\n",
    "crypto_df = ctrain\n",
    "\n",
    "crypto_df.index = pd.to_datetime(crypto_df.timestamp, unit='s')\n",
    "btc = crypto_df[crypto_df[\"Asset_ID\"]==1] # Asset_ID = 1 for Bitcoin\n",
    "btc_mini = btc.iloc[-200:] # Select recent data rows\n",
    "\n",
    "\n",
    "import plotly.graph_objects as go\n",
    "\n",
    "fig = go.Figure(data=[go.Candlestick(x=btc_mini.index, open=btc_mini['Open'], high=btc_mini['High'], low=btc_mini['Low'], close=btc_mini['Close'])])\n",
    "fig.show()"
   ]
  },
  {
   "cell_type": "markdown",
   "metadata": {},
   "source": [
    "### Training Data Distribution among differnet Assets "
   ]
  },
  {
   "cell_type": "code",
   "execution_count": null,
   "metadata": {},
   "outputs": [],
   "source": [
    "data = ctrain\n",
    "\n",
    "asset_count= []\n",
    "for i in range(14):\n",
    "    count = (data[\"Asset_ID\"]==i).sum()\n",
    "    asset_count.append(count)\n",
    "fig = px.bar(x = asset_details.sort_values(\"Asset_ID\")[\"Asset_Name\"],\n",
    "             y = asset_count , \n",
    "             color = asset_count ,\n",
    "             color_continuous_scale=\"Emrld\") \n",
    "fig.update_xaxes(title=\"Assets\")\n",
    "fig.update_yaxes(title = \"Number of Rows\")\n",
    "fig.update_layout(showlegend = True,\n",
    "    title = {\n",
    "        'text': 'Data Distribution ',\n",
    "        'y':0.95,\n",
    "        'x':0.5,\n",
    "        'xanchor': 'center',\n",
    "        'yanchor': 'top'})\n",
    "fig.show()"
   ]
  },
  {
   "cell_type": "markdown",
   "metadata": {},
   "source": [
    "1. Data visualtion for 14 popular cryptocurrency\n",
    "2. Price History for selected individual cryptocurrency\n",
    "3. Basic Arima Model for price prediction"
   ]
  },
  {
   "cell_type": "markdown",
   "metadata": {},
   "source": [
    "## Time history of 3 coins and its return\n",
    "\n",
    "#ref: https://www.kaggle.com/fangya/cryptocurrency-data-visualization-arima"
   ]
  },
  {
   "cell_type": "code",
   "execution_count": null,
   "metadata": {},
   "outputs": [],
   "source": [
    "# Impute Missing Time Value\n",
    "\n",
    "def c_time_sub(asset_id, data=ctrain):\n",
    "    df=data[ctrain[\"Asset_ID\"]==asset_id].set_index(\"timestamp\")\n",
    "    df=df.reindex(range(df.index[0],df.index[-1]+60,60), method=\"pad\")\n",
    "    df.index = pd.to_datetime(df.index, unit='s')\n",
    "    return df\n",
    "\n",
    "\n",
    "#  Bitcoin\n",
    "btc=c_time_sub(asset_id=1)\n",
    "\n",
    "#  Ethereum\n",
    "eth=c_time_sub(asset_id=6)\n",
    "\n",
    "#  Cardano\n",
    "ada=c_time_sub(asset_id=3)\n"
   ]
  },
  {
   "cell_type": "markdown",
   "metadata": {},
   "source": [
    "### Cryptocurrency Log Return Correlation Plot for 2021"
   ]
  },
  {
   "cell_type": "code",
   "execution_count": null,
   "metadata": {},
   "outputs": [],
   "source": [
    "# time frame selection: from datetime to timestamp\n",
    "totimestamp= lambda s: np.int32(time.mktime(datetime.strptime(s,\"%d/%m/%Y\").timetuple()))\n",
    "\n",
    "# Log Return \n",
    "def log_return(series, periods=1):\n",
    "    return np.log(series).diff(periods=periods)\n",
    "\n",
    "#\n",
    "\n",
    "all2021=pd.DataFrame([])\n",
    "for asset_id, asset_name in zip(info.Asset_ID, info.Asset_Name):\n",
    "    #change time\n",
    "    asset=ctrain[ctrain[\"Asset_ID\"]==asset_id].set_index(\"timestamp\")\n",
    "    \n",
    "    #take the specific timeframe\n",
    "    asset=asset.loc[totimestamp(\"01/01/2021\"):totimestamp(\"21/09/2021\")]\n",
    "    \n",
    "    #reindex with the same delta\n",
    "    #pad: Propagate last valid observation forward to next valid.\n",
    "    asset=asset.reindex(range(asset.index[0],asset.index[-1]+60,60), method=\"pad\")\n",
    "    lret=log_return(asset.Close.fillna(0))[1:]\n",
    "    all2021=all2021.join(lret,rsuffix=asset_name,how=\"outer\")\n",
    "    \n",
    "# plot the heatmap\n",
    "corr = all2021.corr()\n",
    "fig = sns.heatmap(corr, \n",
    "        xticklabels=corr.columns,\n",
    "        yticklabels=corr.columns)\n",
    "\n",
    "fig.get_figure().savefig('corr.jpg')\n",
    "\n"
   ]
  },
  {
   "cell_type": "code",
   "execution_count": null,
   "metadata": {},
   "outputs": [],
   "source": []
  },
  {
   "cell_type": "code",
   "execution_count": null,
   "metadata": {},
   "outputs": [],
   "source": [
    "all2021.corr()"
   ]
  },
  {
   "cell_type": "code",
   "execution_count": null,
   "metadata": {},
   "outputs": [],
   "source": [
    "def get_redundant_pairs(df):\n",
    "    '''Get diagonal and lower triangular pairs of correlation matrix'''\n",
    "    pairs_to_drop = set()\n",
    "    cols = df.columns\n",
    "    for i in range(0, df.shape[1]):\n",
    "        for j in range(0, i+1):\n",
    "            pairs_to_drop.add((cols[i], cols[j]))\n",
    "    return pairs_to_drop\n",
    "\n",
    "def get_top_abs_correlations(df, n=5):\n",
    "    au_corr = df.corr().abs().unstack()\n",
    "    labels_to_drop = get_redundant_pairs(df)\n",
    "    au_corr = au_corr.drop(labels=labels_to_drop).sort_values(ascending=False)\n",
    "    return au_corr[0:n]\n",
    "get_top_abs_correlations(all2021, n=10)\n"
   ]
  },
  {
   "cell_type": "code",
   "execution_count": null,
   "metadata": {},
   "outputs": [],
   "source": [
    "# join two asset in single DataFrame\n",
    "\n",
    "lret_btc_long = log_return(btc.Close)[1:]\n",
    "lret_eth_long = log_return(eth.Close)[1:]\n",
    "lret_btc_long.rename('lret_btc', inplace=True)\n",
    "lret_eth_long.rename('lret_eth', inplace=True)\n",
    "two_assets = pd.concat([lret_btc_long, lret_eth_long], axis=1)\n",
    "\n",
    "# group consecutive rows and use .corr() for correlation between columns\n",
    "corr_time = two_assets.groupby(two_assets.index//(10000*60)).corr().loc[:,\"lret_btc\"].loc[:,\"lret_eth\"]\n",
    "\n",
    "corr_time.plot();\n",
    "plt.xticks([])\n",
    "plt.ylabel(\"Correlation\")\n",
    "plt.title(\"Correlation between BTC and ETH over time\");"
   ]
  },
  {
   "cell_type": "markdown",
   "metadata": {},
   "source": [
    "From the Correlation plot we can see Bitcoin Cash is highly correlated with EOS.IO.\n",
    "\n",
    "Binance Coin is correlated with many crypto currencies, such as , Bitcoin, Bitcoin Cash, Cardano, Ethereum.\n",
    "\n",
    "We can have a roughly conclude that Binance Coin, Bitcoin Cash prices have a strong relation with other cryptocurrencies. Whereas Dogecoin and Monero prices are quite independent. Ealier we mentioned Monero is based a donation, which makes sense it is not correlated so much with other coins.\n",
    "\n"
   ]
  },
  {
   "cell_type": "markdown",
   "metadata": {},
   "source": [
    "The corr changes from time "
   ]
  },
  {
   "cell_type": "code",
   "execution_count": null,
   "metadata": {},
   "outputs": [],
   "source": []
  },
  {
   "cell_type": "code",
   "execution_count": null,
   "metadata": {},
   "outputs": [],
   "source": [
    "all2021.shape"
   ]
  },
  {
   "cell_type": "code",
   "execution_count": null,
   "metadata": {},
   "outputs": [],
   "source": [
    "# Plot the Closing Price for BTC, ETH, ADA\n",
    "f= plt.figure(figsize=(10,12))  \n",
    "\n",
    "def gplot(no , data, price, label, ylabel, color):\n",
    "    ax=f.add_subplot(no)\n",
    "    plt.plot(data[price], label=label, color=color)\n",
    "    plt.legend()\n",
    "    plt.xlabel(\"Time\")\n",
    "    plt.ylabel(ylabel)\n",
    "    return plt\n",
    "\n",
    "gplot(no=311, data=btc, price=\"Close\" , label=\"BTC 2021 Overall Performance\", ylabel=\"BTC Closing Price\", color=\"Lightskyblue\")\n",
    "gplot(no=312, data=eth, price=\"Close\" ,label=\"ETH 2021 Overall Performance\", ylabel=\"ETH Closing Price\", color=\"Coral\")\n",
    "gplot(no=313, data=ada, price=\"Close\" ,label=\"Cardano 2021 Overall Performance\", ylabel=\"ADA Closing Price\", color=\"khaki\")\n",
    "\n",
    "plt.tight_layout()\n",
    "plt.show()"
   ]
  },
  {
   "cell_type": "code",
   "execution_count": null,
   "metadata": {},
   "outputs": [],
   "source": [
    "#Target : 15 minute resudualized returns\n",
    "#Residual Return: An asset's residual return equals its excess return minus beta times the benchmark excess return.\n",
    "\n",
    "f= plt.figure(figsize=(10,12))  \n",
    "gplot(no=311, data=btc, price=\"Target\" , label=\"BTC 2021 15min Return Residue\", ylabel=\"BTC residual return\", color=\"Aqua\")\n",
    "gplot(no=312, data=eth, price=\"Target\" ,label=\"ETH 2021 15min Return Residue\", ylabel=\"ETH residual return\", color=\"Pink\")\n",
    "gplot(no=313, data=ada, price=\"Target\" ,label=\"ADA 2021 15min Return Residue\", ylabel=\"ADA residual return\", color=\"gold\")\n",
    "\n",
    "\n",
    "plt.tight_layout()\n",
    "plt.show()"
   ]
  },
  {
   "cell_type": "markdown",
   "metadata": {},
   "source": [
    "As we can see ETH, and BTC residual return are relatively stable compared to ADA. This might be a good implication that if the investor would take short time trading opportunities, ADA is a better choice.\n",
    "\n",
    "If the investor is risk averse, BTC or ETH will be a better fit"
   ]
  },
  {
   "cell_type": "code",
   "execution_count": null,
   "metadata": {},
   "outputs": [],
   "source": [
    "#candlestick\n",
    "\n",
    "def c_chart(data,label):\n",
    "    candlestick = go.Figure(data = [go.Candlestick(x =data.index, \n",
    "                                               open = data[('Open')], \n",
    "                                               high = data[('High')], \n",
    "                                               low = data[('Low')], \n",
    "                                               close = data[('Close')])])\n",
    "    candlestick.update_xaxes(title_text = 'Time',\n",
    "                             rangeslider_visible = True)\n",
    "\n",
    "    candlestick.update_layout(\n",
    "    title = {\n",
    "        'text': '{:} Candelstick Chart'.format(label),\n",
    "        \"y\":0.8,\n",
    "        \"x\":0.5,\n",
    "        'xanchor': 'center',\n",
    "        'yanchor': 'top'})\n",
    "\n",
    "    candlestick.update_yaxes(title_text = 'Price in USD', ticksuffix = '$')\n",
    "    return candlestick\n",
    "\n",
    "%matplotlib inline\n",
    "btc_candle=c_chart(btc[-90:], label=\"BTC Price\")\n",
    "btc_candle.show()\n",
    "\n",
    "eth_candle=c_chart(eth[-90:], label=\"ETH Price \")\n",
    "eth_candle.show()"
   ]
  },
  {
   "cell_type": "code",
   "execution_count": null,
   "metadata": {},
   "outputs": [],
   "source": []
  },
  {
   "cell_type": "markdown",
   "metadata": {},
   "source": [
    "ARIMA Model \n"
   ]
  },
  {
   "cell_type": "code",
   "execution_count": null,
   "metadata": {},
   "outputs": [],
   "source": [
    "# Function to Subset the Price variables\n",
    "def mini_data(data):\n",
    "    df=data[[\"Close\",\"Low\",\"High\",\"Open\"]]\n",
    "    return df\n",
    "\n",
    "btc_mini=mini_data(btc)\n",
    "eth_mini=mini_data(eth)\n",
    "ada_mini=mini_data(ada)\n",
    "btc_mini.head()"
   ]
  },
  {
   "cell_type": "code",
   "execution_count": null,
   "metadata": {},
   "outputs": [],
   "source": [
    "# BTC Seasonal Decomposition\n",
    "plt.rcParams[\"figure.figsize\"]=(15,7)\n",
    "\n",
    "def season_df(data, label):\n",
    "    df=data.resample(\"M\").mean()\n",
    "    seasonal_decompose(df.Close).plot()\n",
    "    print(label)\n",
    "    return plt.show()\n",
    "\n",
    "season_df(data=btc, label=\"BTC Seasonal Decomposition\")"
   ]
  },
  {
   "cell_type": "code",
   "execution_count": null,
   "metadata": {},
   "outputs": [],
   "source": [
    "\n",
    "# CALCULATE PRICE RETURNS AS DAILY PERCENTAGE CHANGE USING pct_change()\n",
    "btc['returns'] = 100 * btc.Close.pct_change().dropna()\n",
    "\n",
    "\n",
    "\n",
    "# CALCULATE LOG RETURNS BASED ON ABOVE FORMULA\n",
    "btc['log_returns'] = np.log(btc.Close/btc.Close.shift(1))\n",
    "\n",
    "btc.dropna(inplace=True)\n",
    "\n",
    "# PLOT DISTRIBUTION PLOTS OF RETURNS & LOG RETURNS\n",
    "# AND VISUALLY COMPARE THEM WITH THE STANDARD NORMAL DISTRIBUTION\n",
    "df = btc.copy()\n",
    "with sns.axes_style(\"darkgrid\"):\n",
    "    fig, axes = plt.subplots(nrows=2, ncols=2, figsize=(18,12))\n",
    "\n",
    "    axes[0][0].plot(df.returns, color='blue')\n",
    "    axes[0][0].set_title('Returns')\n",
    "\n",
    "    sns.distplot(df.returns, norm_hist=True, fit=stats.norm, color='blue',\n",
    "                bins=50, ax=axes[0][1])\n",
    "    axes[0][1].set_title('Returns')\n",
    "\n",
    "    axes[1][0].plot(df.log_returns, color='green')\n",
    "    axes[1][0].set_title('Log Returns')\n",
    "\n",
    "    sns.distplot(df.log_returns, norm_hist=True, fit=stats.norm, color='green',\n",
    "                bins=50, ax=axes[1][1])\n",
    "    axes[1][1].set_title('Log Returns')\n",
    "    plt.tight_layout()\n",
    "\n",
    "    fig.show();"
   ]
  },
  {
   "cell_type": "code",
   "execution_count": null,
   "metadata": {},
   "outputs": [],
   "source": [
    "from scipy.stats import kurtosis, skew\n",
    "\n",
    "#returns\n",
    "print( 'returns: excess kurtosis of normal distribution (should be 0): {}'.format( kurtosis(df.returns) ))\n",
    "print( 'returns: skewness of normal distribution (should be 0): {}'.format( skew(df.returns) ))\n",
    "\n",
    "#log_returns\n",
    "print( 'log_returns: excess kurtosis of normal distribution (should be 0): {}'.format( kurtosis(df.log_returns) ))\n",
    "print( 'log_returns: skewness of normal distribution (should be 0): {}'.format( skew(df.log_returns) ))"
   ]
  },
  {
   "cell_type": "markdown",
   "metadata": {},
   "source": [
    "- skewness:\n",
    "returns - positive, log_returns - negative\n",
    "\n",
    "- positive kurtosis (leptokurtic) - Both Returns & Log Returns show higher peak with thicker tails than the standard normal distribution.\n"
   ]
  },
  {
   "cell_type": "markdown",
   "metadata": {},
   "source": [
    "# Box-Cox Transformation for A\n",
    "Sometimes after applying Box-Cox with a particular value of lambda the process may look stationary. It is sometimes possible that even if after applying the Box-Cox transformation the series does not appear to be stationary, diagnostics from ARIMA modeling can then be used to decide if differencing or seasonal differencing might be useful to to remove polynomial trends or seasonal trends respectively. After that the result might be an ARMA model that is stationary. If diagnostics confirm the orders p an q for the ARMA model, the AR and MA parameters can then be estimated.\n"
   ]
  },
  {
   "cell_type": "code",
   "execution_count": null,
   "metadata": {},
   "outputs": [],
   "source": [
    "#Box-Cox Transformation\n",
    "btc_month=btc_mini.resample(\"M\").mean()\n",
    "btc_month[\"close_box\"], lmbda=stats.boxcox(btc_month.Close)\n",
    "print(\"Dickey–Fuller test: p=%f\" % adfuller(btc_month.close_box)[1])\n"
   ]
  },
  {
   "cell_type": "markdown",
   "metadata": {},
   "source": [
    "The p-value indicates that series is still not stationary.\n",
    "\n"
   ]
  },
  {
   "cell_type": "markdown",
   "metadata": {},
   "source": [
    "Seasonal differentiation \n",
    "One method of differencing data is seasonal differencing, which involves computing the difference between an observation and the corresponding observation in the previous year."
   ]
  },
  {
   "cell_type": "code",
   "execution_count": null,
   "metadata": {},
   "outputs": [],
   "source": [
    "# Seasonal differentiation (12 months)\n",
    "btc_month['box_diff_seasonal_12'] = btc_month.close_box - btc_month.close_box.shift(12)\n",
    "print(\"Dickey–Fuller test: p=%f\" % adfuller(btc_month.box_diff_seasonal_12[12:])[1])"
   ]
  },
  {
   "cell_type": "markdown",
   "metadata": {},
   "source": [
    "The p-value indicates that series is still not stationary.\n",
    "\n"
   ]
  },
  {
   "cell_type": "code",
   "execution_count": null,
   "metadata": {},
   "outputs": [],
   "source": [
    "# Seasonal differentiation (3 months)\n",
    "btc_month['box_diff_seasonal_3'] = btc_month.close_box - btc_month.close_box.shift(3)\n",
    "print(\"Dickey–Fuller test: p=%f\" % adfuller(btc_month.box_diff_seasonal_3[3:])[1])"
   ]
  },
  {
   "cell_type": "markdown",
   "metadata": {},
   "source": [
    "The p-value indicates that series is stationary as the computed p-value is lower than the significance level alpha = 0.05."
   ]
  },
  {
   "cell_type": "markdown",
   "metadata": {},
   "source": [
    "### Regular differentiation \n",
    "Sometimes it may be necessary to difference the data a second time to obtain a stationary time series, which is referred to as second order differencing"
   ]
  },
  {
   "cell_type": "code",
   "execution_count": null,
   "metadata": {},
   "outputs": [],
   "source": [
    "# Regular differentiation (second diff)\n",
    "btc_month['box_diff2'] = btc_month.box_diff_seasonal_12 - btc_month.box_diff_seasonal_12.shift(1)\n",
    "\n",
    "# STL-decomposition\n",
    "seasonal_decompose(btc_month.box_diff2[13:]).plot()   \n",
    "print(\"Dickey–Fuller test: p=%f\" % adfuller(btc_month.box_diff2[13:])[1])\n",
    "\n",
    "plt.show()"
   ]
  },
  {
   "cell_type": "markdown",
   "metadata": {},
   "source": [
    "The p-value indicates that series is stationary as the computed p-value is lower than the significance level alpha = 0.05."
   ]
  },
  {
   "cell_type": "markdown",
   "metadata": {},
   "source": [
    "### Autocorrelation \n",
    "Autocorrelation is the correlation of a time series with the same time series lagged. It summarizes the strength of a relationship with an observation in a time series with observations at prior time steps.\n",
    "\n",
    "We create autocorrelation factor (ACF) and partial autocorrelation factor (PACF) plots to identify patterns in the above data which is stationary on both mean and variance. The idea is to identify presence of AR and MA components in the residuals."
   ]
  },
  {
   "cell_type": "code",
   "execution_count": null,
   "metadata": {},
   "outputs": [],
   "source": [
    "#autocorrelation_plot(btc_month.close)\n",
    "plot_acf(btc_month.Close[13:].values.squeeze(), lags=12)\n",
    "\n",
    "plt.tight_layout()\n",
    "plt.show()"
   ]
  },
  {
   "cell_type": "markdown",
   "metadata": {},
   "source": [
    "There is a positive correlation with the first 9 lags that is perhaps significant for the first 3 lags.\n",
    "\n",
    "A good starting point for the AR parameter of the model may be 3.\n",
    "\n",
    "Lets try out autocorrelation on the differences"
   ]
  },
  {
   "cell_type": "code",
   "execution_count": null,
   "metadata": {},
   "outputs": [],
   "source": [
    "# Initial approximation of parameters using Autocorrelation and Partial Autocorrelation Plots\n",
    "ax = plt.subplot(211)\n",
    "# Plot the autocorrelation function\n",
    "#sm.graphics.tsa.plot_acf(btc_month.box_diff2[13:].values.squeeze(), lags=48, ax=ax)\n",
    "plot_acf(btc_month.box_diff2[13:].values.squeeze(), lags=12, ax=ax)\n",
    "ax = plt.subplot(212)\n",
    "#sm.graphics.tsa.plot_pacf(btc_month.box_diff2[13:].values.squeeze(), lags=48, ax=ax)\n",
    "plot_pacf(btc_month.box_diff2[13:].values.squeeze(), lags=12, ax=ax)\n",
    "plt.tight_layout()\n",
    "plt.show()"
   ]
  },
  {
   "cell_type": "markdown",
   "metadata": {},
   "source": [
    "There are not many spikes in the plots outside the insignificant zone (shaded) so there may not be enough information available in the residuals to be extracted by AR and MA models."
   ]
  },
  {
   "cell_type": "markdown",
   "metadata": {},
   "source": [
    "### Arima"
   ]
  },
  {
   "cell_type": "markdown",
   "metadata": {},
   "source": [
    "AutoRegressive Integrated Moving Average\n",
    "\n",
    "ARIMA models are denoted with the notation ARIMA(p, d, q). These parameters account for seasonality, trend, and noise in datasets:"
   ]
  },
  {
   "cell_type": "markdown",
   "metadata": {},
   "source": [
    "p - the number of lag observations to include in the model, or lag order. (AR)\n",
    "d - the number of times that the raw observations are differenced, or the degree of differencing. (I)\n",
    "q - the size of the moving average window, also called the order of moving average.(MA)"
   ]
  },
  {
   "cell_type": "markdown",
   "metadata": {},
   "source": [
    "A linear regression model is constructed including the specified number and type of terms, and the data is prepared by a degree of differencing in order to make it stationary, i.e. to remove trend and seasonal structures that negatively affect the regression model. A value of 0 for a parameter indicates to not use that element of the model."
   ]
  },
  {
   "cell_type": "markdown",
   "metadata": {},
   "source": [
    "### Parameter Selection\n",
    "We will iteratively explore different combinations of parameters. For each combination we fit a new ARIMA model with SARIMAX() and assess its overall quality.\n",
    "\n",
    "We will use the AIC (Akaike Information Criterion) value, returned with ARIMA models fitted using statsmodels. The AIC measures how well a model fits the data while taking into account the overall complexity of the model. A model that fits the data very well while using lots of features will be assigned a larger AIC score than a model that uses fewer features to achieve the same goodness-of-fit. Therefore, we are interested in finding the model that yields the lowest AIC value."
   ]
  },
  {
   "cell_type": "code",
   "execution_count": null,
   "metadata": {},
   "outputs": [],
   "source": [
    "btc_month.index"
   ]
  },
  {
   "cell_type": "code",
   "execution_count": null,
   "metadata": {},
   "outputs": [],
   "source": []
  },
  {
   "cell_type": "code",
   "execution_count": null,
   "metadata": {},
   "outputs": [],
   "source": [
    "#start=datetime(2018, 1, 31), end=datetime(2021, 5, 31)\n",
    "\n",
    "btc_month.index"
   ]
  },
  {
   "cell_type": "code",
   "execution_count": null,
   "metadata": {},
   "outputs": [],
   "source": [
    "qs = range(0, 3)\n",
    "ps = range(0, 3)\n",
    "d=1\n",
    "parameters = product(ps, qs)\n",
    "parameters_list = list(parameters)\n",
    "len(parameters_list)\n",
    "\n",
    "# Model Selection\n",
    "results = []\n",
    "best_aic = float(\"inf\")\n",
    "warnings.filterwarnings('ignore')\n",
    "for param in parameters_list:\n",
    "    try:\n",
    "        model = SARIMAX(btc_month['2018-01-31':'2021-05-31'].close_box, order=(param[0], d, param[1])).fit(disp=-1)\n",
    "    except ValueError:\n",
    "        print('bad parameter combination:', param)\n",
    "        continue\n",
    "    aic = model.aic\n",
    "    if aic < best_aic:\n",
    "        best_model = model\n",
    "        best_aic = aic\n",
    "        best_param = param\n",
    "    results.append([param, model.aic])"
   ]
  },
  {
   "cell_type": "code",
   "execution_count": null,
   "metadata": {},
   "outputs": [],
   "source": [
    "result_table = pd.DataFrame(results)\n",
    "result_table.columns = ['parameters', 'aic']\n",
    "print(result_table.sort_values(by = 'aic', ascending=True).head())\n",
    "print(best_model.summary())"
   ]
  },
  {
   "cell_type": "code",
   "execution_count": null,
   "metadata": {},
   "outputs": [],
   "source": [
    "print(\"Dickey–Fuller test:: p=%f\" % adfuller(best_model.resid[13:])[1])\n"
   ]
  },
  {
   "cell_type": "markdown",
   "metadata": {},
   "source": [
    "### Analysis of Results \n",
    "The coef column shows the weight (i.e. importance) of each feature and how each one impacts the time series. The P>|z| column informs us of the significance of each feature weight. Here, each weight has a p-value lower or close to 0.05, so it is reasonable to retain all of them in our model.\n",
    "\n",
    "When fitting seasonal ARIMA models (and any other models for that matter), it is important to run model diagnostics to ensure that none of the assumptions made by the model have been violated. The plot_diagnostics object allows us to quickly generate model diagnostics and investigate for any unusual behavior."
   ]
  },
  {
   "cell_type": "markdown",
   "metadata": {},
   "source": [
    "Our primary concern is to ensure that the residuals of our model are uncorrelated and normally distributed with zero-mean. If the seasonal ARIMA model does not satisfy these properties, it is a good indication that it can be further improved.\n",
    "In the histogram (top right), the KDE line should follow the N(0,1) line (normal distribution with mean 0, standard deviation 1) closely. This is an indication whether the residuals are normally distributed or not.\n",
    "In the Q-Q-plot the ordered distribution of residuals (blue dots) should follow the linear trend of the samples taken from a standard normal distribution with N(0, 1). Again, this is an indication whether the residuals are normally distributed.\n",
    "\n",
    "The standardized residual(top left) plot doesn't display any obvious seasonality. \n",
    "This is confirmed by the Correlogram (bottom right), which shows that the time series residuals have low correlation with lagged versions of itself. (?)"
   ]
  },
  {
   "cell_type": "code",
   "execution_count": null,
   "metadata": {},
   "outputs": [],
   "source": [
    "best_model.plot_diagnostics(figsize=(15, 12))\n",
    "plt.show()"
   ]
  },
  {
   "cell_type": "markdown",
   "metadata": {},
   "source": [
    "Conclusion: We may consider trying to standardise the distribution further. But lets go ahead and do a prediction anyway..."
   ]
  },
  {
   "cell_type": "code",
   "execution_count": null,
   "metadata": {},
   "outputs": [],
   "source": [
    "btc_month[['Close']]"
   ]
  },
  {
   "cell_type": "code",
   "execution_count": null,
   "metadata": {},
   "outputs": [],
   "source": [
    "#one-step ahead predictions\n",
    "def invboxcox(y,lmbda):\n",
    "    if lmbda == 0:\n",
    "        return(np.exp(y))\n",
    "    else:\n",
    "        return(np.exp(np.log(lmbda*y+1)/lmbda))\n",
    "# Prediction\n",
    "\n",
    "btc_month_pred['forecast'] = invboxcox(best_model.predict(start=datetime(2018, 1, 31), end=datetime(2021, 9, 21)), lmbda)\n",
    "plt.figure(figsize=(18,10))\n",
    "btc_month_pred.Close.plot()\n",
    "btc_month_pred.forecast.plot(color='r', ls='--', label='Predicted Close')\n",
    "plt.legend()\n",
    "plt.title('Bitcoin monthly forecast')\n",
    "plt.ylabel('USD')\n",
    "plt.show()"
   ]
  },
  {
   "cell_type": "code",
   "execution_count": null,
   "metadata": {},
   "outputs": [],
   "source": [
    "#one-step ahead predictions\n",
    "def invboxcox(y,lmbda):\n",
    "    if lmbda == 0:\n",
    "        return(np.exp(y))\n",
    "    else:\n",
    "        return(np.exp(np.log(lmbda*y+1)/lmbda))\n",
    "    \n",
    "# Prediction\n",
    "btc_month_pred = btc_month[['Close']]\n",
    "date_list = [datetime(2021, 6, 20), datetime(2021, 7, 20), datetime(2021, 8, 21), datetime(2021, 9, 21)]\n",
    "future = pd.DataFrame(index=date_list, columns= btc_month.columns)\n",
    "btc_month_pred = pd.concat([btc_month_pred, future])\n",
    "btc_month_pred['forecast'] = invboxcox(best_model.predict(start=datetime(2018, 1, 31), end=datetime(2021, 5, 31)), lmbda)\n",
    "plt.figure(figsize=(18,10))\n",
    "btc_month_pred.Close.plot()\n",
    "btc_month_pred.forecast.plot(color='r', ls='--', label='Predicted Close')\n",
    "plt.legend()\n",
    "plt.title('Bitcoin monthly forecast')\n",
    "plt.ylabel('USD')\n",
    "plt.show()"
   ]
  },
  {
   "cell_type": "code",
   "execution_count": null,
   "metadata": {},
   "outputs": [],
   "source": []
  },
  {
   "cell_type": "code",
   "execution_count": null,
   "metadata": {},
   "outputs": [],
   "source": [
    "##Addd SARIMAX (week 6)\n",
    "##Add rmse\n",
    "##Add other metric that is used in the competition"
   ]
  },
  {
   "cell_type": "code",
   "execution_count": null,
   "metadata": {},
   "outputs": [],
   "source": []
  },
  {
   "cell_type": "markdown",
   "metadata": {},
   "source": [
    "### LSTM"
   ]
  },
  {
   "cell_type": "code",
   "execution_count": null,
   "metadata": {},
   "outputs": [],
   "source": [
    "import os\n",
    "import gc\n",
    "import traceback\n",
    "import numpy as np\n",
    "import pandas as pd\n",
    "import seaborn as sns\n",
    "import gresearch_crypto\n",
    "import tensorflow as tf\n",
    "from tensorflow import keras\n",
    "import matplotlib.pyplot as plt\n",
    "import pandas as pd, numpy as np\n",
    "from tensorflow.keras import layers\n",
    "import tensorflow_probability as tfp\n",
    "import tensorflow.keras.backend as K\n",
    "from sklearn.model_selection import KFold\n",
    "from sklearn.metrics import mean_squared_error\n",
    "from sklearn.preprocessing import RobustScaler\n",
    "from tensorflow.keras.preprocessing.sequence import TimeseriesGenerator\n",
    "pd.set_option('display.max_columns', None)"
   ]
  },
  {
   "cell_type": "code",
   "execution_count": null,
   "metadata": {},
   "outputs": [],
   "source": [
    "train_df = pd.read_csv('/kaggle/input/g-research-crypto-forecasting/train.csv')"
   ]
  },
  {
   "cell_type": "code",
   "execution_count": null,
   "metadata": {},
   "outputs": [],
   "source": [
    "# Impute Missing Time Value\n",
    "\"\"\"def c_time_sub(asset_id, data=ctrain):\n",
    "    df=data[ctrain[\"Asset_ID\"]==asset_id].set_index(\"timestamp\")\n",
    "    df=df.reindex(range(df.index[0],df.index[-1]+60,60), method=\"pad\")\n",
    "    return df\"\"\"\n",
    "\n",
    "train_df.index=train_df['timestamp']\n",
    "train = train_df.sort_index()\n",
    "ind = train.index.unique()\n",
    "def reindex(df):\n",
    "    df = df.reindex(range(ind[0],ind[-1]+60,60),method='nearest')\n",
    "    df = df.fillna(method=\"ffill\").fillna(method=\"bfill\")\n",
    "    return df\n",
    "train = train.groupby('Asset_ID').apply(reindex).reset_index(0, drop=True).sort_index()\n",
    "gc.collect()"
   ]
  },
  {
   "cell_type": "code",
   "execution_count": null,
   "metadata": {},
   "outputs": [],
   "source": [
    "train = train.reset_index(drop = True)\n",
    "train[['Count', 'Open', 'High', 'Low', 'Close', 'Volume', 'VWAP', 'Target']] = train[['Count', 'Open', 'High', 'Low', 'Close', 'Volume', 'VWAP', 'Target']].astype(np.float32)\n",
    "train['Target'] = train['Target'].fillna(0)\n",
    "\n",
    "VWAP_max = np.max(train[np.isfinite(train.VWAP)].VWAP)\n",
    "VWAP_min = np.min(train[np.isfinite(train.VWAP)].VWAP)\n",
    "train['VWAP'] = np.nan_to_num(train.VWAP, posinf=VWAP_max, neginf=VWAP_min)\n",
    "df = train[['Asset_ID', 'Target']].copy()\n",
    "\n",
    "times = dict((t,i) for i,t in enumerate(df.index.unique()))\n",
    "\n",
    "df['id'] = df.index.map(times)\n",
    "df['id'] = df['id'].astype(str) + '_' + df['Asset_ID'].astype(str)\n",
    "ids = df.id.copy()\n",
    "del df\n",
    "\n",
    "\n",
    "train = get_features(train)\n",
    "\n",
    "train_features = [i for i in train.columns if i not in ['Target', 'date', 'timestamp', 'Asset_ID', 'groups']]\n",
    "train.head()"
   ]
  },
  {
   "cell_type": "code",
   "execution_count": null,
   "metadata": {},
   "outputs": [],
   "source": [
    "train['Target'] = train['Target'].fillna(0)\n"
   ]
  },
  {
   "cell_type": "code",
   "execution_count": null,
   "metadata": {},
   "outputs": [],
   "source": [
    "train['Target'].head()"
   ]
  },
  {
   "cell_type": "code",
   "execution_count": null,
   "metadata": {},
   "outputs": [],
   "source": [
    "DEVICE = \"TPU\" #or \"GPU\"\n",
    "\n",
    "SEED = 42\n",
    "\n",
    "EPOCHS = 10\n",
    "DEBUG = True\n",
    "N_ASSETS = 1\n",
    "WINDOW_SIZE = 15\n",
    "BATCH_SIZE = 1024\n",
    "PCT_VALIDATION = 10 # last 10% of the data are used as validation set"
   ]
  },
  {
   "cell_type": "code",
   "execution_count": null,
   "metadata": {},
   "outputs": [],
   "source": [
    "train = train_df.copy()\n",
    "\n",
    "targets = train['Target'].to_numpy().reshape(-1, N_ASSETS)\n",
    "features = train.columns.drop(['Asset_ID', 'Target','timestamp'])\n",
    "train = train[features]\n",
    "train = train.values\n",
    "train = train.reshape(-1, N_ASSETS, train.shape[-1])"
   ]
  },
  {
   "cell_type": "markdown",
   "metadata": {},
   "source": [
    "## Dataset creation\n",
    "Samples with a duration of WINDOW_SIZE records (minutes) will be formed from the train array. Each sample has a target vector corresponding to the final index if WINDOW_SIZE record."
   ]
  },
  {
   "cell_type": "code",
   "execution_count": null,
   "metadata": {},
   "outputs": [],
   "source": [
    "class sample_generator(keras.utils.Sequence):\n",
    "    def __init__(self, x_set, y_set, batch_size, length):\n",
    "        self.x, self.y = x_set, y_set\n",
    "        self.batch_size = batch_size\n",
    "        self.length = length\n",
    "        self.size = len(x_set)\n",
    "    def __len__(self): return int(np.ceil(len(self.x) / float(self.batch_size)))\n",
    "    def __getitem__(self, idx):\n",
    "        batch_x=[]\n",
    "        batch_y=[]\n",
    "        for i in range(self.batch_size):\n",
    "            start_ind = self.batch_size*idx + i\n",
    "            end_ind = start_ind + self.length \n",
    "            if end_ind <= self.size:\n",
    "                batch_x.append(self.x[start_ind : end_ind])\n",
    "                batch_y.append(self.y[end_ind -1])\n",
    "        return np.array(batch_x), np.array(batch_y)"
   ]
  },
  {
   "cell_type": "code",
   "execution_count": null,
   "metadata": {},
   "outputs": [],
   "source": [
    "X_train, X_test = train[:-len(train)//PCT_VALIDATION], train[-len(train)//PCT_VALIDATION:]\n",
    "y_train, y_test = targets[:-len(train)//PCT_VALIDATION], targets[-len(train)//PCT_VALIDATION:]"
   ]
  },
  {
   "cell_type": "code",
   "execution_count": null,
   "metadata": {},
   "outputs": [],
   "source": [
    "train_generator = sample_generator(X_train, y_train, length = WINDOW_SIZE, batch_size = BATCH_SIZE)\n",
    "val_generator = sample_generator(X_test, y_test, length = WINDOW_SIZE, batch_size = BATCH_SIZE)\n",
    "print(f'Sample shape: {train_generator[0][0].shape}')\n",
    "print(f'Target shape: {train_generator[0][1].shape}')"
   ]
  },
  {
   "cell_type": "markdown",
   "metadata": {},
   "source": [
    "## Training\n",
    "Our model will be trained for the number of FOLDS and EPOCHS you chose in the configuration above. Each fold the model with lowest validation loss will be saved and used to predict OOF and test. Adjust the variable VERBOSE. The variable VERBOSE=1 or 2 will display the training and validation loss for each epoch as text."
   ]
  },
  {
   "cell_type": "code",
   "execution_count": null,
   "metadata": {},
   "outputs": [],
   "source": [
    "#Correlations for predicted and real\n",
    "def MaxCorrelation(y_true,y_pred): \n",
    "    return -tf.math.abs(tfp.stats.correlation(y_pred,y_true, sample_axis=None, event_axis=None))\n",
    "def Correlation(y_true,y_pred): \n",
    "    return tf.math.abs(tfp.stats.correlation(y_pred,y_true, sample_axis=None, event_axis=None))\n",
    "\n",
    "#Masked losses\n",
    "def masked_mse(y_true, y_pred):\n",
    "    mask = tf.math.not_equal(y_true, 0.)\n",
    "    y_true_masked = tf.boolean_mask(y_true, mask)\n",
    "    y_pred_masked = tf.boolean_mask(y_pred, mask)\n",
    "    return tf.keras.losses.mean_squared_error(y_true = y_true_masked, y_pred = y_pred_masked)\n",
    "\n",
    "\n",
    "def masked_mae(y_true, y_pred):\n",
    "    mask = tf.math.not_equal(y_true, 0.)\n",
    "    y_true_masked = tf.boolean_mask(y_true, mask)\n",
    "    y_pred_masked = tf.boolean_mask(y_pred, mask)\n",
    "    return tf.keras.losses.mean_absolute_error(y_true = y_true_masked, y_pred = y_pred_masked)\n",
    "\n",
    "def masked_cosine(y_true, y_pred):\n",
    "    mask = tf.math.not_equal(y_true, 0.)\n",
    "    y_true_masked = tf.boolean_mask(y_true, mask)\n",
    "    y_pred_masked = tf.boolean_mask(y_pred, mask)\n",
    "    return tf.keras.losses.cosine_similarity(y_true_masked, y_pred_masked)"
   ]
  },
  {
   "cell_type": "code",
   "execution_count": null,
   "metadata": {},
   "outputs": [],
   "source": [
    "#Long Short-Term Memory layer\n",
    "def get_squence_model(x):\n",
    "    x = layers.LSTM(units=32, return_sequences=True)(x)\n",
    "    return x\n",
    "\n",
    "#Model\n",
    "def get_model(n_assets = N_ASSETS):\n",
    "    x_input = keras.Input(shape=(train_generator[0][0].shape[1], n_assets, train_generator[0][0].shape[-1]))\n",
    "    branch_outputs = []\n",
    "    for i in range(n_assets):\n",
    "        a = layers.Lambda(lambda x: x[:,:, i])(x_input) # Slicing the ith asset:\n",
    "        a = layers.Masking(mask_value = 0., )(a)\n",
    "        a = get_squence_model(a)\n",
    "        a = layers.GlobalAvgPool1D()(a)\n",
    "        branch_outputs.append(a)\n",
    "    x = layers.Concatenate()(branch_outputs)\n",
    "    x = layers.Dense(units = 128)(x)\n",
    "    out = layers.Dense(units = n_assets)(x)\n",
    "    model = keras.Model(inputs=x_input, outputs=out)\n",
    "    model.compile(optimizer = tf.keras.optimizers.Adam(learning_rate=1e-3), loss = masked_cosine, metrics=[Correlation])\n",
    "    return model\n",
    "\n",
    "model = get_model()\n",
    "model.summary()"
   ]
  },
  {
   "cell_type": "code",
   "execution_count": null,
   "metadata": {},
   "outputs": [],
   "source": [
    "tf.keras.utils.plot_model(get_model(n_assets=1), show_shapes=True)"
   ]
  },
  {
   "cell_type": "code",
   "execution_count": null,
   "metadata": {},
   "outputs": [],
   "source": [
    "print(features)"
   ]
  },
  {
   "cell_type": "code",
   "execution_count": null,
   "metadata": {},
   "outputs": [],
   "source": [
    "tf.random.set_seed(0)\n",
    "estop = keras.callbacks.EarlyStopping(monitor = 'val_loss', patience = 7, verbose = 0, mode = 'min',restore_best_weights = True)\n",
    "scheduler = keras.optimizers.schedules.ExponentialDecay(1e-3, (0.5 * len(X_train) / BATCH_SIZE), 1e-3)\n",
    "lr = keras.callbacks.LearningRateScheduler(scheduler, verbose = 1)\n",
    "\n",
    "history = model.fit(train_generator, validation_data = (val_generator), epochs = EPOCHS, callbacks = [lr, estop])\n"
   ]
  },
  {
   "cell_type": "code",
   "execution_count": null,
   "metadata": {},
   "outputs": [],
   "source": [
    "fig, ax = plt.subplots(1, 2, figsize=(16, 8))\n",
    "histories = pd.DataFrame(history.history)\n",
    "epochs = list(range(1,len(histories)+1))\n",
    "loss = histories['loss']\n",
    "val_loss = histories['val_loss']\n",
    "Correlation = histories['Correlation']\n",
    "val_Correlation = histories['val_Correlation']\n",
    "ax[0].plot(epochs, loss, label = 'Train Loss')\n",
    "ax[0].plot(epochs, val_loss, label = 'Val Loss')\n",
    "ax[0].set_title('Losses')\n",
    "ax[0].set_xlabel('Epoch')\n",
    "ax[0].legend(loc='upper right')\n",
    "ax[1].plot(epochs, Correlation, label = 'Train Correlation')\n",
    "ax[1].plot(epochs, val_Correlation, label = 'Val Correlation')\n",
    "ax[1].set_title('Correlations')\n",
    "ax[1].set_xlabel('Epoch')\n",
    "ax[1].legend(loc='upper right')\n",
    "fig.show()\n",
    "gc.collect()"
   ]
  },
  {
   "cell_type": "markdown",
   "metadata": {},
   "source": [
    "## Submit to Kaggle"
   ]
  },
  {
   "cell_type": "code",
   "execution_count": null,
   "metadata": {},
   "outputs": [],
   "source": [
    "env = gresearch_crypto.make_env()\n",
    "iter_test = env.iter_test()\n",
    "\n",
    "for (test_df, sample_prediction_df) in iter_test:\n",
    "    test_df = get_features(test_df)\n",
    "    test_data = test_df.merge(example, how='outer', on='Asset_ID').sort_values('asset_order')\n",
    "    test = np.array(test_data[features].fillna(0))\n",
    "    test = test.reshape(-1, 1, N_ASSETS, test.shape[-1])\n",
    "    test_sample = np.hstack([test_sample, test])[:,-1 * WINDOW_SIZE:]\n",
    "    y_pred = model.predict(test_sample).squeeze().reshape(-1, 1).squeeze()\n",
    "    test_data['Target'] = y_pred\n",
    "    for _, row in test_df.iterrows():\n",
    "        try: sample_prediction_df.loc[sample_prediction_df['row_id'] == row['row_id'], 'Target'] = test_data.loc[test_data['row_id'] == row['row_id'], 'Target'].item()\n",
    "        except: sample_prediction_df.loc[sample_prediction_df['row_id'] == row['row_id'], 'Target'] = 0\n",
    "    env.predict(sample_prediction_df)"
   ]
  },
  {
   "cell_type": "code",
   "execution_count": null,
   "metadata": {},
   "outputs": [],
   "source": []
  },
  {
   "cell_type": "code",
   "execution_count": null,
   "metadata": {},
   "outputs": [],
   "source": [
    "#library\n",
    "import os\n",
    "from datetime import datetime\n",
    "import time\n",
    "from sklearn.preprocessing import StandardScaler\n",
    "import plotly.express as px\n",
    "import plotly.graph_objs as go\n",
    "import matplotlib.pyplot as plt\n",
    "import seaborn as sns\n",
    "import math\n",
    "\n",
    "import statsmodels.api as sm\n",
    "from statsmodels.tsa.ar_model import AutoReg\n",
    "from statsmodels.tsa.arima_model import ARMA\n",
    "from statsmodels.tsa.stattools import adfuller\n",
    "from statsmodels.graphics.tsaplots import plot_acf\n",
    "from statsmodels.graphics.tsaplots import plot_pacf\n",
    "from statsmodels.tsa.arima_model import ARIMA\n",
    "from statsmodels.tsa.statespace.sarimax import SARIMAX\n",
    "from statsmodels.tsa.seasonal import seasonal_decompose\n",
    "from scipy import stats\n",
    "from itertools import product\n",
    "\n",
    "\n",
    "from statsmodels.graphics.tsaplots import plot_acf, plot_pacf\n",
    "\n",
    "\n",
    "\n",
    "\n",
    "import warnings\n",
    "warnings.filterwarnings(\"ignore\")\n",
    "import numpy as np # linear algebra\n",
    "import pandas as pd # data processing, CSV file I/O (e.g. pd.read_csv)\n",
    "\n",
    "import os\n",
    "for dirname, _, filenames in os.walk('/kaggle/input'):\n",
    "    for filename in filenames:\n",
    "        print(os.path.join(dirname, filename))\n",
    "        \n",
    "        \n",
    "        \n",
    "info = pd.read_csv(\"/kaggle/input/g-research-crypto-forecasting/asset_details.csv\")\n",
    "ctrain = pd.read_csv(\"/kaggle/input/g-research-crypto-forecasting/train.csv\")\n"
   ]
  },
  {
   "cell_type": "code",
   "execution_count": null,
   "metadata": {},
   "outputs": [],
   "source": [
    "info = pd.read_csv(\"/kaggle/input/g-research-crypto-forecasting/asset_details.csv\")\n",
    "ctrain = pd.read_csv(\"/kaggle/input/g-research-crypto-forecasting/train.csv\")\n"
   ]
  },
  {
   "cell_type": "code",
   "execution_count": null,
   "metadata": {},
   "outputs": [],
   "source": [
    "def preprocess_data(df,asset_id =1):    \n",
    "    df=df[df[\"Asset_ID\"]==asset_id].set_index(\"timestamp\")\n",
    "    df=df.reindex(range(df.index[0],df.index[-1]+60,60), method=\"pad\")\n",
    "    df.index = pd.to_datetime(df.index, unit='s')\n",
    "\n",
    "    # CALCULATE PRICE RETURNS AS DAILY PERCENTAGE CHANGE USING pct_change()\n",
    "    df['returns'] = 100 * df.Close.pct_change().dropna()\n",
    "\n",
    "    # CALCULATE LOG RETURNS BASED ON ABOVE FORMULA\n",
    "    df['log_returns'] = np.log(df.Close/df.Close.shift(1))\n",
    "\n",
    "    # DROPPING THE 1ST ROW OF DATA \n",
    "    # BECAUSE I SHIFTED IT FORWARD TO CALCULATE RETURNS/LOG RETURNS\n",
    "    df.dropna(inplace=True)\n",
    "    \n",
    "    #The Open/High/Low/Close prices are usually very similar and highly correlated to each other. Therefore, instead of keeping all of them in the dataset, I would add 2 more features:\n",
    "    df['HL_sprd'] = np.log((df.High - df.Low) / df.Close)\n",
    "    df['CO_sprd'] = (df.Close - df.Open) / df.Open\n",
    "    df['Volume'] = np.log(df.Volume)\n",
    "    features = ['HL_sprd', 'CO_sprd', 'Volume','log_returns']\n",
    "    x_train_processed = df[features]     \n",
    "    y_train_processed = df['Target']\n",
    "    print()\n",
    "    return df,x_train_processed,y_train_processed"
   ]
  },
  {
   "cell_type": "code",
   "execution_count": null,
   "metadata": {},
   "outputs": [],
   "source": [
    "df, X_btc, y_btc  = preprocess_data(ctrain,1)"
   ]
  },
  {
   "cell_type": "code",
   "execution_count": null,
   "metadata": {},
   "outputs": [],
   "source": [
    "X_btc.head()"
   ]
  },
  {
   "cell_type": "code",
   "execution_count": null,
   "metadata": {},
   "outputs": [],
   "source": [
    "y_btc.head()"
   ]
  },
  {
   "cell_type": "markdown",
   "metadata": {},
   "source": [
    "In statistics and econometrics, an augmented Dickey–Fuller test (ADF) tests the null hypothesis that a unit root is present in a time series sample."
   ]
  },
  {
   "cell_type": "code",
   "execution_count": null,
   "metadata": {},
   "outputs": [],
   "source": [
    "from statsmodels.tsa.stattools import adfuller\n",
    "# LOG RETURNS\n",
    "adfuller_results = adfuller(btc.log_returns.dropna())\n",
    "\n",
    "print(f'ADF Statistic: {adfuller_results[0]}')\n",
    "print(f'p-value: {adfuller_results[1]}')\n",
    "print('Critical Values:')\n",
    "for key, value in adfuller_results[4].items():\n",
    "    print(f'{key}: {value:.4f}')"
   ]
  },
  {
   "cell_type": "code",
   "execution_count": null,
   "metadata": {},
   "outputs": [],
   "source": [
    "# RETURNS\n",
    "adfuller_results = adfuller(df.returns.dropna())\n",
    "\n",
    "print(f'ADF Statistic: {adfuller_results[0]}')\n",
    "print(f'p-value: {adfuller_results[1]}')\n",
    "print('Critical Values:')\n",
    "for key, value in adfuller_results[4].items():\n",
    "    print(f'{key}: {value:.4f}')"
   ]
  },
  {
   "cell_type": "code",
   "execution_count": null,
   "metadata": {},
   "outputs": [],
   "source": []
  },
  {
   "cell_type": "markdown",
   "metadata": {},
   "source": [
    "Split"
   ]
  },
  {
   "cell_type": "code",
   "execution_count": null,
   "metadata": {},
   "outputs": [],
   "source": [
    "#SPLIT\n",
    "def custom_split(X_btc,y_btc):   \n",
    "    PCT_VALIDATION = 10 # last 10% of the data are used as validation set\n",
    "\n",
    "\n",
    "    X_train, X_test = X_btc[:-len(X_btc)//PCT_VALIDATION], X_btc[-len(X_btc)//PCT_VALIDATION:]\n",
    "    y_train, y_test = y_btc[:-len(y_btc)//PCT_VALIDATION], y_btc[-len(y_btc)//PCT_VALIDATION:]\n",
    "    return X_train, X_test, y_train, y_test\n",
    "\n",
    "X_train, X_test, y_train, y_test = custom_split(X_btc,y_btc)   "
   ]
  },
  {
   "cell_type": "markdown",
   "metadata": {},
   "source": [
    "Scaler"
   ]
  },
  {
   "cell_type": "code",
   "execution_count": null,
   "metadata": {},
   "outputs": [],
   "source": []
  },
  {
   "cell_type": "code",
   "execution_count": null,
   "metadata": {},
   "outputs": [],
   "source": [
    "##think about it later\n",
    "\n",
    "\n",
    "from sklearn.preprocessing import MinMaxScaler\n",
    "\n",
    "\n",
    "\n",
    "def transform_volatility_to_scaler(scaler, tf_series):\n",
    "    '''\n",
    "    Transform a series to a fitted scaler\n",
    "    '''\n",
    "    idx = tf_series.index\n",
    "    output = pd.Series(scaler.transform(tf_series.values.reshape(-1,1))[:,0],\n",
    "                       index=idx)\n",
    "    return output\n",
    "\n",
    "# INITIATE SCALER\n",
    "scaler = MinMaxScaler()\n",
    "\n",
    "# FIT SCALER TO CURRENT VOLATILITY IN TRAINING SET\n",
    "scaler = scaler.fit(X_train.values.reshape(-1,1))"
   ]
  },
  {
   "cell_type": "code",
   "execution_count": null,
   "metadata": {},
   "outputs": [],
   "source": [
    "\"\"\"\"# TRANSFORM TRAINING CURRENT & FUTURE VOLATILITIES \n",
    "x_train_scaled = transform_volatility_to_scaler(scaler_vol, x_train)\n",
    "y_train_scaled = transform_volatility_to_scaler(scaler_vol, y_train)\n",
    "\n",
    "# TRANSFORMING VALIDATION CURRENT & FUTURE VOLATILITIES\n",
    "x_val_scaled = transform_volatility_to_scaler(scaler_vol, x_val)\n",
    "y_val_scaled = transform_volatility_to_scaler(scaler_vol, y_val)\n",
    "\n",
    "# TRANSFORMING TEST CURRENT & FUTURE VOLATILITIES\n",
    "x_test_scaled = transform_volatility_to_scaler(scaler_vol, x_test)\n",
    "y_test_scaled = transform_volatility_to_scaler(scaler_vol, y_test)\"\"\"\""
   ]
  },
  {
   "cell_type": "code",
   "execution_count": null,
   "metadata": {},
   "outputs": [],
   "source": [
    "# DEFINE ROOT MEAN SQUARED PERCENTAGE ERROR FUNCTION\n",
    "def RMSPE(y_true, y_pred):\n",
    "    \"\"\"\n",
    "    Compute Root Mean Squared Percentage Error between 2 arrays\n",
    "    \"\"\"\n",
    "    output = np.sqrt(np.mean(np.square((y_true - y_pred) / y_true)))\n",
    "    return output\n",
    "\n",
    "\n",
    "\n",
    "# DEFINE ROOT MEAN SQUARED ERROR FUNCTION\n",
    "def RMSE(y_true, y_pred):\n",
    "    \"\"\"\n",
    "    Compute Root Mean Squared Error between 2 arrays\n",
    "    \"\"\"\n",
    "    output = np.sqrt(mse(y_true, y_pred))\n",
    "    return output\n",
    "\n",
    "# INITIATE A DATAFRAME FOR MODEL PERFORMANCE TRACKING & COMPARISON \n",
    "perf_df = pd.DataFrame(columns=['Model', 'Validation RMSPE', 'Validation RMSE'])\n",
    "\n",
    "# A FUNCTION THAT LOGS MODEL NAME, RMSE AND RMPSE INTO perf_df\n",
    "# FOR EASY COMPARISON LATER\n",
    "def log_perf(y_true, y_pred, model_name):\n",
    "    perf_df.loc[len(perf_df.index)] = [model_name, \n",
    "                                       RMSPE(y_true, y_pred), \n",
    "                                       RMSE(y_true, y_pred)]\n",
    "    return perf_df\n",
    "\n",
    "\n",
    "# PLOTTING MODEL PREDICTIONS VS. TARGET VALUES\n",
    "def viz_model(y_true, y_pred, model_name):\n",
    "    sns.set_context(\"paper\", font_scale=1.7)\n",
    "    plt.rcParams[\"axes.grid\"] = False\n",
    "\n",
    "    with sns.axes_style(\"whitegrid\"):\n",
    "        plt.figure(figsize=(18,7))\n",
    "        plt.plot(x_val_scaled, color='gray',  ls=':',\n",
    "                label=f\"Scaled Current Daily Volatility\")\n",
    "        \n",
    "        plt.plot(y_true, color='blue', lw=2, \n",
    "                label=f\"Target Volatility\")\n",
    "        plt.plot(y_pred, color='orange', lw=2.5,\n",
    "                label=f'Forecasted Volatility')\n",
    "        \n",
    "        # plt.plot(lr_val, color='gray', alpha=0.4,\n",
    "        #         label='Daily Log Returns')\n",
    "\n",
    "        plt.title(f'{model_name} \\non Validation Data')\n",
    "        plt.legend(loc='best', frameon=True)\n",
    "\n"
   ]
  },
  {
   "cell_type": "markdown",
   "metadata": {},
   "source": [
    "### 4.7. Multivariate 2-Layered Bidirectional LSTM with Dropout\n",
    "\n",
    "My first Multivariate LSTM model would be relatively simple with 2 hidden layers of Bidirectional LSTM (quite similar to the Univariate structure above). However, I will also include Dropout layers in between. Having more features means the model would be more prone to **overfitting**, and Dropout layers can help reduce that."
   ]
  },
  {
   "cell_type": "code",
   "execution_count": null,
   "metadata": {},
   "outputs": [],
   "source": [
    "import tensorflow as tf\n",
    "from tensorflow.keras.callbacks import ModelCheckpoint, EarlyStopping\n",
    "from tensorflow.keras import backend as K\n",
    "from decimal import Decimal\n",
    "# CONVERT A SERIES TO MATRIX DATASET\n",
    "\n",
    "seed = 20\n",
    "\n",
    "\n",
    "def windowed_dataset(x_series, y_series, lookback_window):\n",
    "    dataX, dataY = [], []\n",
    "    for i in range((lookback_window-1), len(x_series)):\n",
    "        start_idx = x_series.index[i-lookback_window+1]\n",
    "        end_idx = x_series.index[i]\n",
    "        a = x_series[start_idx:end_idx].values\n",
    "        dataX.append(a)\n",
    "        dataY.append(y_series[end_idx])\n",
    "\n",
    "    return np.array(dataX), np.array(dataY)\n",
    "\n",
    "\n",
    "tf.keras.backend.clear_session()\n",
    "\n",
    "# SET SEED FOR REPRODUCIBILITY\n",
    "np.random.seed(seed)\n",
    "\n",
    "n_past = 30\n",
    "batch_size = 64\n",
    "n_dims = X_btc.shape[1]\n",
    "\n",
    "mat_X_train, mat_y_train = windowed_dataset(X_train, y_train, n_past)"
   ]
  },
  {
   "cell_type": "code",
   "execution_count": null,
   "metadata": {},
   "outputs": [],
   "source": []
  }
 ],
 "metadata": {
  "kernelspec": {
   "display_name": "Python 3 (ipykernel)",
   "language": "python",
   "name": "python3"
  },
  "language_info": {
   "codemirror_mode": {
    "name": "ipython",
    "version": 3
   },
   "file_extension": ".py",
   "mimetype": "text/x-python",
   "name": "python",
   "nbconvert_exporter": "python",
   "pygments_lexer": "ipython3",
   "version": "3.8.12"
  }
 },
 "nbformat": 4,
 "nbformat_minor": 4
}

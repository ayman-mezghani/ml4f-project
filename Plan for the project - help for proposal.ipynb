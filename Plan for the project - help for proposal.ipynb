{
 "cells": [
  {
   "cell_type": "markdown",
   "metadata": {
    "jupyter": {
     "outputs_hidden": false
    },
    "pycharm": {
     "name": "#%% md\n"
    }
   },
   "source": [
    "Goal: predict price returns across a bundle of major 14 cryptocurrencies  in the time scale of minutes to hours.\n",
    "\n",
    "Evaluation: correlation with real market data collected during the three-month evaluation period after the competition has closed.\n",
    "The predictions will be evaluated on a weighted version of the Pearson correlation coefficient, with weights given by the Weight column in the Asset Details file.\n"
   ]
  },
  {
   "cell_type": "markdown",
   "metadata": {
    "pycharm": {
     "name": "#%% md\n"
    }
   },
   "source": [
    "Useful links:\n",
    "* Tutorial to the G-Research Crypto Competition\n",
    "https://www.kaggle.com/cstein06/tutorial-to-the-g-research-crypto-competition#Crypto-forecasting-tutorial\n",
    "    * Market: crypto-exchanges, with an average volume of $41 billion traded daily over the last year, according to CryptoCompare (as of 25th July 2021),  the market and meme manipulation, the correlation between assets and the very fast changing market conditions\n",
    "    * Data Overview: changes in prices between different cryptocurrencies are highly interconnected, extreme volatility of the assets, non-stationary\n",
    "    * Data features description:\n",
    "        * timestamp: All timestamps are returned as second Unix timestamps (the number of seconds elapsed since 1970-01-01 00:00:00.000 UTC). Timestamps in this dataset are multiple of 60, indicating minute-by-minute data.\n",
    "        * Asset_ID\n",
    "        * Count: Total number of trades in the time interval (last minute).\n",
    "        * Open: Opening price of the time interval (in USD).\n",
    "        * High: Highest price reached during time interval (in USD).\n",
    "        * Low: Lowest price reached during time interval (in USD).\n",
    "        * Close: Closing price of the time interval (in USD).\n",
    "        * Volume: Quantity of asset bought or sold, displayed in base currency USD.\n",
    "        * VWAP: The average price of the asset over the time interval, weighted by volume. VWAP is an aggregated form of trade data.\n",
    "        * Target: Residual log-returns for the asset over a 15 minute horizon.\n",
    "           Predict returns in the near future for prices $P^a$, for each asset $a$. $$R^a(t) = log (P^a(t+16)\\ /\\ P^a(t+1))$$\n",
    "    * Preprocess: Missing asset data, for a given minute, is not represented by NaN's, but instead by the absence of those rows. there are many gaps in the data. To work with most time series models,the preprocess of data into a format without time gaps should be done.\n",
    "    * Correlation btc and eth:  high but variable correlation between the assets over time.\n",
    "\n",
    "* TO DO:\n",
    "    * Add more data:\n",
    "        * given time-series of historical prices  = millions of rows of minute-by-minute cryptocurrency trading data\n",
    "        * upper/ lower shadow\n",
    "        * use quora, reddit, twitter, EDGAR Data for NLP\n",
    "    * Stat tests: autocorrelation, time-series decomposition and stationarity tests.\n",
    "    * Train_test split with diff time frames / paddles ; diff windows\n",
    "    * Add more Preprocess\n",
    "        * Standardization StandardScaler(), MinMax\n",
    "    * Model:\n",
    "        * Baseline model: Linear Regression, MultiOutputRegressor(LinearRegression())\n",
    "    * Eval by weighted correlation\n",
    "    * Submission: Note that this is a Code Competition,\n",
    "  in which you must submit your notebook to be run against the hidden private data.\n",
    "  Your notebook should use the provided python time-series API, which ensures that models do not peek forward in time. To use the API, follow the instructions and template in Code Competition Detailed API instructions and Basic Submission Template."
   ]
  },
  {
   "cell_type": "code",
   "execution_count": null,
   "outputs": [],
   "source": [],
   "metadata": {
    "collapsed": false,
    "pycharm": {
     "name": "#%%\n"
    }
   }
  }
 ],
 "metadata": {
  "kernelspec": {
   "display_name": "Python 3 (ipykernel)",
   "language": "python",
   "name": "python3"
  },
  "language_info": {
   "codemirror_mode": {
    "name": "ipython",
    "version": 3
   },
   "file_extension": ".py",
   "mimetype": "text/x-python",
   "name": "python",
   "nbconvert_exporter": "python",
   "pygments_lexer": "ipython3",
   "version": "3.9.7"
  },
  "pycharm": {
   "stem_cell": {
    "cell_type": "raw",
    "source": [
     "\n"
    ],
    "metadata": {
     "collapsed": false
    }
   }
  }
 },
 "nbformat": 4,
 "nbformat_minor": 4
}
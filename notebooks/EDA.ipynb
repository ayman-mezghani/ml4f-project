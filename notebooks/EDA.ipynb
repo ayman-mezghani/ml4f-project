{
 "metadata": {
  "kernelspec": {
   "language": "python",
   "display_name": "Python 3",
   "name": "python3"
  },
  "language_info": {
   "name": "python",
   "version": "3.7.12",
   "mimetype": "text/x-python",
   "codemirror_mode": {
    "name": "ipython",
    "version": 3
   },
   "pygments_lexer": "ipython3",
   "nbconvert_exporter": "python",
   "file_extension": ".py"
  }
 },
 "nbformat_minor": 4,
 "nbformat": 4,
 "cells": [
  {
   "cell_type": "code",
   "execution_count": null,
   "outputs": [],
   "source": [
    "#library\n",
    "import os\n",
    "from datetime import datetime\n",
    "import time\n",
    "from sklearn.preprocessing import StandardScaler\n",
    "import plotly.express as px\n",
    "import plotly.graph_objs as go\n",
    "import matplotlib.pyplot as plt\n",
    "import seaborn as sns\n",
    "import math\n",
    "\n",
    "import statsmodels.api as sm\n",
    "from statsmodels.tsa.ar_model import AutoReg\n",
    "from statsmodels.tsa.arima_model import ARMA\n",
    "from statsmodels.tsa.stattools import adfuller\n",
    "from statsmodels.graphics.tsaplots import plot_acf\n",
    "from statsmodels.graphics.tsaplots import plot_pacf\n",
    "from statsmodels.tsa.arima_model import ARIMA\n",
    "from statsmodels.tsa.statespace.sarimax import SARIMAX\n",
    "from statsmodels.tsa.seasonal import seasonal_decompose\n",
    "from scipy import stats\n",
    "from itertools import product\n",
    "\n",
    "from plotly.subplots import make_subplots\n",
    "\n",
    "from statsmodels.graphics.tsaplots import plot_acf, plot_pacf\n",
    "\n",
    "\n",
    "\n",
    "\n",
    "import warnings\n",
    "warnings.filterwarnings(\"ignore\")\n",
    "import numpy as np # linear algebra\n",
    "import pandas as pd # data processing, CSV file I/O (e.g. pd.read_csv)\n",
    "\n",
    "import os\n",
    "from scipy.stats import kurtosis, skew\n",
    "        "
   ],
   "metadata": {
    "collapsed": false,
    "pycharm": {
     "name": "#%%\n"
    }
   }
  },
  {
   "cell_type": "code",
   "execution_count": null,
   "outputs": [],
   "source": [
    "#read data\n",
    "info = pd.read_csv(\"../g-research-crypto-forecasting/asset_details.csv\")\n",
    "ctrain = pd.read_csv(\"../g-research-crypto-forecasting/train.csv\")"
   ],
   "metadata": {
    "collapsed": false,
    "pycharm": {
     "name": "#%%\n"
    }
   }
  },
  {
   "cell_type": "markdown",
   "source": [
    "# Feature description"
   ],
   "metadata": {
    "collapsed": false
   }
  },
  {
   "cell_type": "code",
   "execution_count": null,
   "outputs": [],
   "source": [
    "ctrain.head()"
   ],
   "metadata": {
    "collapsed": false,
    "pycharm": {
     "name": "#%%\n"
    }
   }
  },
  {
   "cell_type": "markdown",
   "source": [
    "The feature descriptions:\n",
    "*   **timestamp**: All timestamps are returned as second Unix timestamps (the number of seconds elapsed since 1970-01-01 00:00:00.000 UTC). Timestamps in this dataset are multiple of 60, indicating minute-by-minute data.\n",
    "*   **Asset_ID**: The asset ID corresponding to one of the crytocurrencies (e.g. `Asset_ID = 1` for Bitcoin). The mapping from `Asset_ID` to crypto asset is contained in `asset_details.csv`.\n",
    "*   **Count**: Total number of trades in the time interval (last minute).\n",
    "*   **Open**:\tOpening price of the time interval (in USD).\n",
    "*   **High**:\tHighest price reached during time interval (in USD).\n",
    "*   **Low**: Lowest price reached during time interval (in USD).\n",
    "*   **Close**:\tClosing price of the time interval (in USD).\n",
    "*   **Volume**:\tQuantity of asset bought or sold, displayed in base currency USD.\n",
    "*   **VWAP**: The average price of the asset over the time interval, weighted by volume. VWAP is an aggregated form of trade data.\n",
    "*   **Target**: Residual log-returns for the asset over a 15 minute horizon. The formula is provided in the report."
   ],
   "metadata": {
    "collapsed": false
   }
  },
  {
   "cell_type": "markdown",
   "source": [
    "Look at the asset names"
   ],
   "metadata": {
    "collapsed": false
   }
  },
  {
   "cell_type": "code",
   "execution_count": null,
   "outputs": [],
   "source": [
    "info.Asset_Name.unique()\n"
   ],
   "metadata": {
    "collapsed": false,
    "pycharm": {
     "name": "#%%\n"
    }
   }
  },
  {
   "cell_type": "code",
   "execution_count": null,
   "outputs": [],
   "source": [
    "#time frame that we have\n",
    "pd.to_datetime(ctrain['timestamp'], unit='s')"
   ],
   "metadata": {
    "collapsed": false,
    "pycharm": {
     "name": "#%%\n"
    }
   }
  },
  {
   "cell_type": "markdown",
   "source": [
    "# Candlestick charts"
   ],
   "metadata": {
    "collapsed": false
   }
  },
  {
   "cell_type": "code",
   "execution_count": null,
   "outputs": [],
   "source": [
    "#Dictionary for assets\n",
    "rename_dict = {}\n",
    "asset_details = info \n",
    "for a in asset_details['Asset_ID']:\n",
    "    rename_dict[a] = asset_details[asset_details.Asset_ID == a].Asset_Name.values[0]\n",
    "\n",
    "display(rename_dict)\n"
   ],
   "metadata": {
    "collapsed": false,
    "pycharm": {
     "name": "#%%\n"
    }
   }
  },
  {
   "cell_type": "code",
   "execution_count": null,
   "outputs": [],
   "source": [
    "# Impute Missing Time Value\n",
    "\n",
    "def c_time_sub(asset_id, data=ctrain):\n",
    "    df=data[ctrain[\"Asset_ID\"]==asset_id].set_index(\"timestamp\")\n",
    "    df=df.reindex(range(df.index[0],df.index[-1]+60,60), method=\"pad\")\n",
    "    df.index = pd.to_datetime(df.index, unit='s')\n",
    "    return df\n",
    "\n",
    "\n",
    "#  Bitcoin\n",
    "btc=c_time_sub(asset_id=1)\n",
    "\n",
    "#  Ethereum\n",
    "eth=c_time_sub(asset_id=6)\n",
    "\n",
    "#  Cardano\n",
    "ada=c_time_sub(asset_id=3)"
   ],
   "metadata": {
    "collapsed": false,
    "pycharm": {
     "name": "#%%\n"
    }
   }
  },
  {
   "cell_type": "code",
   "execution_count": null,
   "outputs": [],
   "source": [
    "#candlestick\n",
    "\n",
    "def c_chart(data,label):\n",
    "    candlestick = go.Figure(data = [go.Candlestick(x =data.index,\n",
    "                                               open = data[('Open')],\n",
    "                                               high = data[('High')],\n",
    "                                               low = data[('Low')],\n",
    "                                               close = data[('Close')])])\n",
    "    candlestick.update_xaxes(title_text = 'Time',\n",
    "                             rangeslider_visible = True)\n",
    "\n",
    "    candlestick.update_layout(\n",
    "    title = {\n",
    "        'text': '{:} Candelstick Chart'.format(label),\n",
    "        \"y\":0.8,\n",
    "        \"x\":0.5,\n",
    "        'xanchor': 'center',\n",
    "        'yanchor': 'top'})\n",
    "\n",
    "    candlestick.update_yaxes(title_text = 'Price in USD', ticksuffix = '$')\n",
    "    return candlestick\n",
    "\n",
    "%matplotlib inline\n",
    "btc_candle=c_chart(btc[-90:], label=\"BTC Price\")\n",
    "btc_candle.show()\n",
    "\n",
    "eth_candle=c_chart(eth[-90:], label=\"ETH Price \")\n",
    "eth_candle.show()\n"
   ],
   "metadata": {
    "collapsed": false,
    "pycharm": {
     "name": "#%%\n"
    }
   }
  },
  {
   "cell_type": "markdown",
   "source": [
    "## Training Data Distribution among different Assets"
   ],
   "metadata": {
    "collapsed": false
   }
  },
  {
   "cell_type": "code",
   "execution_count": null,
   "outputs": [],
   "source": [
    "data = ctrain\n",
    "\n",
    "asset_count= []\n",
    "for i in range(14):\n",
    "    count = (data[\"Asset_ID\"]==i).sum()\n",
    "    asset_count.append(count)\n",
    "fig = px.bar(x = asset_details.sort_values(\"Asset_ID\")[\"Asset_Name\"],\n",
    "             y = asset_count , \n",
    "             color = asset_count ,\n",
    "             color_continuous_scale=\"Emrld\") \n",
    "fig.update_xaxes(title=\"Assets\")\n",
    "fig.update_yaxes(title = \"Number of Rows\")\n",
    "fig.update_layout(showlegend = True,\n",
    "    title = {\n",
    "        'text': 'Data Distribution ',\n",
    "        'y':0.95,\n",
    "        'x':0.5,\n",
    "        'xanchor': 'center',\n",
    "        'yanchor': 'top'})\n",
    "fig.show()\n"
   ],
   "metadata": {
    "collapsed": false,
    "pycharm": {
     "name": "#%%\n"
    }
   }
  },
  {
   "cell_type": "code",
   "execution_count": null,
   "outputs": [],
   "source": [],
   "metadata": {
    "collapsed": false,
    "pycharm": {
     "name": "#%%\n"
    }
   }
  },
  {
   "cell_type": "markdown",
   "source": [
    "Statistics for BTC for Close and logreturns of Close"
   ],
   "metadata": {
    "collapsed": false
   }
  },
  {
   "cell_type": "code",
   "execution_count": null,
   "outputs": [],
   "source": [
    "btc['returns'] = 100 * btc.Close.pct_change().dropna()\n",
    "\n",
    "btc['log_returns'] = np.log(btc.Close/btc.Close.shift(1))\n",
    "btc.dropna(inplace=True)\n",
    "\n",
    "# PLOT DISTRIBUTION PLOTS OF RETURNS & LOG RETURNS\n",
    "# AND VISUALLY COMPARE THEM WITH THE STANDARD NORMAL DISTRIBUTION\n",
    "df = btc.copy()\n",
    "with sns.axes_style(\"darkgrid\"):\n",
    "    fig, axes = plt.subplots(nrows=2, ncols=2, figsize=(18,12))\n",
    "\n",
    "    axes[0][0].plot(df.returns, color='blue')\n",
    "    axes[0][0].set_title('Returns')\n",
    "\n",
    "    sns.distplot(df.returns, norm_hist=True, fit=stats.norm, color='blue',\n",
    "                bins=50, ax=axes[0][1])\n",
    "    axes[0][1].set_title('Returns')\n",
    "\n",
    "    axes[1][0].plot(df.log_returns, color='green')\n",
    "    axes[1][0].set_title('Log Returns')\n",
    "\n",
    "    sns.distplot(df.log_returns, norm_hist=True, fit=stats.norm, color='green',\n",
    "                bins=50, ax=axes[1][1])\n",
    "    axes[1][1].set_title('Log Returns')\n",
    "    plt.tight_layout()\n",
    "\n",
    "    fig.show();\n",
    "\n"
   ],
   "metadata": {
    "collapsed": false,
    "pycharm": {
     "name": "#%%\n"
    }
   }
  },
  {
   "cell_type": "code",
   "execution_count": null,
   "outputs": [],
   "source": [
    "#returns\n",
    "print( 'returns: excess kurtosis of normal distribution (should be 0): {}'.format( kurtosis(df.returns) ))\n",
    "print( 'returns: skewness of normal distribution (should be 0): {}'.format( skew(df.returns) ))\n",
    "\n",
    "#log_returns\n",
    "print( 'log_returns: excess kurtosis of normal distribution (should be 0): {}'.format( kurtosis(df.log_returns) ))\n",
    "print( 'log_returns: skewness of normal distribution (should be 0): {}'.format( skew(df.log_returns) ))"
   ],
   "metadata": {
    "collapsed": false,
    "pycharm": {
     "name": "#%%\n"
    }
   }
  },
  {
   "cell_type": "markdown",
   "source": [
    "- skewness:\n",
    "returns - positive, log_returns - negative\n",
    "\n",
    "- positive kurtosis (leptokurtic) - Both Returns & Log Returns show higher peak with thicker tails than the standard normal distribution."
   ],
   "metadata": {
    "collapsed": false
   }
  },
  {
   "cell_type": "markdown",
   "source": [
    "## Cryptocurrency Log Return Correlation Plot for 2021\n"
   ],
   "metadata": {
    "collapsed": false
   }
  },
  {
   "cell_type": "code",
   "execution_count": null,
   "outputs": [],
   "source": [
    "import time\n",
    "\n",
    "# define function to compute log returns\n",
    "def log_return(series, periods=1):\n",
    "    return np.log(series).diff(periods=periods)\n",
    "def plot_corr_2021(ctrain, info):\n",
    "    # auxiliary function, from datetime to timestamp\n",
    "    totimestamp = lambda s: np.int32(time.mktime(datetime.strptime(s, \"%d/%m/%Y\").timetuple()))\n",
    "    # create dataframe with returns for all assets\n",
    "    \n",
    "    crypto_df = ctrain\n",
    "    all_assets_2021 = pd.DataFrame([])\n",
    "    \n",
    "    for asset_id, asset_name in rename_dict.items():\n",
    "        print(asset_name)\n",
    "        asset = crypto_df[crypto_df[\"Asset_ID\"]==asset_id].set_index(\"timestamp\")\n",
    "        asset = asset.loc[totimestamp('01/01/2021'):]\n",
    "        asset = asset.reindex(range(asset.index[0],asset.index[-1]+60,60),method='pad')\n",
    "        lret = log_return(asset.Close.fillna(0))[1:]\n",
    "        \n",
    "        all_assets_2021 = all_assets_2021.join(lret, rsuffix=asset_name, how=\"outer\")\n",
    "    all_assets_2021.rename(columns = {'Close':'CloseBitcoin Cash'}, inplace=True)\n",
    "    sns.heatmap(all_assets_2021.corr());\n",
    "    \"\"\"plt.imshow(all_assets_2021.corr());\n",
    "    plt.yticks(info.Asset_ID.values, info.Asset_Name.values);\n",
    "    plt.xticks(info.Asset_ID.values, info.Asset_Name.values, rotation='vertical');\n",
    "    plt.colorbar();\n",
    "    plt.savefig('corr.jpg')\"\"\"\n",
    "    all_assets_2021_corr =  all_assets_2021.corr()\n",
    "    \"\"\"all_assets_2021_corr.columns = info.Asset_Name.values\n",
    "    all_assets_2021_corr.index = info.Asset_Name.values\"\"\"\n",
    "    return all_assets_2021, all_assets_2021_corr\n",
    "all_assets_2021, all_assets_2021_corr = plot_corr_2021(ctrain, info)"
   ],
   "metadata": {
    "collapsed": false,
    "pycharm": {
     "name": "#%%\n"
    }
   }
  },
  {
   "cell_type": "code",
   "execution_count": null,
   "outputs": [],
   "source": [
    "all_assets_2021_corr.columns"
   ],
   "metadata": {
    "collapsed": false,
    "pycharm": {
     "name": "#%%\n"
    }
   }
  },
  {
   "cell_type": "code",
   "execution_count": null,
   "outputs": [],
   "source": [
    "#the top correlation\n",
    "def get_redundant_pairs(df):\n",
    "    '''Get diagonal and lower triangular pairs of correlation matrix'''\n",
    "    pairs_to_drop = set()\n",
    "    cols = df.columns\n",
    "    for i in range(0, df.shape[1]):\n",
    "        for j in range(0, i+1):\n",
    "            pairs_to_drop.add((cols[i], cols[j]))\n",
    "    return pairs_to_drop\n",
    "\n",
    "def get_top_abs_correlations(df, n=5, ascending=False):\n",
    "    au_corr = df.corr().abs().unstack()\n",
    "    labels_to_drop = get_redundant_pairs(df)\n",
    "    au_corr = au_corr.drop(labels=labels_to_drop).sort_values(ascending=ascending)\n",
    "    return au_corr[0:n]\n",
    "pd.DataFrame(get_top_abs_correlations(all_assets_2021_corr, n=10, ascending=False), columns=['Correlation'])\n"
   ],
   "metadata": {
    "collapsed": false,
    "pycharm": {
     "name": "#%%\n"
    }
   }
  },
  {
   "cell_type": "code",
   "execution_count": null,
   "outputs": [],
   "source": [
    "#least correlated\n",
    "pd.DataFrame(get_top_abs_correlations(all_assets_2021_corr, n=10, ascending=True), columns=['Correlation'])\n",
    "\n"
   ],
   "metadata": {
    "collapsed": false,
    "pycharm": {
     "name": "#%%\n"
    }
   }
  },
  {
   "cell_type": "code",
   "execution_count": null,
   "outputs": [],
   "source": [
    "#correlations over time\n",
    "# join two asset in single DataFrame\n",
    "def corr_over_time(crypto_df, asset_id_1 =1, asset_id_2 = 6):\n",
    "    btc = crypto_df[crypto_df[\"Asset_ID\"]==asset_id_1].set_index(\"timestamp\")\n",
    "    eth= crypto_df[crypto_df[\"Asset_ID\"]==asset_id_2].set_index(\"timestamp\")\n",
    "\n",
    "    lret_btc_long = log_return(btc.Close)[1:]\n",
    "    lret_eth_long = log_return(eth.Close)[1:]\n",
    "    lret_btc_long.rename('lret_btc', inplace=True)\n",
    "    lret_eth_long.rename('lret_eth', inplace=True)\n",
    "    two_assets = pd.concat([lret_btc_long, lret_eth_long], axis=1)\n",
    "\n",
    "    # group consecutive rows and use .corr() for correlation between columns\n",
    "    corr_time = two_assets.groupby(two_assets.index//(10000*60)).corr().loc[:,\"lret_btc\"].loc[:,\"lret_eth\"]\n",
    "    return corr_time\n",
    "\n",
    "    #corr_time.plot();\n",
    "    \"\"\"plt.xticks([])\n",
    "    plt.ylabel(\"Correlation\")\n",
    "    plt.title(\"Correlation between BTC and ETH over time\");\"\"\"\n",
    "\n",
    "fig, ax = plt.subplots(nrows=14, ncols=14, figsize=(30, 25))\n",
    "for i in range(0,13):\n",
    "    for j in range(i+1,14):\n",
    "        g = sns.lineplot(data = corr_over_time(ctrain,asset_id_1 =i, asset_id_2 = j),ax=ax[i,j])\n",
    "        g.set(xlabel=rename_dict[i], ylabel=rename_dict[j])"
   ],
   "metadata": {
    "collapsed": false,
    "pycharm": {
     "name": "#%%\n"
    }
   }
  },
  {
   "cell_type": "markdown",
   "source": [
    "We can see that the correlations between assets change over time."
   ],
   "metadata": {
    "collapsed": false
   }
  },
  {
   "cell_type": "markdown",
   "source": [
    "Additionally, candlestick charts for all assets,\n",
    "the illustration of BTC and ETH prices groupped by year could be seen here: https://www.kaggle.com/iamleonie/to-the-moon-g-research-crypto-forecasting-eda#Data-Overview\n",
    "It again proves that correlation between coins is changing."
   ],
   "metadata": {
    "collapsed": false
   }
  },
  {
   "cell_type": "markdown",
   "source": [
    "# Closing Price for BTC, ETH, ADA\n",
    "\n",
    "\n",
    "\n"
   ],
   "metadata": {
    "collapsed": false
   }
  },
  {
   "cell_type": "code",
   "execution_count": null,
   "outputs": [],
   "source": [
    "# Plot the Closing Price for BTC, ETH, ADA (Cardano)\n",
    "f= plt.figure(figsize=(10,12))  \n",
    "\n",
    "def gplot(no , data, price, label, ylabel, color):\n",
    "    ax=f.add_subplot(no)\n",
    "    plt.plot(data[price], label=label, color=color)\n",
    "    plt.legend()\n",
    "    plt.xlabel(\"Time\")\n",
    "    plt.ylabel(ylabel)\n",
    "    return plt\n",
    "\n",
    "gplot(no=311, data=btc, price=\"Close\" , label=\"BTC 2021 Overall Performance\", ylabel=\"BTC Closing Price\", color=\"Lightskyblue\")\n",
    "gplot(no=312, data=eth, price=\"Close\" ,label=\"ETH 2021 Overall Performance\", ylabel=\"ETH Closing Price\", color=\"Coral\")\n",
    "gplot(no=313, data=ada, price=\"Close\" ,label=\"Cardano 2021 Overall Performance\", ylabel=\"ADA Closing Price\", color=\"khaki\")\n",
    "\n",
    "plt.tight_layout()\n",
    "plt.show()"
   ],
   "metadata": {
    "collapsed": false,
    "pycharm": {
     "name": "#%%\n"
    }
   }
  },
  {
   "cell_type": "code",
   "execution_count": null,
   "outputs": [],
   "source": [
    "#Target : 15 minute resudualized returns\n",
    "#Residual Return: An asset's residual return equals its excess return minus beta times the benchmark excess return.\n",
    "\n",
    "f= plt.figure(figsize=(10,12))  \n",
    "gplot(no=311, data=btc, price=\"Target\" , label=\"BTC 2021 15min Return Residue\", ylabel=\"BTC residual return\", color=\"Aqua\")\n",
    "gplot(no=312, data=eth, price=\"Target\" ,label=\"ETH 2021 15min Return Residue\", ylabel=\"ETH residual return\", color=\"Pink\")\n",
    "gplot(no=313, data=ada, price=\"Target\" ,label=\"ADA 2021 15min Return Residue\", ylabel=\"ADA residual return\", color=\"gold\")\n",
    "\n",
    "\n",
    "plt.tight_layout()\n",
    "plt.show()"
   ],
   "metadata": {
    "collapsed": false,
    "pycharm": {
     "name": "#%%\n"
    }
   }
  },
  {
   "cell_type": "markdown",
   "source": [
    "As we can see ETH, and BTC residual return are relatively stable compared to ADA. This might be a good implication that if the investor would take short time trading opportunities, ADA is a better choice.\n",
    "\n",
    "If the investor is risk averse, BTC or ETH will be a better fit\n"
   ],
   "metadata": {
    "collapsed": false
   }
  },
  {
   "cell_type": "markdown",
   "source": [],
   "metadata": {
    "collapsed": false
   }
  },
  {
   "cell_type": "markdown",
   "source": [
    "## Technical Analysis charts\n",
    "Across the industry, there are hundreds of patterns and signals that have been developed by researchers to support technical analysis trading, it would be a bit tedious to code them. \n",
    "Fortunately there is a technical analysis library in python available(created by <a href=\"https://github.com/bukosabino\" >bukosabino</a>), the library has implemented 42 indicators:\n",
    "\n",
    "\n",
    "<b>Volume:</b>\n",
    "<ul>\n",
    "<li>Money Flow Index (MFI)</li>\n",
    "<li>Accumulation/Distribution Index (ADI)</li>\n",
    "<li>On-Balance Volume (OBV)</li>\n",
    "<li>Chaikin Money Flow (CMF)</li>\n",
    "<li>Force Index (FI)</li>\n",
    "<li>Ease of Movement (EoM, EMV)</li>\n",
    "<li>Volume-price Trend (VPT)</li>\n",
    "<li>Negative Volume Index (NVI)</li>\n",
    "<li>Volume Weighted Average Price (VWAP)</li>\n",
    "</ul>\n",
    "<b>Volatility:</b>\n",
    "<ul>\n",
    "<li>Average True Range (ATR)</li>\n",
    "<li>Bollinger Bands (BB)</li>\n",
    "<li>Keltner Channel (KC)</li>\n",
    "<li>Donchian Channel (DC)</li>\n",
    "<li>Ulcer Index (UI)</li>\n",
    "</ul>\n",
    "\n",
    "<b>Trend:</b>\n",
    "<ul>\n",
    "<li>Simple Moving Average (SMA)</li>\n",
    "<li>Exponential Moving Average (EMA)</li>\n",
    "<li>Weighted Moving Average (WMA)</li>\n",
    "<li>Moving Average Convergence Divergence (MACD)</li>\n",
    "<li>Average Directional Movement Index (ADX)</li>\n",
    "<li>Vortex Indicator (VI)</li>\n",
    "<li>Trix (TRIX)</li>\n",
    "<li>Mass Index (MI)</li>\n",
    "<li>Commodity Channel Index (CCI)</li>\n",
    "<li>Detrended Price Oscillator (DPO)</li>\n",
    "<li>KST Oscillator (KST)</li>\n",
    "<li>Ichimoku Kinkō Hyō (Ichimoku)</li>\n",
    "<li>Parabolic Stop And Reverse (Parabolic SAR)</li>\n",
    "<li>Schaff Trend Cycle (STC)</li>\n",
    "</ul>\n",
    "\n",
    "<b>Momentum:</b>\n",
    "<ul>\n",
    "<li>Relative Strength Index (RSI)</li>\n",
    "<li>Stochastic RSI (SRSI)</li>\n",
    "<li>True strength index (TSI)</li>\n",
    "<li>Ultimate Oscillator (UO)</li>\n",
    "<li>Stochastic Oscillator (SR)</li>\n",
    "<li>Williams %R (WR)</li>\n",
    "<li>Awesome Oscillator (AO)</li>\n",
    "<li>Kaufman's Adaptive Moving Average (KAMA)</li>\n",
    "<li>Rate of Change (ROC)</li>\n",
    "<li>Percentage Price Oscillator (PPO)</li>\n",
    "<li>Percentage Volume Oscillator (PVO)</li>\n",
    "</ul>\n",
    "<b>Others:</b>\n",
    "<ul>\n",
    "<li>Daily Return (DR)</li>\n",
    "<li>Daily Log Return (DLR)</li>\n",
    "<li>Cumulative Return (CR)</li>\n",
    "</ul>\n",
    "\n",
    "\n",
    "\n",
    "<b>Documentation:</b>\n",
    "<ul>\n",
    "    <li><a href = \"https://technical-analysis-library-in-python.readthedocs.io/en/latest/\">Technical Analysis library documentation</a></li>\n",
    "</ul>\n",
    "</div>\n",
    "\n"
   ],
   "metadata": {
    "collapsed": false
   }
  },
  {
   "cell_type": "markdown",
   "source": [
    "## Moving average\n"
   ],
   "metadata": {
    "collapsed": false
   }
  },
  {
   "cell_type": "code",
   "execution_count": null,
   "outputs": [],
   "source": [
    "\n",
    "def mov_avg(df, a = 'W',Asset_ID =1, N = 10):\n",
    "    \n",
    "    df = df[df.Asset_ID == Asset_ID]\n",
    "    \n",
    "    df.set_index(df['timestamp'], inplace=True)\n",
    "    df.drop('timestamp', axis=1, inplace=True)\n",
    "    df.index = pd.to_datetime(df.index, unit='s')\n",
    "\n",
    "    #weekly\n",
    "    convertion={\n",
    "        'Open':'first',\n",
    "        'High':'max',\n",
    "        'Low':'min',\n",
    "        'Close':'mean',\n",
    "        'Volume':'sum',    \n",
    "    }\n",
    "    ds_df = df.resample(a).apply(convertion)\n",
    "    #avg # of mins in a week\n",
    "\n",
    "    \n",
    "    \n",
    "    #Simple ma\n",
    "    ds_df['rolling_mean' + str(a) + '_' + str(5)] = ds_df.Close.rolling(window=5).mean()\n",
    "    ds_df['rolling_mean' + str(a) + '_' + str(10)] = ds_df.Close.rolling(window=10).mean()\n",
    "    fig = go.Figure(go.Candlestick(x=ds_df.index,open=ds_df['Open'],high=ds_df['High'],low=ds_df['Low'],close=ds_df['Close']))\n",
    "    fig.update_layout(title='SMA '+str(rename_dict[Asset_ID])+' Close', yaxis_title=str(rename_dict[Asset_ID]))\n",
    "    fig.update_yaxes(type=\"log\")\n",
    "    fig.add_trace(go.Scatter(x=ds_df.index, y=ds_df['Close'],mode='lines',name='Close'))\n",
    "    fig.add_trace(go.Scatter(x=ds_df.index, y=ds_df['rolling_mean' + str(a) + '_' + str(5)], mode='lines', name='SMA MEAN of 5 ' + str(a),line=dict(color='royalblue', width=2)))\n",
    "    fig.add_trace(go.Scatter(x=ds_df.index, y=ds_df['rolling_mean' + str(a) + '_' + str(10)], mode='lines', name='SMA MEAN of 10 ' + str(a), line=dict(color='#555555', width=2)))\n",
    "    fig.show()\n",
    "    \n",
    "    \n",
    "    #Exp ma\n",
    "    ewma = pd.Series.ewm\n",
    "    ds_df['rolling_ema_'+ str(N)]  = ds_df.Close.ewm(min_periods=N, span=N).mean()\n",
    "    fig = go.Figure(go.Candlestick(x=ds_df.index,open=ds_df['Open'],high=ds_df['High'],low=ds_df['Low'],close=ds_df['Close']))\n",
    "    fig.update_layout(title='EMA ' +str(rename_dict[Asset_ID])+' Close', yaxis_title=str(rename_dict[Asset_ID]))\n",
    "    fig.update_yaxes(type=\"log\")\n",
    "    fig.add_trace(go.Scatter(x=ds_df.index, y=ds_df['Close'],mode='lines',name='Close'))\n",
    "    fig.add_trace(go.Scatter(x=ds_df.index, y=ds_df['rolling_ema_' + str(N)], mode='lines', name='EMA MEAN span of '+str(N)+' rolled by '+ str(a),line=dict(color='royalblue', width=2)))\n",
    "    fig.show()\n",
    "mov_avg(ctrain, Asset_ID =1 )\n"
   ],
   "metadata": {
    "collapsed": false,
    "pycharm": {
     "name": "#%%\n"
    }
   }
  },
  {
   "cell_type": "code",
   "execution_count": null,
   "outputs": [],
   "source": [
    "#ETH\n",
    "mov_avg(ctrain, Asset_ID =6 )"
   ],
   "metadata": {
    "collapsed": false,
    "pycharm": {
     "name": "#%%\n"
    }
   }
  },
  {
   "cell_type": "markdown",
   "source": [
    "Other technical analysis could be found here https://www.kaggle.com/shakshyathedetector/crypto-prediction-technical-analysis-features#Moving-average\n",
    "There are:\n",
    "- Moving average convergence divergence (MACD) is a trend-following momentum indicator that shows the relationship between two moving averages of prices. The MACD is calculated by subtracting the 26-day exponential moving average (EMA) from the 12-day EMA\n",
    "- Bollinger Bands are a type of statistical chart characterizing the prices and volatility over time of a financial instrument or commodity, using a formulaic method propounded by John Bollinger in the 1980s. Financial traders employ these charts as a methodical tool to inform trading decisions, control automated trading systems, or as a component of technical analysis. Bollinger Bands display a graphical band (the envelope maximum and minimum of moving averages, similar to Keltner or Donchian channels) and volatility (expressed by the width of the envelope) in one two-dimensional chart.\n",
    "- A Volume Moving Average is the simplest volume-based technical indicator. Similar to a price moving average, a VMA is an average volume of a security (stock), commodity, index or exchange over a selected period of time. Volume Moving Averages are used in charts and in technical analysis to smooth and describe a volume trend by filtering short term spikes and gaps.\n",
    "\n",
    "\n"
   ],
   "metadata": {
    "collapsed": false
   }
  },
  {
   "cell_type": "markdown",
   "source": [
    "## Statistical analysis"
   ],
   "metadata": {
    "collapsed": false
   }
  },
  {
   "cell_type": "code",
   "execution_count": null,
   "outputs": [],
   "source": [
    "import time\n",
    "\n",
    "\n",
    "def logret_all_assets(ctrain, info):\n",
    "    # auxiliary function, from datetime to timestamp\n",
    "    totimestamp = lambda s: np.int32(time.mktime(datetime.strptime(s, \"%d/%m/%Y\").timetuple()))\n",
    "    # create dataframe with returns for all assets\n",
    "    \n",
    "    crypto_df = ctrain\n",
    "    all_assets_2021 = pd.DataFrame([])\n",
    "    \n",
    "    for asset_id, asset_name in rename_dict.items():\n",
    "        #print(asset_name)\n",
    "        asset = crypto_df[crypto_df[\"Asset_ID\"]==asset_id].set_index(\"timestamp\")\n",
    "        #asset = asset.loc[totimestamp('01/01/2021'):]\n",
    "        asset = asset.reindex(range(asset.index[0],asset.index[-1]+60,60),method='pad')\n",
    "        lret = log_return(asset.Close.fillna(0))[1:]\n",
    "        \n",
    "        all_assets_2021 = all_assets_2021.join(lret, rsuffix=asset_name, how=\"outer\")\n",
    "    all_assets_2021.rename(columns = {'Close':'Close Bitcoin Cash'}, inplace=True)\n",
    "    all_assets_2021.index  = pd.to_datetime(all_assets_2021.index, unit='s')\n",
    "    return all_assets_2021\n",
    "all_assets = logret_all_assets(ctrain, info)"
   ],
   "metadata": {
    "collapsed": false,
    "pycharm": {
     "name": "#%%\n"
    }
   }
  },
  {
   "cell_type": "code",
   "execution_count": null,
   "outputs": [],
   "source": [
    "#logret of all assets\n",
    "all_assets.head()"
   ],
   "metadata": {
    "collapsed": false,
    "pycharm": {
     "name": "#%%\n"
    }
   }
  },
  {
   "cell_type": "code",
   "execution_count": null,
   "outputs": [],
   "source": [
    "#all_assets.to_csv('logret_all_years_assets.csv')"
   ],
   "metadata": {
    "collapsed": false,
    "pycharm": {
     "name": "#%%\n"
    }
   }
  },
  {
   "cell_type": "code",
   "execution_count": null,
   "outputs": [],
   "source": [
    "sns.boxplot(data = all_assets)"
   ],
   "metadata": {
    "collapsed": false,
    "pycharm": {
     "name": "#%%\n"
    }
   }
  },
  {
   "cell_type": "code",
   "execution_count": null,
   "outputs": [],
   "source": [
    "stat = all_assets.describe()"
   ],
   "metadata": {
    "collapsed": false,
    "pycharm": {
     "name": "#%%\n"
    }
   }
  },
  {
   "cell_type": "code",
   "execution_count": null,
   "outputs": [],
   "source": [
    "stat"
   ],
   "metadata": {
    "collapsed": false,
    "pycharm": {
     "name": "#%%\n"
    }
   }
  },
  {
   "cell_type": "code",
   "execution_count": null,
   "outputs": [],
   "source": [
    "stat.loc['mean',:].sort_values()"
   ],
   "metadata": {
    "collapsed": false,
    "pycharm": {
     "name": "#%%\n"
    }
   }
  },
  {
   "cell_type": "markdown",
   "source": [
    "Taking into accout the given dataframe, Bitcoin Cash Close return has the lowest mean (the highest loss) while Dogecoin - the highest gain"
   ],
   "metadata": {
    "collapsed": false
   }
  },
  {
   "cell_type": "code",
   "execution_count": null,
   "outputs": [],
   "source": [
    "\n",
    "\n",
    "stat.loc['std',:].sort_values()"
   ],
   "metadata": {
    "collapsed": false,
    "pycharm": {
     "name": "#%%\n"
    }
   }
  },
  {
   "cell_type": "markdown",
   "source": [
    "Bitcoin is the least volatile, Ethereum Classic - the most\n",
    "\n"
   ],
   "metadata": {
    "collapsed": false
   }
  },
  {
   "cell_type": "markdown",
   "source": [
    "### 2021 year"
   ],
   "metadata": {
    "collapsed": false
   }
  },
  {
   "cell_type": "code",
   "execution_count": null,
   "outputs": [],
   "source": [
    "sns.boxplot(data = all_assets_2021)"
   ],
   "metadata": {
    "collapsed": false,
    "pycharm": {
     "name": "#%%\n"
    }
   }
  },
  {
   "cell_type": "code",
   "execution_count": null,
   "outputs": [],
   "source": [
    "stat_2021 = all_assets_2021.describe()"
   ],
   "metadata": {
    "collapsed": false,
    "pycharm": {
     "name": "#%%\n"
    }
   }
  },
  {
   "cell_type": "code",
   "execution_count": null,
   "outputs": [],
   "source": [
    "stat_2021.loc['mean',:].sort_values()"
   ],
   "metadata": {
    "collapsed": false,
    "pycharm": {
     "name": "#%%\n"
    }
   }
  },
  {
   "cell_type": "markdown",
   "source": [
    "Litecoin has the lowest return, Dodgecoin-the greatest"
   ],
   "metadata": {
    "collapsed": false
   }
  },
  {
   "cell_type": "code",
   "execution_count": null,
   "outputs": [],
   "source": [
    "sns.pairplot(all_assets_2021)"
   ],
   "metadata": {
    "collapsed": false,
    "pycharm": {
     "name": "#%%\n"
    }
   }
  },
  {
   "cell_type": "markdown",
   "source": [
    "From the correlation of logreturns it seems that there are some coins that strongly correlated.\n",
    "Thus, we have the hypothesis that we could find 1 feature which consist of linear combination of log returns of all assets.\n",
    "We use PCA to find the vector with the highest variance to project on it in case the ratio of var explainability is high"
   ],
   "metadata": {
    "collapsed": false
   }
  },
  {
   "cell_type": "code",
   "execution_count": null,
   "outputs": [],
   "source": [
    "# Imports\n",
    "from sklearn.cluster import KMeans\n",
    "from sklearn.decomposition import PCA\n",
    "\n",
    "%config InlineBackend.figure_format='retina'\n",
    "warnings.filterwarnings( \"ignore\", module = \"matplotlib\\..*\" )\n",
    "\n",
    "\n",
    "def vis_pca(all_assets):\n",
    "    #as the range of diff coins is high we need to normalise it\n",
    "    X_std = StandardScaler().fit_transform(all_assets.fillna(0))\n",
    "    pca = PCA()\n",
    "    X_std_pca = pca.fit_transform(X_std)\n",
    "    plot = plt.scatter(X_std_pca[:,0], X_std_pca[:,1])\n",
    "    #plt.legend(handles=plot.legend_elements()[0])\n",
    "    plt.show()\n",
    "\n",
    "    # Plot the explained variances\n",
    "    features = range(pca.n_components_)\n",
    "    plt.bar(features, pca.explained_variance_ratio_, color='black')\n",
    "    plt.xlabel('PCA features')\n",
    "    plt.ylabel('variance %')\n",
    "    plt.xticks(features)\n",
    "    plt.show()\n",
    "vis_pca(all_assets)"
   ],
   "metadata": {
    "collapsed": false,
    "pycharm": {
     "name": "#%%\n"
    }
   }
  },
  {
   "cell_type": "markdown",
   "source": [
    "Fig shows that the first one component explains 25% of the variance in our data which doesn't seem promissing.\n"
   ],
   "metadata": {
    "collapsed": false
   }
  },
  {
   "cell_type": "code",
   "execution_count": null,
   "outputs": [],
   "source": [
    "#for montly data\n",
    "vis_pca(all_assets.resample('M').mean())"
   ],
   "metadata": {
    "collapsed": false,
    "pycharm": {
     "name": "#%%\n"
    }
   }
  },
  {
   "cell_type": "code",
   "execution_count": null,
   "outputs": [],
   "source": [
    "#for weekly data\n",
    "\n",
    "vis_pca(all_assets.resample('W').mean())\n",
    "\n",
    "#Here could be used few components (e.g. that explains 90% to predict)"
   ],
   "metadata": {
    "collapsed": false,
    "pycharm": {
     "name": "#%%\n"
    }
   }
  },
  {
   "cell_type": "markdown",
   "source": [
    "## BTC Seasonal Decomposition\n"
   ],
   "metadata": {
    "collapsed": false
   }
  },
  {
   "cell_type": "code",
   "execution_count": null,
   "outputs": [],
   "source": [
    "#freq https://stackoverflow.com/questions/17001389/pandas-resample-documentation\n",
    "#explanation https://towardsdatascience.com/time-series-decomposition-and-statsmodels-parameters-69e54d035453\n",
    "plt.rcParams[\"figure.figsize\"]=(15,7)\n",
    "\n",
    "def season_df(data, label, a):\n",
    "    df=data.resample(a).mean()\n",
    "    seasonal_decompose(df.Close).plot()\n",
    "    print(label)\n",
    "    return plt.show()\n",
    "\n",
    "season_df(data=btc, label=\"BTC Seasonal Decomposition of monthly data\",a =\"M\")\n"
   ],
   "metadata": {
    "collapsed": false,
    "pycharm": {
     "name": "#%%\n"
    }
   }
  },
  {
   "cell_type": "code",
   "execution_count": null,
   "outputs": [],
   "source": [
    "season_df(data=btc, label=\"BTC Seasonal Decomposition of daily data\",a =\"D\")"
   ],
   "metadata": {
    "collapsed": false,
    "pycharm": {
     "name": "#%%\n"
    }
   }
  },
  {
   "cell_type": "code",
   "execution_count": null,
   "outputs": [],
   "source": [
    "season_df(data=btc, label=\"BTC Seasonal Decomposition of hourly data\",a =\"H\")\n"
   ],
   "metadata": {
    "collapsed": false,
    "pycharm": {
     "name": "#%%\n"
    }
   }
  }
 ]
}
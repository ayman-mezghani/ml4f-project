{
 "cells": [
  {
   "cell_type": "markdown",
   "metadata": {
    "tags": []
   },
   "source": [
    "# G-Research predictions\n",
    "Ekaterina Kryukova, Ayman Mezghani"
   ]
  },
  {
   "cell_type": "code",
   "execution_count": null,
   "metadata": {
    "_cell_guid": "b1076dfc-b9ad-4769-8c92-a6c4dae69d19",
    "_uuid": "8f2839f25d086af736a60e9eeb907d3b93b6e0e5",
    "tags": []
   },
   "outputs": [],
   "source": [
    "import os\n",
    "import gc\n",
    "from datetime import datetime\n",
    "import time\n",
    "\n",
    "import math\n",
    "from itertools import product\n",
    "\n",
    "import numpy as np\n",
    "import pandas as pd\n",
    "\n",
    "from statsmodels.tsa.ar_model import AutoReg\n",
    "from statsmodels.tsa.arima_model import ARMA, ARIMA\n",
    "from statsmodels.tsa.stattools import adfuller\n",
    "from statsmodels.tsa.statespace.sarimax import SARIMAX\n",
    "from statsmodels.tsa.seasonal import seasonal_decompose\n",
    "from statsmodels.graphics.tsaplots import plot_acf, plot_pacf\n",
    "import statsmodels.api as sm\n",
    "\n",
    "from sklearn.model_selection import KFold\n",
    "from sklearn.metrics import mean_squared_error\n",
    "from sklearn.preprocessing import RobustScaler, StandardScaler\n",
    "\n",
    "from scipy import stats\n",
    "\n",
    "import tensorflow as tf\n",
    "from tensorflow import keras\n",
    "from tensorflow.keras import layers\n",
    "from tensorflow.keras.preprocessing.sequence import TimeseriesGenerator\n",
    "\n",
    "# https://github.com/philipperemy/keras-tcn\n",
    "#from tcn import TCN\n",
    "\n",
    "import tensorflow_probability as tfp\n",
    "\n",
    "from plotly.subplots import make_subplots\n",
    "import plotly.express as px\n",
    "import plotly.graph_objects as go\n",
    "import matplotlib.pyplot as plt\n",
    "import seaborn as sns\n",
    "\n",
    "import warnings\n",
    "warnings.filterwarnings(\"ignore\")"
   ]
  },
  {
   "cell_type": "raw",
   "metadata": {},
   "source": [
    "tf.config.experimental.set_memory_growth(tf.config.experimental.list_physical_devices('GPU')[0], True)"
   ]
  },
  {
   "cell_type": "code",
   "execution_count": null,
   "metadata": {},
   "outputs": [],
   "source": [
    "#data_path = '/kaggle/input/'\n",
    "data_path = 'data/'"
   ]
  },
  {
   "cell_type": "markdown",
   "metadata": {
    "tags": [],
    "toc-hr-collapsed": true
   },
   "source": [
    "## Data Exploration"
   ]
  },
  {
   "cell_type": "code",
   "execution_count": null,
   "metadata": {
    "_cell_guid": "b1076dfc-b9ad-4769-8c92-a6c4dae69d19",
    "_uuid": "8f2839f25d086af736a60e9eeb907d3b93b6e0e5",
    "tags": []
   },
   "outputs": [],
   "source": [
    "info = pd.read_csv(data_path + \"g-research-crypto-forecasting/asset_details.csv\")\n",
    "train = pd.read_csv(data_path + \"g-research-crypto-forecasting/train.csv\")"
   ]
  },
  {
   "cell_type": "code",
   "execution_count": null,
   "metadata": {},
   "outputs": [],
   "source": [
    "info.Asset_Name.unique()"
   ]
  },
  {
   "cell_type": "code",
   "execution_count": null,
   "metadata": {},
   "outputs": [],
   "source": [
    "train.columns"
   ]
  },
  {
   "cell_type": "code",
   "execution_count": null,
   "metadata": {},
   "outputs": [],
   "source": [
    "# Convert timestamp\n",
    "train['timestamp'] = pd.to_datetime(train['timestamp'], unit='s')\n",
    "train"
   ]
  },
  {
   "cell_type": "markdown",
   "metadata": {},
   "source": [
    "### Candlestick charts"
   ]
  },
  {
   "cell_type": "code",
   "execution_count": null,
   "metadata": {},
   "outputs": [],
   "source": [
    "#Dictionary for assets\n",
    "rename_dict = {}\n",
    "asset_details = info \n",
    "for a in asset_details['Asset_ID']:\n",
    "    rename_dict[a] = asset_details[asset_details.Asset_ID == a].Asset_Name.values[0]\n",
    "\n",
    "display(rename_dict)"
   ]
  },
  {
   "cell_type": "code",
   "execution_count": null,
   "metadata": {},
   "outputs": [],
   "source": [
    "#supplemental_train['timestamp'] = supplemental_train['timestamp'].astype('datetime64[s]')\n",
    "#example_test['timestamp'] = example_test['timestamp'].astype('datetime64[s]')\n",
    "\n",
    "#train['date'] = pd.DatetimeIndex(train['timestamp']).date\n",
    "#supplemental_train['date'] = pd.DatetimeIndex(supplemental_train['timestamp']).date\n",
    "#example_test['date'] = pd.DatetimeIndex(example_test['timestamp']).date\n",
    "\n",
    "# Resample\n",
    "train_daily = pd.DataFrame()\n",
    "\n",
    "for asset_id in asset_details.Asset_ID:\n",
    "    train_single = train[train.Asset_ID == asset_id].copy()\n",
    "\n",
    "    train_single_new = train_single[['timestamp', 'Count']].resample('D', on='timestamp').sum()\n",
    "    train_single_new['Open'] = train_single[['timestamp', 'Open']].resample('D', on='timestamp').first()['Open']\n",
    "    train_single_new['High'] = train_single[['timestamp', 'High']].resample('D', on='timestamp').max()['High']\n",
    "    train_single_new['Low'] = train_single[['timestamp', 'Low']].resample('D', on='timestamp').min()['Low']\n",
    "    train_single_new['Close'] = train_single[['timestamp', 'Close']].resample('D', on='timestamp').last()['Close']\n",
    "    train_single_new['Volume'] = train_single[['timestamp', 'Volume']].resample('D', on='timestamp').sum()['Volume']\n",
    "    # train_single_new['VWAP']\n",
    "    #train_single_new['Target'] = train_single[['timestamp','Target']].resample('D', on='timestamp').mean()['Target']\n",
    "    train_single_new['Asset_ID'] = asset_id\n",
    "\n",
    "    train_daily = train_daily.append(train_single_new.reset_index(drop=False))\n",
    "    \n",
    "train_daily = train_daily.sort_values(by=['timestamp', 'Asset_ID']).reset_index(drop=True)\n",
    "\n",
    "train_daily = train_daily.pivot(index='timestamp', columns='Asset_ID')[['Count', 'Open', 'High', 'Low', 'Close', 'Volume']]\n",
    "\n",
    "train_daily.reset_index(drop=False, inplace=True)\n",
    "\n",
    "display(train_daily.head(10))"
   ]
  },
  {
   "cell_type": "code",
   "execution_count": null,
   "metadata": {},
   "outputs": [],
   "source": [
    "#visualize Bitcoin for recent data rows - last 200 rows\n",
    "crypto_df = train\n",
    "\n",
    "crypto_df.index = pd.to_datetime(crypto_df.timestamp, unit='s')\n",
    "btc = crypto_df[crypto_df[\"Asset_ID\"] == 1] # Asset_ID = 1 for Bitcoin\n",
    "btc_mini = btc.iloc[-200:] # Select recent data rows\n",
    "\n",
    "fig = go.Figure(data=[go.Candlestick(x=btc_mini.index, open=btc_mini['Open'], high=btc_mini['High'], low=btc_mini['Low'], close=btc_mini['Close'])])\n",
    "fig.show()"
   ]
  },
  {
   "cell_type": "markdown",
   "metadata": {},
   "source": [
    "### Training Data Distribution among differnet Assets "
   ]
  },
  {
   "cell_type": "code",
   "execution_count": null,
   "metadata": {},
   "outputs": [],
   "source": [
    "asset_count = []\n",
    "for i in range(14):\n",
    "    count = (train[\"Asset_ID\"] == i).sum()\n",
    "    asset_count.append(count)\n",
    "\n",
    "fig = px.bar(x=asset_details.sort_values(\"Asset_ID\")[\"Asset_Name\"],\n",
    "             y=asset_count , \n",
    "             color=asset_count ,\n",
    "             color_continuous_scale=\"Emrld\") \n",
    "\n",
    "fig.update_xaxes(title=\"Assets\")\n",
    "fig.update_yaxes(title=\"Number of Rows\")\n",
    "\n",
    "fig.update_layout(showlegend = True,\n",
    "                  title={'text': 'Data Distribution ',\n",
    "                         'y':0.95,\n",
    "                         'x':0.5,\n",
    "                         'xanchor': 'center',\n",
    "                         'yanchor': 'top'})\n",
    "\n",
    "fig.show()"
   ]
  },
  {
   "cell_type": "markdown",
   "metadata": {},
   "source": [
    "1. Data visualtion for 14 popular cryptocurrency\n",
    "2. Price History for selected individual cryptocurrency\n",
    "3. Basic Arima Model for price prediction"
   ]
  },
  {
   "cell_type": "markdown",
   "metadata": {},
   "source": [
    "### Time history of 3 coins and their returns\n",
    "https://www.kaggle.com/fangya/cryptocurrency-data-visualization-arima"
   ]
  },
  {
   "cell_type": "code",
   "execution_count": null,
   "metadata": {},
   "outputs": [],
   "source": [
    "# Input Missing Time Values\n",
    "def fill_timestamp(asset_id, data=train):\n",
    "    df = train[train[\"Asset_ID\"]==asset_id].copy()\n",
    "    df = df.set_index(\"timestamp\").sort_index()\n",
    "    df = df.reindex(pd.date_range(df.index[0], df.index[-1], freq='min'), method=\"pad\")\n",
    "    return df"
   ]
  },
  {
   "cell_type": "code",
   "execution_count": null,
   "metadata": {},
   "outputs": [],
   "source": [
    "#  Bitcoin\n",
    "btc = fill_timestamp(asset_id=1)\n",
    "\n",
    "#  Ethereum\n",
    "eth = fill_timestamp(asset_id=6)\n",
    "\n",
    "#  Cardano\n",
    "ada = fill_timestamp(asset_id=3)"
   ]
  },
  {
   "cell_type": "code",
   "execution_count": null,
   "metadata": {},
   "outputs": [],
   "source": [
    "btc"
   ]
  },
  {
   "cell_type": "markdown",
   "metadata": {
    "tags": []
   },
   "source": [
    "### Cryptocurrency Log Return Correlation Plot for 2021"
   ]
  },
  {
   "cell_type": "code",
   "execution_count": null,
   "metadata": {},
   "outputs": [],
   "source": [
    "# Log Return \n",
    "def log_return(series, periods=1):\n",
    "    return np.log(series).diff(periods=periods)"
   ]
  },
  {
   "cell_type": "code",
   "execution_count": null,
   "metadata": {},
   "outputs": [],
   "source": [
    "btc[btc.index.year == 2021]"
   ]
  },
  {
   "cell_type": "code",
   "execution_count": null,
   "metadata": {},
   "outputs": [],
   "source": [
    "all2021 = []\n",
    "for asset_id, asset_name in zip(info.Asset_ID, info.Asset_Name):\n",
    "    asset = fill_timestamp(asset_id, data=train)\n",
    "    \n",
    "    #take the specific timeframe\n",
    "    asset = asset[asset.index.year == 2021]\n",
    "\n",
    "    lret = log_return(asset.Close.fillna(0))[1:]\n",
    "    \n",
    "    lret.rename(asset_name, inplace=True)\n",
    "    \n",
    "    all2021.append(lret)"
   ]
  },
  {
   "cell_type": "code",
   "execution_count": null,
   "metadata": {},
   "outputs": [],
   "source": [
    "all2021 = pd.concat(all2021, axis=1, keys=[s.name for s in all2021])"
   ]
  },
  {
   "cell_type": "code",
   "execution_count": null,
   "metadata": {},
   "outputs": [],
   "source": [
    "all2021"
   ]
  },
  {
   "cell_type": "code",
   "execution_count": null,
   "metadata": {},
   "outputs": [],
   "source": [
    "# plot the heatmap\n",
    "corr = all2021.corr()\n",
    "fig = sns.heatmap(corr, \n",
    "                  xticklabels=corr.columns,\n",
    "                  yticklabels=corr.columns)\n",
    "\n",
    "fig.get_figure().savefig('corr.jpg')"
   ]
  },
  {
   "cell_type": "code",
   "execution_count": null,
   "metadata": {},
   "outputs": [],
   "source": [
    "def get_redundant_pairs(df):\n",
    "    '''Get diagonal and lower triangular pairs of correlation matrix'''\n",
    "    pairs_to_drop = set()\n",
    "    cols = df.columns\n",
    "    for i in range(0, df.shape[1]):\n",
    "        for j in range(0, i+1):\n",
    "            pairs_to_drop.add((cols[i], cols[j]))\n",
    "    return pairs_to_drop\n",
    "\n",
    "def get_top_abs_correlations(df, n=5):\n",
    "    au_corr = df.corr().abs().unstack()\n",
    "    labels_to_drop = get_redundant_pairs(df)\n",
    "    au_corr = au_corr.drop(labels=labels_to_drop).sort_values(ascending=False)\n",
    "    return au_corr[0:n]\n",
    "\n",
    "get_top_abs_correlations(all2021, n=10)"
   ]
  },
  {
   "cell_type": "code",
   "execution_count": null,
   "metadata": {},
   "outputs": [],
   "source": [
    "# join two asset in single DataFrame\n",
    "\n",
    "lret_btc_long = log_return(btc.Close)[1:]\n",
    "lret_eth_long = log_return(eth.Close)[1:]\n",
    "lret_btc_long.rename('lret_btc', inplace=True)\n",
    "lret_eth_long.rename('lret_eth', inplace=True)\n",
    "two_assets = pd.concat([lret_btc_long, lret_eth_long], axis=1)\n",
    "\n",
    "# group consecutive rows and use .corr() for correlation between columns\n",
    "corr_time = two_assets.groupby(two_assets.index//(10000*60)).corr().loc[:, \"lret_btc\"].loc[:, \"lret_eth\"]\n",
    "\n",
    "corr_time.plot();\n",
    "plt.xticks([])\n",
    "plt.ylabel(\"Correlation\")\n",
    "plt.title(\"Correlation between BTC and ETH over time\");"
   ]
  },
  {
   "cell_type": "markdown",
   "metadata": {},
   "source": [
    "From the Correlation plot we can see Bitcoin Cash is highly correlated with EOS.IO.\n",
    "\n",
    "Binance Coin is correlated with many crypto currencies, such as , Bitcoin, Bitcoin Cash, Cardano, Ethereum.\n",
    "\n",
    "We can have a roughly conclude that Binance Coin, Bitcoin Cash prices have a strong relation with other cryptocurrencies. Whereas Dogecoin and Monero prices are quite independent. Ealier we mentioned Monero is based a donation, which makes sense it is not correlated so much with other coins.\n",
    "\n"
   ]
  },
  {
   "cell_type": "markdown",
   "metadata": {},
   "source": [
    "The corr changes from time "
   ]
  },
  {
   "cell_type": "code",
   "execution_count": null,
   "metadata": {},
   "outputs": [],
   "source": []
  },
  {
   "cell_type": "code",
   "execution_count": null,
   "metadata": {},
   "outputs": [],
   "source": [
    "all2021.shape"
   ]
  },
  {
   "cell_type": "code",
   "execution_count": null,
   "metadata": {},
   "outputs": [],
   "source": [
    "# Plot the Closing Price for BTC, ETH, ADA\n",
    "f = plt.figure(figsize=(10,12))  \n",
    "\n",
    "def gplot(no , data, price, label, ylabel, color):\n",
    "    ax = f.add_subplot(no)\n",
    "    plt.plot(data[price], label=label, color=color)\n",
    "    plt.legend()\n",
    "    plt.xlabel(\"Time\")\n",
    "    plt.ylabel(ylabel)\n",
    "    return plt\n",
    "\n",
    "gplot(no=311, data=btc, price=\"Close\", label=\"BTC 2021 Overall Performance\", ylabel=\"BTC Closing Price\", color=\"Lightskyblue\")\n",
    "gplot(no=312, data=eth, price=\"Close\", label=\"ETH 2021 Overall Performance\", ylabel=\"ETH Closing Price\", color=\"Coral\")\n",
    "gplot(no=313, data=ada, price=\"Close\", label=\"Cardano 2021 Overall Performance\", ylabel=\"ADA Closing Price\", color=\"khaki\")\n",
    "\n",
    "plt.tight_layout()\n",
    "plt.show()"
   ]
  },
  {
   "cell_type": "code",
   "execution_count": null,
   "metadata": {},
   "outputs": [],
   "source": [
    "#Target : 15 minute resudualized returns\n",
    "#Residual Return: An asset's residual return equals its excess return minus beta times the benchmark excess return.\n",
    "\n",
    "f = plt.figure(figsize=(10,12))  \n",
    "gplot(no=311, data=btc, price=\"Target\", label=\"BTC 2021 15min Return Residue\", ylabel=\"BTC residual return\", color=\"Aqua\")\n",
    "gplot(no=312, data=eth, price=\"Target\", label=\"ETH 2021 15min Return Residue\", ylabel=\"ETH residual return\", color=\"Pink\")\n",
    "gplot(no=313, data=ada, price=\"Target\", label=\"ADA 2021 15min Return Residue\", ylabel=\"ADA residual return\", color=\"gold\")\n",
    "\n",
    "\n",
    "plt.tight_layout()\n",
    "plt.show()"
   ]
  },
  {
   "cell_type": "markdown",
   "metadata": {},
   "source": [
    "As we can see ETH, and BTC residual return are relatively stable compared to ADA. This might be a good implication that if the investor would take short time trading opportunities, ADA is a better choice.\n",
    "\n",
    "If the investor is risk averse, BTC or ETH will be a better fit"
   ]
  },
  {
   "cell_type": "code",
   "execution_count": null,
   "metadata": {},
   "outputs": [],
   "source": [
    "#candlestick\n",
    "def c_chart(data,label):\n",
    "    candlestick = go.Figure(data = [go.Candlestick(x =data.index, \n",
    "                                               open = data[('Open')], \n",
    "                                               high = data[('High')], \n",
    "                                               low = data[('Low')], \n",
    "                                               close = data[('Close')])])\n",
    "    candlestick.update_xaxes(title_text = 'Time',\n",
    "                             rangeslider_visible = True)\n",
    "\n",
    "    candlestick.update_layout(\n",
    "    title = {\n",
    "        'text': '{:} Candelstick Chart'.format(label),\n",
    "        \"y\":0.8,\n",
    "        \"x\":0.5,\n",
    "        'xanchor': 'center',\n",
    "        'yanchor': 'top'})\n",
    "\n",
    "    candlestick.update_yaxes(title_text = 'Price in USD', ticksuffix = '$')\n",
    "    return candlestick"
   ]
  },
  {
   "cell_type": "code",
   "execution_count": null,
   "metadata": {},
   "outputs": [],
   "source": [
    "%matplotlib inline\n",
    "btc_candle = c_chart(btc[-90:], label=\"BTC Price\")\n",
    "btc_candle.show()\n",
    "\n",
    "eth_candle = c_chart(eth[-90:], label=\"ETH Price \")\n",
    "eth_candle.show()"
   ]
  },
  {
   "cell_type": "markdown",
   "metadata": {
    "tags": [],
    "toc-hr-collapsed": true
   },
   "source": [
    "## TBD "
   ]
  },
  {
   "cell_type": "markdown",
   "metadata": {
    "tags": []
   },
   "source": [
    "### ARIMA Model ???"
   ]
  },
  {
   "cell_type": "code",
   "execution_count": null,
   "metadata": {},
   "outputs": [],
   "source": [
    "# Function to Subset the Price variables\n",
    "def mini_data(data):\n",
    "    df = data[[\"Close\",\"Low\",\"High\",\"Open\"]]\n",
    "    return df\n",
    "\n",
    "btc_mini = mini_data(btc)\n",
    "eth_mini = mini_data(eth)\n",
    "ada_mini = mini_data(ada)\n",
    "btc_mini.head()"
   ]
  },
  {
   "cell_type": "code",
   "execution_count": null,
   "metadata": {},
   "outputs": [],
   "source": [
    "# BTC Seasonal Decomposition\n",
    "plt.rcParams[\"figure.figsize\"] = (15,7)\n",
    "\n",
    "def season_df(data, label):\n",
    "    df = data.resample(\"M\").mean()\n",
    "    seasonal_decompose(df.Close).plot()\n",
    "    print(label)\n",
    "    return plt.show()\n",
    "\n",
    "season_df(data=btc, label=\"BTC Seasonal Decomposition\")"
   ]
  },
  {
   "cell_type": "code",
   "execution_count": null,
   "metadata": {},
   "outputs": [],
   "source": [
    "# CALCULATE PRICE RETURNS AS DAILY PERCENTAGE CHANGE USING pct_change()\n",
    "btc['returns'] = 100 * btc.Close.pct_change().dropna()\n",
    "\n",
    "# CALCULATE LOG RETURNS BASED ON ABOVE FORMULA\n",
    "btc['log_returns'] = np.log(btc.Close/btc.Close.shift(1))\n",
    "\n",
    "btc.dropna(inplace=True)\n",
    "\n",
    "# PLOT DISTRIBUTION PLOTS OF RETURNS & LOG RETURNS\n",
    "# AND VISUALLY COMPARE THEM WITH THE STANDARD NORMAL DISTRIBUTION\n",
    "with sns.axes_style(\"darkgrid\"):\n",
    "    fig, axes = plt.subplots(nrows=2, ncols=2, figsize=(18,12))\n",
    "\n",
    "    axes[0][0].plot(btc.returns, color='blue')\n",
    "    axes[0][0].set_title('Returns')\n",
    "\n",
    "    sns.distplot(btc.returns, norm_hist=True, fit=stats.norm, color='blue',\n",
    "                bins=50, ax=axes[0][1])\n",
    "    axes[0][1].set_title('Returns')\n",
    "\n",
    "    axes[1][0].plot(btc.log_returns, color='green')\n",
    "    axes[1][0].set_title('Log Returns')\n",
    "\n",
    "    sns.distplot(btc.log_returns, norm_hist=True, fit=stats.norm, color='green',\n",
    "                bins=50, ax=axes[1][1])\n",
    "    axes[1][1].set_title('Log Returns')\n",
    "    plt.tight_layout()\n",
    "\n",
    "    fig.show();"
   ]
  },
  {
   "cell_type": "code",
   "execution_count": null,
   "metadata": {},
   "outputs": [],
   "source": [
    "from scipy.stats import kurtosis, skew\n",
    "\n",
    "#returns\n",
    "print('returns: excess kurtosis of normal distribution (should be 0): {}'.format(kurtosis(btc.returns)))\n",
    "print('returns: skewness of normal distribution (should be 0): {}'.format(skew(btc.returns)))\n",
    "\n",
    "#log_returns\n",
    "print('log_returns: excess kurtosis of normal distribution (should be 0): {}'.format(kurtosis(btc.log_returns)))\n",
    "print('log_returns: skewness of normal distribution (should be 0): {}'.format(skew(btc.log_returns)))"
   ]
  },
  {
   "cell_type": "markdown",
   "metadata": {},
   "source": [
    "- skewness:\n",
    "returns - positive, log_returns - negative\n",
    "\n",
    "- positive kurtosis (leptokurtic) - Both Returns & Log Returns show higher peak with thicker tails than the standard normal distribution.\n"
   ]
  },
  {
   "cell_type": "markdown",
   "metadata": {},
   "source": [
    "### Box-Cox Transformation for A ??"
   ]
  },
  {
   "cell_type": "markdown",
   "metadata": {},
   "source": [
    "Sometimes after applying Box-Cox with a particular value of lambda the process may look stationary. It is sometimes possible that even if after applying the Box-Cox transformation the series does not appear to be stationary, diagnostics from ARIMA modeling can then be used to decide if differencing or seasonal differencing might be useful to to remove polynomial trends or seasonal trends respectively. After that the result might be an ARMA model that is stationary. If diagnostics confirm the orders p an q for the ARMA model, the AR and MA parameters can then be estimated."
   ]
  },
  {
   "cell_type": "code",
   "execution_count": null,
   "metadata": {},
   "outputs": [],
   "source": [
    "#Box-Cox Transformation\n",
    "btc_month=btc_mini.resample(\"M\").mean()\n",
    "btc_month[\"close_box\"], lmbda=stats.boxcox(btc_month.Close)\n",
    "print(\"Dickey–Fuller test: p=%f\" % adfuller(btc_month.close_box)[1])\n"
   ]
  },
  {
   "cell_type": "markdown",
   "metadata": {},
   "source": [
    "The p-value indicates that series is still not stationary.\n",
    "\n"
   ]
  },
  {
   "cell_type": "markdown",
   "metadata": {},
   "source": [
    "Seasonal differentiation \n",
    "One method of differencing data is seasonal differencing, which involves computing the difference between an observation and the corresponding observation in the previous year."
   ]
  },
  {
   "cell_type": "code",
   "execution_count": null,
   "metadata": {},
   "outputs": [],
   "source": [
    "# Seasonal differentiation (12 months)\n",
    "btc_month['box_diff_seasonal_12'] = btc_month.close_box - btc_month.close_box.shift(12)\n",
    "print(\"Dickey–Fuller test: p=%f\" % adfuller(btc_month.box_diff_seasonal_12[12:])[1])"
   ]
  },
  {
   "cell_type": "markdown",
   "metadata": {},
   "source": [
    "The p-value indicates that series is still not stationary.\n",
    "\n"
   ]
  },
  {
   "cell_type": "code",
   "execution_count": null,
   "metadata": {},
   "outputs": [],
   "source": [
    "# Seasonal differentiation (3 months)\n",
    "btc_month['box_diff_seasonal_3'] = btc_month.close_box - btc_month.close_box.shift(3)\n",
    "print(\"Dickey–Fuller test: p=%f\" % adfuller(btc_month.box_diff_seasonal_3[3:])[1])"
   ]
  },
  {
   "cell_type": "markdown",
   "metadata": {},
   "source": [
    "The p-value indicates that series is stationary as the computed p-value is lower than the significance level alpha = 0.05."
   ]
  },
  {
   "cell_type": "markdown",
   "metadata": {},
   "source": [
    "#### Regular differentiation "
   ]
  },
  {
   "cell_type": "markdown",
   "metadata": {},
   "source": [
    "Sometimes it may be necessary to difference the data a second time to obtain a stationary time series, which is referred to as second order differencing"
   ]
  },
  {
   "cell_type": "code",
   "execution_count": null,
   "metadata": {},
   "outputs": [],
   "source": [
    "# Regular differentiation (second diff)\n",
    "btc_month['box_diff2'] = btc_month.box_diff_seasonal_12 - btc_month.box_diff_seasonal_12.shift(1)\n",
    "\n",
    "# STL-decomposition\n",
    "seasonal_decompose(btc_month.box_diff2[13:]).plot()   \n",
    "print(\"Dickey–Fuller test: p=%f\" % adfuller(btc_month.box_diff2[13:])[1])\n",
    "\n",
    "plt.show()"
   ]
  },
  {
   "cell_type": "markdown",
   "metadata": {},
   "source": [
    "The p-value indicates that series is stationary as the computed p-value is lower than the significance level alpha = 0.05."
   ]
  },
  {
   "cell_type": "markdown",
   "metadata": {},
   "source": [
    "#### Autocorrelation"
   ]
  },
  {
   "cell_type": "markdown",
   "metadata": {},
   "source": [
    "Autocorrelation is the correlation of a time series with the same time series lagged. It summarizes the strength of a relationship with an observation in a time series with observations at prior time steps.\n",
    "\n",
    "We create autocorrelation factor (ACF) and partial autocorrelation factor (PACF) plots to identify patterns in the above data which is stationary on both mean and variance. The idea is to identify presence of AR and MA components in the residuals."
   ]
  },
  {
   "cell_type": "code",
   "execution_count": null,
   "metadata": {},
   "outputs": [],
   "source": [
    "#autocorrelation_plot(btc_month.close)\n",
    "plot_acf(btc_month.Close[13:].values.squeeze(), lags=12)\n",
    "\n",
    "plt.tight_layout()\n",
    "plt.show()"
   ]
  },
  {
   "cell_type": "markdown",
   "metadata": {},
   "source": [
    "There is a positive correlation with the first 9 lags that is perhaps significant for the first 3 lags.\n",
    "\n",
    "A good starting point for the AR parameter of the model may be 3.\n",
    "\n",
    "Lets try out autocorrelation on the differences"
   ]
  },
  {
   "cell_type": "code",
   "execution_count": null,
   "metadata": {},
   "outputs": [],
   "source": [
    "# Initial approximation of parameters using Autocorrelation and Partial Autocorrelation Plots\n",
    "ax = plt.subplot(211)\n",
    "# Plot the autocorrelation function\n",
    "#sm.graphics.tsa.plot_acf(btc_month.box_diff2[13:].values.squeeze(), lags=48, ax=ax)\n",
    "plot_acf(btc_month.box_diff2[13:].values.squeeze(), lags=12, ax=ax)\n",
    "ax = plt.subplot(212)\n",
    "#sm.graphics.tsa.plot_pacf(btc_month.box_diff2[13:].values.squeeze(), lags=48, ax=ax)\n",
    "plot_pacf(btc_month.box_diff2[13:].values.squeeze(), lags=12, ax=ax)\n",
    "plt.tight_layout()\n",
    "plt.show()"
   ]
  },
  {
   "cell_type": "markdown",
   "metadata": {},
   "source": [
    "There are not many spikes in the plots outside the insignificant zone (shaded) so there may not be enough information available in the residuals to be extracted by AR and MA models."
   ]
  },
  {
   "cell_type": "markdown",
   "metadata": {},
   "source": [
    "#### Arima"
   ]
  },
  {
   "cell_type": "markdown",
   "metadata": {},
   "source": [
    "AutoRegressive Integrated Moving Average\n",
    "\n",
    "ARIMA models are denoted with the notation ARIMA(p, d, q). These parameters account for seasonality, trend, and noise in datasets:"
   ]
  },
  {
   "cell_type": "markdown",
   "metadata": {},
   "source": [
    "p - the number of lag observations to include in the model, or lag order. (AR)\n",
    "d - the number of times that the raw observations are differenced, or the degree of differencing. (I)\n",
    "q - the size of the moving average window, also called the order of moving average.(MA)"
   ]
  },
  {
   "cell_type": "markdown",
   "metadata": {},
   "source": [
    "A linear regression model is constructed including the specified number and type of terms, and the data is prepared by a degree of differencing in order to make it stationary, i.e. to remove trend and seasonal structures that negatively affect the regression model. A value of 0 for a parameter indicates to not use that element of the model."
   ]
  },
  {
   "cell_type": "markdown",
   "metadata": {},
   "source": [
    "#### Parameter Selection\n",
    "We will iteratively explore different combinations of parameters. For each combination we fit a new ARIMA model with SARIMAX() and assess its overall quality.\n",
    "\n",
    "We will use the AIC (Akaike Information Criterion) value, returned with ARIMA models fitted using statsmodels. The AIC measures how well a model fits the data while taking into account the overall complexity of the model. A model that fits the data very well while using lots of features will be assigned a larger AIC score than a model that uses fewer features to achieve the same goodness-of-fit. Therefore, we are interested in finding the model that yields the lowest AIC value."
   ]
  },
  {
   "cell_type": "code",
   "execution_count": null,
   "metadata": {},
   "outputs": [],
   "source": [
    "btc_month.index"
   ]
  },
  {
   "cell_type": "code",
   "execution_count": null,
   "metadata": {},
   "outputs": [],
   "source": []
  },
  {
   "cell_type": "code",
   "execution_count": null,
   "metadata": {},
   "outputs": [],
   "source": [
    "#start=datetime(2018, 1, 31), end=datetime(2021, 5, 31)\n",
    "\n",
    "btc_month.index"
   ]
  },
  {
   "cell_type": "code",
   "execution_count": null,
   "metadata": {},
   "outputs": [],
   "source": [
    "qs = range(0, 3)\n",
    "ps = range(0, 3)\n",
    "d=1\n",
    "parameters = product(ps, qs)\n",
    "parameters_list = list(parameters)\n",
    "len(parameters_list)\n",
    "\n",
    "# Model Selection\n",
    "results = []\n",
    "best_aic = float(\"inf\")\n",
    "warnings.filterwarnings('ignore')\n",
    "for param in parameters_list:\n",
    "    try:\n",
    "        model = SARIMAX(btc_month['2018-01-31':'2021-05-31'].close_box, order=(param[0], d, param[1])).fit(disp=-1)\n",
    "    except ValueError:\n",
    "        print('bad parameter combination:', param)\n",
    "        continue\n",
    "    aic = model.aic\n",
    "    if aic < best_aic:\n",
    "        best_model = model\n",
    "        best_aic = aic\n",
    "        best_param = param\n",
    "    results.append([param, model.aic])"
   ]
  },
  {
   "cell_type": "code",
   "execution_count": null,
   "metadata": {},
   "outputs": [],
   "source": [
    "result_table = pd.DataFrame(results)\n",
    "result_table.columns = ['parameters', 'aic']\n",
    "print(result_table.sort_values(by = 'aic', ascending=True).head())\n",
    "print(best_model.summary())"
   ]
  },
  {
   "cell_type": "code",
   "execution_count": null,
   "metadata": {},
   "outputs": [],
   "source": [
    "print(\"Dickey–Fuller test:: p=%f\" % adfuller(best_model.resid[13:])[1])\n"
   ]
  },
  {
   "cell_type": "markdown",
   "metadata": {},
   "source": [
    "#### Analysis of Results \n",
    "The coef column shows the weight (i.e. importance) of each feature and how each one impacts the time series. The P>|z| column informs us of the significance of each feature weight. Here, each weight has a p-value lower or close to 0.05, so it is reasonable to retain all of them in our model.\n",
    "\n",
    "When fitting seasonal ARIMA models (and any other models for that matter), it is important to run model diagnostics to ensure that none of the assumptions made by the model have been violated. The plot_diagnostics object allows us to quickly generate model diagnostics and investigate for any unusual behavior."
   ]
  },
  {
   "cell_type": "markdown",
   "metadata": {},
   "source": [
    "Our primary concern is to ensure that the residuals of our model are uncorrelated and normally distributed with zero-mean. If the seasonal ARIMA model does not satisfy these properties, it is a good indication that it can be further improved.\n",
    "In the histogram (top right), the KDE line should follow the N(0,1) line (normal distribution with mean 0, standard deviation 1) closely. This is an indication whether the residuals are normally distributed or not.\n",
    "In the Q-Q-plot the ordered distribution of residuals (blue dots) should follow the linear trend of the samples taken from a standard normal distribution with N(0, 1). Again, this is an indication whether the residuals are normally distributed.\n",
    "\n",
    "The standardized residual(top left) plot doesn't display any obvious seasonality. \n",
    "This is confirmed by the Correlogram (bottom right), which shows that the time series residuals have low correlation with lagged versions of itself. (?)"
   ]
  },
  {
   "cell_type": "code",
   "execution_count": null,
   "metadata": {},
   "outputs": [],
   "source": [
    "best_model.plot_diagnostics(figsize=(15, 12))\n",
    "plt.show()"
   ]
  },
  {
   "cell_type": "markdown",
   "metadata": {},
   "source": [
    "Conclusion: We may consider trying to standardise the distribution further. But lets go ahead and do a prediction anyway..."
   ]
  },
  {
   "cell_type": "code",
   "execution_count": null,
   "metadata": {},
   "outputs": [],
   "source": [
    "btc_month[['Close']]"
   ]
  },
  {
   "cell_type": "code",
   "execution_count": null,
   "metadata": {},
   "outputs": [],
   "source": [
    "#one-step ahead predictions\n",
    "def invboxcox(y,lmbda):\n",
    "    if lmbda == 0:\n",
    "        return(np.exp(y))\n",
    "    else:\n",
    "        return(np.exp(np.log(lmbda*y+1)/lmbda))\n",
    "# Prediction\n",
    "\n",
    "btc_month_pred['forecast'] = invboxcox(best_model.predict(start=datetime(2018, 1, 31), end=datetime(2021, 9, 21)), lmbda)\n",
    "plt.figure(figsize=(18,10))\n",
    "btc_month_pred.Close.plot()\n",
    "btc_month_pred.forecast.plot(color='r', ls='--', label='Predicted Close')\n",
    "plt.legend()\n",
    "plt.title('Bitcoin monthly forecast')\n",
    "plt.ylabel('USD')\n",
    "plt.show()"
   ]
  },
  {
   "cell_type": "code",
   "execution_count": null,
   "metadata": {},
   "outputs": [],
   "source": [
    "#one-step ahead predictions\n",
    "def invboxcox(y,lmbda):\n",
    "    if lmbda == 0:\n",
    "        return(np.exp(y))\n",
    "    else:\n",
    "        return(np.exp(np.log(lmbda*y+1)/lmbda))\n",
    "    \n",
    "# Prediction\n",
    "btc_month_pred = btc_month[['Close']]\n",
    "date_list = [datetime(2021, 6, 20), datetime(2021, 7, 20), datetime(2021, 8, 21), datetime(2021, 9, 21)]\n",
    "future = pd.DataFrame(index=date_list, columns= btc_month.columns)\n",
    "btc_month_pred = pd.concat([btc_month_pred, future])\n",
    "btc_month_pred['forecast'] = invboxcox(best_model.predict(start=datetime(2018, 1, 31), end=datetime(2021, 5, 31)), lmbda)\n",
    "plt.figure(figsize=(18,10))\n",
    "btc_month_pred.Close.plot()\n",
    "btc_month_pred.forecast.plot(color='r', ls='--', label='Predicted Close')\n",
    "plt.legend()\n",
    "plt.title('Bitcoin monthly forecast')\n",
    "plt.ylabel('USD')\n",
    "plt.show()"
   ]
  },
  {
   "cell_type": "code",
   "execution_count": null,
   "metadata": {},
   "outputs": [],
   "source": []
  },
  {
   "cell_type": "code",
   "execution_count": null,
   "metadata": {},
   "outputs": [],
   "source": [
    "##Addd SARIMAX (week 6)\n",
    "##Add rmse\n",
    "##Add other metric that is used in the competition"
   ]
  },
  {
   "cell_type": "code",
   "execution_count": null,
   "metadata": {},
   "outputs": [],
   "source": []
  },
  {
   "cell_type": "markdown",
   "metadata": {
    "tags": []
   },
   "source": [
    "## Artificial Neural Networks Methods"
   ]
  },
  {
   "cell_type": "code",
   "execution_count": null,
   "metadata": {},
   "outputs": [],
   "source": [
    "DEBUG = True\n",
    "EPOCHS = 100\n",
    "N_ASSETS = 14\n",
    "WINDOW_SIZE = 15\n",
    "BATCH_SIZE = 1024\n",
    "PCT_VALIDATION = 10 # last 10% of the data are used as validation set"
   ]
  },
  {
   "cell_type": "markdown",
   "metadata": {},
   "source": [
    "### Data Preparation (Building the Time Series Model)"
   ]
  },
  {
   "cell_type": "markdown",
   "metadata": {},
   "source": [
    "#### Loading"
   ]
  },
  {
   "cell_type": "markdown",
   "metadata": {},
   "source": [
    "Loading data and converting timestamps"
   ]
  },
  {
   "cell_type": "code",
   "execution_count": null,
   "metadata": {},
   "outputs": [],
   "source": [
    "asset_details = pd.read_csv(data_path + 'g-research-crypto-forecasting/asset_details.csv')"
   ]
  },
  {
   "cell_type": "code",
   "execution_count": null,
   "metadata": {},
   "outputs": [],
   "source": [
    "asset_details"
   ]
  },
  {
   "cell_type": "code",
   "execution_count": null,
   "metadata": {
    "_cell_guid": "b1076dfc-b9ad-4769-8c92-a6c4dae69d19",
    "_uuid": "8f2839f25d086af736a60e9eeb907d3b93b6e0e5",
    "tags": []
   },
   "outputs": [],
   "source": [
    "train = pd.read_csv(data_path + \"g-research-crypto-forecasting/train.csv\")"
   ]
  },
  {
   "cell_type": "code",
   "execution_count": null,
   "metadata": {},
   "outputs": [],
   "source": [
    "train.columns"
   ]
  },
  {
   "cell_type": "code",
   "execution_count": null,
   "metadata": {},
   "outputs": [],
   "source": [
    "# Convert timestamp\n",
    "train['timestamp'] = pd.to_datetime(train['timestamp'], unit='s')\n",
    "train"
   ]
  },
  {
   "cell_type": "markdown",
   "metadata": {},
   "source": [
    "#### Reindexing and sorting"
   ]
  },
  {
   "cell_type": "markdown",
   "metadata": {},
   "source": [
    "Asset-wise reindexing, performing a forward fill when possible, else a backfill. We create a column `is_real` to note whether a row is existant in the original dataset or added due to reindexing."
   ]
  },
  {
   "cell_type": "code",
   "execution_count": null,
   "metadata": {},
   "outputs": [],
   "source": [
    "# maybe target should not be filled. The filling has to be re-examined"
   ]
  },
  {
   "cell_type": "code",
   "execution_count": null,
   "metadata": {},
   "outputs": [],
   "source": [
    "train.index = train.timestamp\n",
    "train.sort_index(inplace=True)\n",
    "train['is_real'] = True\n",
    "ind = train.index.unique()\n",
    "\n",
    "def reindex(df):\n",
    "    res = df.reindex(pd.date_range(ind.min(), ind.max(), freq='min'))\n",
    "    res['is_real'].fillna(False, inplace=True)\n",
    "    res['timestamp'] = res.index\n",
    "    res = res.fillna(method=\"ffill\").fillna(method=\"bfill\")\n",
    "    return res\n",
    "\n",
    "train = train.groupby('Asset_ID').apply(reindex).reset_index(0, drop=True).sort_values(by=['timestamp', 'Asset_ID'])\n",
    "gc.collect()"
   ]
  },
  {
   "cell_type": "code",
   "execution_count": null,
   "metadata": {},
   "outputs": [],
   "source": [
    "train = train.loc['2021-01-01 00:00:00':]"
   ]
  },
  {
   "cell_type": "raw",
   "metadata": {},
   "source": [
    "# Smaller dataset for debugging\n",
    "if DEBUG:\n",
    "    train = train[:500010]"
   ]
  },
  {
   "cell_type": "code",
   "execution_count": null,
   "metadata": {},
   "outputs": [],
   "source": [
    "train.head(20)"
   ]
  },
  {
   "cell_type": "markdown",
   "metadata": {},
   "source": [
    "#### VWAP clipping"
   ]
  },
  {
   "cell_type": "code",
   "execution_count": null,
   "metadata": {},
   "outputs": [],
   "source": [
    "VWAP_max = np.max(train[np.isfinite(train.VWAP)].VWAP)\n",
    "VWAP_min = np.min(train[np.isfinite(train.VWAP)].VWAP)\n",
    "train['VWAP'] = np.nan_to_num(train.VWAP, posinf=VWAP_max, neginf=VWAP_min)"
   ]
  },
  {
   "cell_type": "markdown",
   "metadata": {},
   "source": [
    "#### Feature engineering"
   ]
  },
  {
   "cell_type": "code",
   "execution_count": null,
   "metadata": {},
   "outputs": [],
   "source": [
    "def feature_eng(_df, row = False):\n",
    "    #_df = df.copy()\n",
    "    \n",
    "    _df['Spread'] = _df['High'] - _df['Low']\n",
    "    _df['Close-Open'] = _df['Close'] - _df['Open']\n",
    "\n",
    "    _df['Upper_Shadow'] = _df['High'] - np.maximum(_df['Close'], _df['Open'])\n",
    "    _df['Lower_Shadow'] = np.minimum(_df['Close'], _df['Open']) - _df['Low']\n",
    "    \n",
    "    _df['High/Low'] = _df['High'] / _df['Low']\n",
    "    _df['log_High/Low'] = np.log(_df['High/Low'])\n",
    "    \n",
    "    _df['Close/Open'] = _df['Close'] / _df['Open']\n",
    "    _df['log_Close/Open'] = np.log(_df['Close/Open'])\n",
    "\n",
    "    _df['Volume/Count'] = _df['Volume'] / (_df['Count'] + 1)\n",
    "\n",
    "    _df['LOGVOL'] = np.log(1. + _df['Volume'])\n",
    "    _df['LOGCNT'] = np.log(1. + _df['Count'])\n",
    "\n",
    "    _df['Mean'] = _df[['Open', 'High', 'Low', 'Close']].mean(axis = 1)\n",
    "    _df['High/Mean'] = _df['High'] / _df['Mean']\n",
    "    _df['Low/Mean'] = _df['Low'] / _df['Mean']\n",
    "\n",
    "    _df['Median'] = _df[['Open', 'High', 'Low', 'Close']].median(axis=1)\n",
    "    _df['High/Median'] = _df['High'] / _df['Median']\n",
    "    _df['Low/Median'] = _df['Low'] / _df['Median']\n",
    "\n",
    "    \"\"\"################################### ???\n",
    "\n",
    "        _df['RNG'] = (_df['High'] - _df['Low']) / _df['VWAP']\n",
    "        _df['MOV'] = (_df['Close'] - _df['Open']) / _df['VWAP']\n",
    "        _df['CLS'] = (_df['Close'] - _df['VWAP']) / _df['VWAP']\n",
    "\n",
    "    ################################### ???\n",
    "\n",
    "        _df['gtrade'] = _df['Close-Open'] / _df['Count']\n",
    "        _df['shadow1'] = _df['Close-Open'] / (_df['Volume'] + 1)\n",
    "        _df['shadow3'] = _df['Upper_Shadow'] / (_df['Volume'] + 1)\n",
    "        _df['shadow5'] = _df['Lower_Shadow'] / (_df['Volume'] + 1)\n",
    "\n",
    "        _df['diff1'] = _df['Volume'] - _df['Count'] # ?????\n",
    "\n",
    "        _df['mean1'] = (_df['shadow5'] + _df['shadow3']) / 2\n",
    "        _df['mean2'] = (_df['shadow1'] + _df['Volume']) / 2\n",
    "        _df['mean3'] = (_df['Close-Open'] + _df['gtrade']) / 2\n",
    "        _df['mean4'] = (_df['diff1'] + _df['Upper_Shadow']) / 2\n",
    "        _df['mean5'] = (_df['diff1'] + _df['Lower_Shadow']) / 2\"\"\"\n",
    "\n",
    "    return _df"
   ]
  },
  {
   "cell_type": "markdown",
   "metadata": {},
   "source": [
    "Get the features"
   ]
  },
  {
   "cell_type": "code",
   "execution_count": null,
   "metadata": {},
   "outputs": [],
   "source": [
    "train = feature_eng(train)"
   ]
  },
  {
   "cell_type": "markdown",
   "metadata": {},
   "source": [
    "some params needed for the model, sampling, etc."
   ]
  },
  {
   "cell_type": "code",
   "execution_count": null,
   "metadata": {},
   "outputs": [],
   "source": [
    "targets = train['Target'].to_numpy().reshape(-1, N_ASSETS)"
   ]
  },
  {
   "cell_type": "code",
   "execution_count": null,
   "metadata": {},
   "outputs": [],
   "source": [
    "feature_cols = train.columns.drop(['Asset_ID', 'Target', 'timestamp', 'is_real'])"
   ]
  },
  {
   "cell_type": "code",
   "execution_count": null,
   "metadata": {},
   "outputs": [],
   "source": [
    "feature_cols"
   ]
  },
  {
   "cell_type": "code",
   "execution_count": null,
   "metadata": {},
   "outputs": [],
   "source": [
    "len(feature_cols)"
   ]
  },
  {
   "cell_type": "markdown",
   "metadata": {},
   "source": [
    "#### Managing added timestamps"
   ]
  },
  {
   "cell_type": "markdown",
   "metadata": {},
   "source": [
    "non-real data features are set to 0 which are then masked by the model"
   ]
  },
  {
   "cell_type": "code",
   "execution_count": null,
   "metadata": {},
   "outputs": [],
   "source": [
    "for col in feature_cols:\n",
    "    train[col] = train[col] * train.is_real"
   ]
  },
  {
   "cell_type": "code",
   "execution_count": null,
   "metadata": {},
   "outputs": [],
   "source": [
    "train.head(30)"
   ]
  },
  {
   "cell_type": "markdown",
   "metadata": {},
   "source": [
    "#### Generating training samples"
   ]
  },
  {
   "cell_type": "code",
   "execution_count": null,
   "metadata": {},
   "outputs": [],
   "source": [
    "train_data = train[feature_cols].values\n",
    "train_data = train_data.reshape(-1, N_ASSETS, train_data.shape[-1])"
   ]
  },
  {
   "cell_type": "code",
   "execution_count": null,
   "metadata": {},
   "outputs": [],
   "source": [
    "train_data.shape"
   ]
  },
  {
   "cell_type": "markdown",
   "metadata": {},
   "source": [
    "Samples with a duration of WINDOW_SIZE records (minutes) will be formed from the train array. Each sample has a target vector corresponding to the final index if WINDOW_SIZE record."
   ]
  },
  {
   "cell_type": "code",
   "execution_count": null,
   "metadata": {},
   "outputs": [],
   "source": [
    "class sample_generator(keras.utils.Sequence):\n",
    "    def __init__(self, x_set, y_set, batch_size, length):\n",
    "        self.x, self.y = x_set, y_set\n",
    "        self.batch_size = batch_size\n",
    "        self.length = length\n",
    "        self.size = len(x_set)\n",
    "    def __len__(self): return int(np.ceil(len(self.x) / float(self.batch_size)))\n",
    "    def __getitem__(self, idx):\n",
    "        batch_x = []\n",
    "        batch_y = []\n",
    "        for i in range(self.batch_size):\n",
    "            start_ind = self.batch_size * idx + i\n",
    "            end_ind = start_ind + self.length \n",
    "            if end_ind <= self.size:\n",
    "                batch_x.append(self.x[start_ind : end_ind])\n",
    "                batch_y.append(self.y[end_ind -1])\n",
    "        return np.array(batch_x), np.array(batch_y)"
   ]
  },
  {
   "cell_type": "code",
   "execution_count": null,
   "metadata": {},
   "outputs": [],
   "source": [
    "X_train, X_test = train_data[:-len(train_data)//PCT_VALIDATION], train_data[-len(train_data)//PCT_VALIDATION:]\n",
    "y_train, y_test = targets[:-len(train_data)//PCT_VALIDATION], targets[-len(train_data)//PCT_VALIDATION:]"
   ]
  },
  {
   "cell_type": "code",
   "execution_count": null,
   "metadata": {},
   "outputs": [],
   "source": [
    "train_generator = sample_generator(X_train, y_train, length=WINDOW_SIZE, batch_size=BATCH_SIZE)\n",
    "val_generator = sample_generator(X_test, y_test, length=WINDOW_SIZE, batch_size=BATCH_SIZE)\n",
    "print(f'Sample shape: {train_generator[0][0].shape}')\n",
    "print(f'Target shape: {train_generator[0][1].shape}')"
   ]
  },
  {
   "cell_type": "markdown",
   "metadata": {},
   "source": [
    "### Metrics and Loss functions"
   ]
  },
  {
   "cell_type": "code",
   "execution_count": null,
   "metadata": {},
   "outputs": [],
   "source": [
    "#Correlations for predicted and real\n",
    "def MaxCorrelation(y_true,y_pred): \n",
    "    return -tf.math.abs(tfp.stats.correlation(y_pred, y_true, sample_axis=None, event_axis=None))\n",
    "\n",
    "def Correlation(y_true,y_pred): \n",
    "    return tf.math.abs(tfp.stats.correlation(y_pred, y_true, sample_axis=None, event_axis=None))\n",
    "\n",
    "#Masked losses\n",
    "def masked_mse(y_true, y_pred):\n",
    "    mask = tf.math.not_equal(y_true, 0.)\n",
    "    y_true_masked = tf.boolean_mask(y_true, mask)\n",
    "    y_pred_masked = tf.boolean_mask(y_pred, mask)\n",
    "    return tf.keras.losses.mean_squared_error(y_true=y_true_masked, y_pred=y_pred_masked)\n",
    "\n",
    "def masked_mae(y_true, y_pred):\n",
    "    mask = tf.math.not_equal(y_true, 0.)\n",
    "    y_true_masked = tf.boolean_mask(y_true, mask)\n",
    "    y_pred_masked = tf.boolean_mask(y_pred, mask)\n",
    "    return tf.keras.losses.mean_absolute_error(y_true=y_true_masked, y_pred=y_pred_masked)\n",
    "\n",
    "def masked_cosine(y_true, y_pred):\n",
    "    mask = tf.math.not_equal(y_true, 0.)\n",
    "    y_true_masked = tf.boolean_mask(y_true, mask)\n",
    "    y_pred_masked = tf.boolean_mask(y_pred, mask)\n",
    "    return tf.keras.losses.cosine_similarity(y_true_masked, y_pred_masked)"
   ]
  },
  {
   "cell_type": "markdown",
   "metadata": {},
   "source": [
    "### LSTM"
   ]
  },
  {
   "cell_type": "markdown",
   "metadata": {},
   "source": [
    "#### Multivariate 1-Layered LSTM with Gloobal Average Pool"
   ]
  },
  {
   "cell_type": "markdown",
   "metadata": {
    "tags": []
   },
   "source": [
    "##### Model\n",
    "Our model will be trained for the number of FOLDS and EPOCHS you chose in the configuration above. Each fold the model with lowest validation loss will be saved and used to predict OOF and test. Adjust the variable VERBOSE. The variable VERBOSE=1 or 2 will display the training and validation loss for each epoch as text."
   ]
  },
  {
   "cell_type": "code",
   "execution_count": null,
   "metadata": {},
   "outputs": [],
   "source": [
    "#Model\n",
    "def get_model(n_assets=N_ASSETS):\n",
    "    x_input = keras.Input(shape=(train_generator[0][0].shape[1], n_assets, train_generator[0][0].shape[-1]))\n",
    "    branch_outputs = []\n",
    "    \n",
    "    for i in range(n_assets):\n",
    "        a = layers.Lambda(lambda x: x[:,:, i])(x_input) # Slicing the ith asset:\n",
    "        a = layers.Masking(mask_value=0.)(a)\n",
    "        a = tf.keras.layers.BatchNormalization()(a)\n",
    "        a = layers.LSTM(units=32, return_sequences=True)(a)\n",
    "        a = layers.GlobalAvgPool1D()(a)\n",
    "        branch_outputs.append(a)\n",
    "        \n",
    "    x = layers.Concatenate()(branch_outputs)\n",
    "    x = layers.Dense(units=128)(x)\n",
    "    out = layers.Dense(units=n_assets)(x)\n",
    "    model = keras.Model(inputs=x_input, outputs=out)\n",
    "    model.compile(optimizer=tf.keras.optimizers.Adam(learning_rate=1e-3), loss=masked_mae, metrics=[Correlation])\n",
    "    return model\n",
    "\n",
    "model = get_model()\n",
    "model.summary()"
   ]
  },
  {
   "cell_type": "code",
   "execution_count": null,
   "metadata": {},
   "outputs": [],
   "source": [
    "tf.keras.utils.plot_model(get_model(n_assets=1), show_shapes=True)"
   ]
  },
  {
   "cell_type": "code",
   "execution_count": null,
   "metadata": {},
   "outputs": [],
   "source": [
    "tf.random.set_seed(0)\n",
    "estop = keras.callbacks.EarlyStopping(monitor='val_loss', patience=7, verbose=0, mode='min', restore_best_weights=True)\n",
    "scheduler = keras.optimizers.schedules.ExponentialDecay(1e-3, (0.5 * len(X_train) / BATCH_SIZE), 1e-3)\n",
    "lr = keras.callbacks.LearningRateScheduler(scheduler, verbose=1)"
   ]
  },
  {
   "cell_type": "markdown",
   "metadata": {},
   "source": [
    "##### Training and testing"
   ]
  },
  {
   "cell_type": "code",
   "execution_count": null,
   "metadata": {},
   "outputs": [],
   "source": [
    "history = model.fit(train_generator, validation_data=(val_generator), epochs=EPOCHS, callbacks=[lr, estop])"
   ]
  },
  {
   "cell_type": "code",
   "execution_count": null,
   "metadata": {},
   "outputs": [],
   "source": [
    "def plot_training_history(history):\n",
    "    fig, ax = plt.subplots(1, 2, figsize=(16, 8))\n",
    "    histories = pd.DataFrame(history.history)\n",
    "    epochs = list(range(1, len(histories)+1))\n",
    "    loss = histories['loss']\n",
    "    val_loss = histories['val_loss']\n",
    "    correlation = histories['Correlation']\n",
    "    val_correlation = histories['val_Correlation']\n",
    "    ax[0].plot(epochs, loss, label='Train Loss')\n",
    "    ax[0].plot(epochs, val_loss, label='Val Loss')\n",
    "    ax[0].set_title('Losses')\n",
    "    ax[0].set_xlabel('Epoch')\n",
    "    ax[0].legend(loc='upper right')\n",
    "    ax[1].plot(epochs, correlation, label='Train Correlation')\n",
    "    ax[1].plot(epochs, val_correlation, label='Val Correlation')\n",
    "    ax[1].set_title('Correlations')\n",
    "    ax[1].set_xlabel('Epoch')\n",
    "    ax[1].legend(loc='upper right')\n",
    "    fig.show()\n",
    "gc.collect()"
   ]
  },
  {
   "cell_type": "code",
   "execution_count": null,
   "metadata": {},
   "outputs": [],
   "source": [
    "plot_training_history(history)"
   ]
  },
  {
   "cell_type": "code",
   "execution_count": null,
   "metadata": {},
   "outputs": [],
   "source": [
    "predictions = model.predict(val_generator)"
   ]
  },
  {
   "cell_type": "code",
   "execution_count": null,
   "metadata": {},
   "outputs": [],
   "source": [
    "def prediction_details(predictions, y_test, asset_details, assets=range(N_ASSETS)):\n",
    "    print('Asset:    Corr. coef.')\n",
    "    print('---------------------')\n",
    "    for i in assets:\n",
    "        # drop first 14 values in the y_test, since they are absent in val_generator labels\n",
    "        y_true = np.squeeze(y_test[WINDOW_SIZE - 1:, i])\n",
    "        y_pred = np.squeeze(predictions[:, i])\n",
    "        real_target_ind = np.argwhere(y_true != 0)\n",
    "        asset_name = asset_details[asset_details.Asset_ID == i]['Asset_Name'].item()\n",
    "        print(f\"{asset_name}: {np.corrcoef(y_pred[real_target_ind].flatten(), y_true[real_target_ind].flatten())[0, 1]:.4f}\")\n",
    "        plt.plot(y_true, label='Target')\n",
    "        plt.plot(y_pred, label='Prediction')\n",
    "        plt.xlabel('Time')\n",
    "        plt.ylabel('Target')\n",
    "        plt.title(asset_name)\n",
    "        plt.legend()\n",
    "        plt.show()"
   ]
  },
  {
   "cell_type": "code",
   "execution_count": null,
   "metadata": {},
   "outputs": [],
   "source": [
    "prediction_details(predictions=predictions, y_test=y_test, asset_details=asset_details, assets=range(N_ASSETS))"
   ]
  },
  {
   "cell_type": "raw",
   "metadata": {},
   "source": [
    "model.save('models/lstm/lstm')"
   ]
  },
  {
   "cell_type": "markdown",
   "metadata": {},
   "source": [
    "#### Multivariate 2-Layered Bidirectional LSTM"
   ]
  },
  {
   "cell_type": "markdown",
   "metadata": {},
   "source": [
    "##### Model"
   ]
  },
  {
   "cell_type": "code",
   "execution_count": null,
   "metadata": {},
   "outputs": [],
   "source": [
    "#Model\n",
    "def get_model(n_assets=N_ASSETS):\n",
    "    x_input = keras.Input(shape=(train_generator[0][0].shape[1], n_assets, train_generator[0][0].shape[-1]))\n",
    "    branch_outputs = []\n",
    "\n",
    "    for i in range(n_assets):\n",
    "        a = layers.Lambda(lambda x: x[:,:, i])(x_input) # Slicing the ith asset:\n",
    "        a = layers.Masking(mask_value=0.)(a)\n",
    "        a = layers.Bidirectional(layers.LSTM(32, return_sequences=True))(a)\n",
    "        a = layers.Bidirectional(layers.LSTM(16))(a)\n",
    "        #a = layers.GlobalAvgPool1D()(a)\n",
    "        branch_outputs.append(a)\n",
    "    \n",
    "    x = layers.Concatenate()(branch_outputs)\n",
    "    x = layers.Dense(units = 128)(x)\n",
    "    out = layers.Dense(units = n_assets)(x)\n",
    "    model = keras.Model(inputs=x_input, outputs=out)\n",
    "    model.compile(optimizer = tf.keras.optimizers.Adam(learning_rate=1e-3), loss=masked_mse, metrics=[Correlation])\n",
    "    return model\n",
    "\n",
    "model = get_model()\n",
    "model.summary()"
   ]
  },
  {
   "cell_type": "code",
   "execution_count": null,
   "metadata": {},
   "outputs": [],
   "source": [
    "tf.keras.utils.plot_model(get_model(n_assets=1), show_shapes=True)"
   ]
  },
  {
   "cell_type": "code",
   "execution_count": null,
   "metadata": {},
   "outputs": [],
   "source": [
    "tf.random.set_seed(0)\n",
    "estop = keras.callbacks.EarlyStopping(monitor='val_loss', patience=7, verbose=0, mode='min', restore_best_weights=True)\n",
    "scheduler = keras.optimizers.schedules.ExponentialDecay(1e-3, (0.5 * len(X_train) / BATCH_SIZE), 1e-3)\n",
    "lr = keras.callbacks.LearningRateScheduler(scheduler, verbose=1)"
   ]
  },
  {
   "cell_type": "markdown",
   "metadata": {
    "tags": []
   },
   "source": [
    "##### Training and testing"
   ]
  },
  {
   "cell_type": "code",
   "execution_count": null,
   "metadata": {},
   "outputs": [],
   "source": [
    "history = model.fit(train_generator, validation_data=(val_generator), epochs=EPOCHS, callbacks=[lr, estop])"
   ]
  },
  {
   "cell_type": "code",
   "execution_count": null,
   "metadata": {},
   "outputs": [],
   "source": [
    "plot_training_history(history)"
   ]
  },
  {
   "cell_type": "code",
   "execution_count": null,
   "metadata": {},
   "outputs": [],
   "source": [
    "predictions = model.predict(val_generator)"
   ]
  },
  {
   "cell_type": "code",
   "execution_count": null,
   "metadata": {},
   "outputs": [],
   "source": [
    "prediction_details(predictions=predictions, y_test=y_test, asset_details=asset_details, assets=range(N_ASSETS))"
   ]
  },
  {
   "cell_type": "markdown",
   "metadata": {},
   "source": [
    "### TCN"
   ]
  },
  {
   "cell_type": "markdown",
   "metadata": {},
   "source": [
    "#### 1-Layered TCN with Global Average Pool"
   ]
  },
  {
   "cell_type": "markdown",
   "metadata": {
    "tags": []
   },
   "source": [
    "##### Model\n",
    "Our model will be trained for the number of FOLDS and EPOCHS you chose in the configuration above. Each fold the model with lowest validation loss will be saved and used to predict OOF and test. Adjust the variable VERBOSE. The variable VERBOSE=1 or 2 will display the training and validation loss for each epoch as text."
   ]
  },
  {
   "cell_type": "code",
   "execution_count": null,
   "metadata": {},
   "outputs": [],
   "source": [
    "import inspect\n",
    "from typing import List\n",
    "\n",
    "from tensorflow.keras import backend as K, Model, Input, optimizers\n",
    "from tensorflow.keras import layers\n",
    "from tensorflow.keras.layers import Activation, SpatialDropout1D, Lambda\n",
    "from tensorflow.keras.layers import Layer, Conv1D, Dense, BatchNormalization, LayerNormalization\n",
    "\n",
    "\n",
    "def is_power_of_two(num: int):\n",
    "    return num != 0 and ((num & (num - 1)) == 0)\n",
    "\n",
    "\n",
    "def adjust_dilations(dilations: list):\n",
    "    if all([is_power_of_two(i) for i in dilations]):\n",
    "        return dilations\n",
    "    else:\n",
    "        new_dilations = [2 ** i for i in dilations]\n",
    "        return new_dilations\n",
    "\n",
    "\n",
    "class ResidualBlock(Layer):\n",
    "\n",
    "    def __init__(self,\n",
    "                 dilation_rate: int,\n",
    "                 nb_filters: int,\n",
    "                 kernel_size: int,\n",
    "                 padding: str,\n",
    "                 activation: str = 'relu',\n",
    "                 dropout_rate: float = 0,\n",
    "                 kernel_initializer: str = 'he_normal',\n",
    "                 use_batch_norm: bool = False,\n",
    "                 use_layer_norm: bool = False,\n",
    "                 use_weight_norm: bool = False,\n",
    "                 **kwargs):\n",
    "        \"\"\"Defines the residual block for the WaveNet TCN\n",
    "        Args:\n",
    "            x: The previous layer in the model\n",
    "            training: boolean indicating whether the layer should behave in training mode or in inference mode\n",
    "            dilation_rate: The dilation power of 2 we are using for this residual block\n",
    "            nb_filters: The number of convolutional filters to use in this block\n",
    "            kernel_size: The size of the convolutional kernel\n",
    "            padding: The padding used in the convolutional layers, 'same' or 'causal'.\n",
    "            activation: The final activation used in o = Activation(x + F(x))\n",
    "            dropout_rate: Float between 0 and 1. Fraction of the input units to drop.\n",
    "            kernel_initializer: Initializer for the kernel weights matrix (Conv1D).\n",
    "            use_batch_norm: Whether to use batch normalization in the residual layers or not.\n",
    "            use_layer_norm: Whether to use layer normalization in the residual layers or not.\n",
    "            use_weight_norm: Whether to use weight normalization in the residual layers or not.\n",
    "            kwargs: Any initializers for Layer class.\n",
    "        \"\"\"\n",
    "\n",
    "        self.dilation_rate = dilation_rate\n",
    "        self.nb_filters = nb_filters\n",
    "        self.kernel_size = kernel_size\n",
    "        self.padding = padding\n",
    "        self.activation = activation\n",
    "        self.dropout_rate = dropout_rate\n",
    "        self.use_batch_norm = use_batch_norm\n",
    "        self.use_layer_norm = use_layer_norm\n",
    "        self.use_weight_norm = use_weight_norm\n",
    "        self.kernel_initializer = kernel_initializer\n",
    "        self.layers = []\n",
    "        self.layers_outputs = []\n",
    "        self.shape_match_conv = None\n",
    "        self.res_output_shape = None\n",
    "        self.final_activation = None\n",
    "\n",
    "        super(ResidualBlock, self).__init__(**kwargs)\n",
    "\n",
    "    def _build_layer(self, layer):\n",
    "        \"\"\"Helper function for building layer\n",
    "        Args:\n",
    "            layer: Appends layer to internal layer list and builds it based on the current output\n",
    "                   shape of ResidualBlocK. Updates current output shape.\n",
    "        \"\"\"\n",
    "        self.layers.append(layer)\n",
    "        self.layers[-1].build(self.res_output_shape)\n",
    "        self.res_output_shape = self.layers[-1].compute_output_shape(self.res_output_shape)\n",
    "\n",
    "    def build(self, input_shape):\n",
    "\n",
    "        with K.name_scope(self.name):  # name scope used to make sure weights get unique names\n",
    "            self.layers = []\n",
    "            self.res_output_shape = input_shape\n",
    "\n",
    "            for k in range(2):\n",
    "                name = 'conv1D_{}'.format(k)\n",
    "                with K.name_scope(name):  # name scope used to make sure weights get unique names\n",
    "                    conv = Conv1D(\n",
    "                        filters=self.nb_filters,\n",
    "                        kernel_size=self.kernel_size,\n",
    "                        dilation_rate=self.dilation_rate,\n",
    "                        padding=self.padding,\n",
    "                        name=name,\n",
    "                        kernel_initializer=self.kernel_initializer\n",
    "                    )\n",
    "                    if self.use_weight_norm:\n",
    "                        from tensorflow_addons.layers import WeightNormalization\n",
    "                        # wrap it. WeightNormalization API is different than BatchNormalization or LayerNormalization.\n",
    "                        with K.name_scope('norm_{}'.format(k)):\n",
    "                            conv = WeightNormalization(conv)\n",
    "                    self._build_layer(conv)\n",
    "\n",
    "                with K.name_scope('norm_{}'.format(k)):\n",
    "                    if self.use_batch_norm:\n",
    "                        self._build_layer(BatchNormalization())\n",
    "                    elif self.use_layer_norm:\n",
    "                        self._build_layer(LayerNormalization())\n",
    "                    elif self.use_weight_norm:\n",
    "                        pass  # done above.\n",
    "\n",
    "                self._build_layer(Activation(self.activation))\n",
    "                self._build_layer(SpatialDropout1D(rate=self.dropout_rate))\n",
    "\n",
    "            if self.nb_filters != input_shape[-1]:\n",
    "                # 1x1 conv to match the shapes (channel dimension).\n",
    "                name = 'matching_conv1D'\n",
    "                with K.name_scope(name):\n",
    "                    # make and build this layer separately because it directly uses input_shape\n",
    "                    self.shape_match_conv = Conv1D(filters=self.nb_filters,\n",
    "                                                   kernel_size=1,\n",
    "                                                   padding='same',\n",
    "                                                   name=name,\n",
    "                                                   kernel_initializer=self.kernel_initializer)\n",
    "            else:\n",
    "                name = 'matching_identity'\n",
    "                self.shape_match_conv = Lambda(lambda x: x, name=name)\n",
    "\n",
    "            with K.name_scope(name):\n",
    "                self.shape_match_conv.build(input_shape)\n",
    "                self.res_output_shape = self.shape_match_conv.compute_output_shape(input_shape)\n",
    "\n",
    "            self._build_layer(Activation(self.activation))\n",
    "            self.final_activation = Activation(self.activation)\n",
    "            self.final_activation.build(self.res_output_shape)  # probably isn't necessary\n",
    "\n",
    "            # this is done to force Keras to add the layers in the list to self._layers\n",
    "            for layer in self.layers:\n",
    "                self.__setattr__(layer.name, layer)\n",
    "            self.__setattr__(self.shape_match_conv.name, self.shape_match_conv)\n",
    "            self.__setattr__(self.final_activation.name, self.final_activation)\n",
    "\n",
    "            super(ResidualBlock, self).build(input_shape)  # done to make sure self.built is set True\n",
    "\n",
    "    def call(self, inputs, training=None):\n",
    "        \"\"\"\n",
    "        Returns: A tuple where the first element is the residual model tensor, and the second\n",
    "                 is the skip connection tensor.\n",
    "        \"\"\"\n",
    "        x = inputs\n",
    "        self.layers_outputs = [x]\n",
    "        for layer in self.layers:\n",
    "            training_flag = 'training' in dict(inspect.signature(layer.call).parameters)\n",
    "            x = layer(x, training=training) if training_flag else layer(x)\n",
    "            self.layers_outputs.append(x)\n",
    "        x2 = self.shape_match_conv(inputs)\n",
    "        self.layers_outputs.append(x2)\n",
    "        res_x = layers.add([x2, x])\n",
    "        self.layers_outputs.append(res_x)\n",
    "\n",
    "        res_act_x = self.final_activation(res_x)\n",
    "        self.layers_outputs.append(res_act_x)\n",
    "        return [res_act_x, x]\n",
    "\n",
    "    def compute_output_shape(self, input_shape):\n",
    "        return [self.res_output_shape, self.res_output_shape]\n",
    "\n",
    "\n",
    "class TCN(Layer):\n",
    "    \"\"\"Creates a TCN layer.\n",
    "\n",
    "        Input shape:\n",
    "            A tensor of shape (batch_size, timesteps, input_dim).\n",
    "\n",
    "        Args:\n",
    "            nb_filters: The number of filters to use in the convolutional layers. Can be a list.\n",
    "            kernel_size: The size of the kernel to use in each convolutional layer.\n",
    "            dilations: The list of the dilations. Example is: [1, 2, 4, 8, 16, 32, 64].\n",
    "            nb_stacks : The number of stacks of residual blocks to use.\n",
    "            padding: The padding to use in the convolutional layers, 'causal' or 'same'.\n",
    "            use_skip_connections: Boolean. If we want to add skip connections from input to each residual blocK.\n",
    "            return_sequences: Boolean. Whether to return the last output in the output sequence, or the full sequence.\n",
    "            activation: The activation used in the residual blocks o = Activation(x + F(x)).\n",
    "            dropout_rate: Float between 0 and 1. Fraction of the input units to drop.\n",
    "            kernel_initializer: Initializer for the kernel weights matrix (Conv1D).\n",
    "            use_batch_norm: Whether to use batch normalization in the residual layers or not.\n",
    "            use_layer_norm: Whether to use layer normalization in the residual layers or not.\n",
    "            use_weight_norm: Whether to use weight normalization in the residual layers or not.\n",
    "            kwargs: Any other arguments for configuring parent class Layer. For example \"name=str\", Name of the model.\n",
    "                    Use unique names when using multiple TCN.\n",
    "\n",
    "        Returns:\n",
    "            A TCN layer.\n",
    "        \"\"\"\n",
    "\n",
    "    def __init__(self,\n",
    "                 nb_filters=64,\n",
    "                 kernel_size=3,\n",
    "                 nb_stacks=1,\n",
    "                 dilations=(1, 2, 4, 8, 16, 32),\n",
    "                 padding='causal',\n",
    "                 use_skip_connections=True,\n",
    "                 dropout_rate=0.0,\n",
    "                 return_sequences=False,\n",
    "                 activation='relu',\n",
    "                 kernel_initializer='he_normal',\n",
    "                 use_batch_norm=False,\n",
    "                 use_layer_norm=False,\n",
    "                 use_weight_norm=False,\n",
    "                 **kwargs):\n",
    "\n",
    "        self.return_sequences = return_sequences\n",
    "        self.dropout_rate = dropout_rate\n",
    "        self.use_skip_connections = use_skip_connections\n",
    "        self.dilations = dilations\n",
    "        self.nb_stacks = nb_stacks\n",
    "        self.kernel_size = kernel_size\n",
    "        self.nb_filters = nb_filters\n",
    "        self.activation = activation\n",
    "        self.padding = padding\n",
    "        self.kernel_initializer = kernel_initializer\n",
    "        self.use_batch_norm = use_batch_norm\n",
    "        self.use_layer_norm = use_layer_norm\n",
    "        self.use_weight_norm = use_weight_norm\n",
    "        self.skip_connections = []\n",
    "        self.residual_blocks = []\n",
    "        self.layers_outputs = []\n",
    "        self.build_output_shape = None\n",
    "        self.slicer_layer = None  # in case return_sequence=False\n",
    "        self.output_slice_index = None  # in case return_sequence=False\n",
    "        self.padding_same_and_time_dim_unknown = False  # edge case if padding='same' and time_dim = None\n",
    "\n",
    "        if self.use_batch_norm + self.use_layer_norm + self.use_weight_norm > 1:\n",
    "            raise ValueError('Only one normalization can be specified at once.')\n",
    "\n",
    "        if isinstance(self.nb_filters, list):\n",
    "            assert len(self.nb_filters) == len(self.dilations)\n",
    "\n",
    "        if padding != 'causal' and padding != 'same':\n",
    "            raise ValueError(\"Only 'causal' or 'same' padding are compatible for this layer.\")\n",
    "\n",
    "        # initialize parent class\n",
    "        super(TCN, self).__init__(**kwargs)\n",
    "\n",
    "    @property\n",
    "    def receptive_field(self):\n",
    "        return 1 + 2 * (self.kernel_size - 1) * self.nb_stacks * sum(self.dilations)\n",
    "\n",
    "    def build(self, input_shape):\n",
    "\n",
    "        # member to hold current output shape of the layer for building purposes\n",
    "        self.build_output_shape = input_shape\n",
    "\n",
    "        # list to hold all the member ResidualBlocks\n",
    "        self.residual_blocks = []\n",
    "        total_num_blocks = self.nb_stacks * len(self.dilations)\n",
    "        if not self.use_skip_connections:\n",
    "            total_num_blocks += 1  # cheap way to do a false case for below\n",
    "\n",
    "        for s in range(self.nb_stacks):\n",
    "            for i, d in enumerate(self.dilations):\n",
    "                res_block_filters = self.nb_filters[i] if isinstance(self.nb_filters, list) else self.nb_filters\n",
    "                self.residual_blocks.append(ResidualBlock(dilation_rate=d,\n",
    "                                                          nb_filters=res_block_filters,\n",
    "                                                          kernel_size=self.kernel_size,\n",
    "                                                          padding=self.padding,\n",
    "                                                          activation=self.activation,\n",
    "                                                          dropout_rate=self.dropout_rate,\n",
    "                                                          use_batch_norm=self.use_batch_norm,\n",
    "                                                          use_layer_norm=self.use_layer_norm,\n",
    "                                                          use_weight_norm=self.use_weight_norm,\n",
    "                                                          kernel_initializer=self.kernel_initializer,\n",
    "                                                          name='residual_block_{}'.format(len(self.residual_blocks))))\n",
    "                # build newest residual block\n",
    "                self.residual_blocks[-1].build(self.build_output_shape)\n",
    "                self.build_output_shape = self.residual_blocks[-1].res_output_shape\n",
    "\n",
    "        # this is done to force keras to add the layers in the list to self._layers\n",
    "        for layer in self.residual_blocks:\n",
    "            self.__setattr__(layer.name, layer)\n",
    "\n",
    "        self.output_slice_index = None\n",
    "        if self.padding == 'same':\n",
    "            time = self.build_output_shape.as_list()[1]\n",
    "            if time is not None:  # if time dimension is defined. e.g. shape = (bs, 500, input_dim).\n",
    "                self.output_slice_index = int(self.build_output_shape.as_list()[1] / 2)\n",
    "            else:\n",
    "                # It will known at call time. c.f. self.call.\n",
    "                self.padding_same_and_time_dim_unknown = True\n",
    "\n",
    "        else:\n",
    "            self.output_slice_index = -1  # causal case.\n",
    "        self.slicer_layer = Lambda(lambda tt: tt[:, self.output_slice_index, :])\n",
    "\n",
    "    def compute_output_shape(self, input_shape):\n",
    "        \"\"\"\n",
    "        Overridden in case keras uses it somewhere... no idea. Just trying to avoid future errors.\n",
    "        \"\"\"\n",
    "        if not self.built:\n",
    "            self.build(input_shape)\n",
    "        if not self.return_sequences:\n",
    "            batch_size = self.build_output_shape[0]\n",
    "            batch_size = batch_size.value if hasattr(batch_size, 'value') else batch_size\n",
    "            nb_filters = self.build_output_shape[-1]\n",
    "            return [batch_size, nb_filters]\n",
    "        else:\n",
    "            # Compatibility tensorflow 1.x\n",
    "            return [v.value if hasattr(v, 'value') else v for v in self.build_output_shape]\n",
    "\n",
    "    def call(self, inputs, training=None):\n",
    "        x = inputs\n",
    "        self.layers_outputs = [x]\n",
    "        self.skip_connections = []\n",
    "        for layer in self.residual_blocks:\n",
    "            try:\n",
    "                x, skip_out = layer(x, training=training)\n",
    "            except TypeError:  # compatibility with tensorflow 1.x\n",
    "                x, skip_out = layer(K.cast(x, 'float32'), training=training)\n",
    "            self.skip_connections.append(skip_out)\n",
    "            self.layers_outputs.append(x)\n",
    "\n",
    "        if self.use_skip_connections:\n",
    "            x = layers.add(self.skip_connections)\n",
    "            self.layers_outputs.append(x)\n",
    "\n",
    "        if not self.return_sequences:\n",
    "            # case: time dimension is unknown. e.g. (bs, None, input_dim).\n",
    "            if self.padding_same_and_time_dim_unknown:\n",
    "                self.output_slice_index = K.shape(self.layers_outputs[-1])[1] // 2\n",
    "            x = self.slicer_layer(x)\n",
    "            self.layers_outputs.append(x)\n",
    "        return x\n",
    "\n",
    "    def get_config(self):\n",
    "        \"\"\"\n",
    "        Returns the config of a the layer. This is used for saving and loading from a model\n",
    "        :return: python dictionary with specs to rebuild layer\n",
    "        \"\"\"\n",
    "        config = super(TCN, self).get_config()\n",
    "        config['nb_filters'] = self.nb_filters\n",
    "        config['kernel_size'] = self.kernel_size\n",
    "        config['nb_stacks'] = self.nb_stacks\n",
    "        config['dilations'] = self.dilations\n",
    "        config['padding'] = self.padding\n",
    "        config['use_skip_connections'] = self.use_skip_connections\n",
    "        config['dropout_rate'] = self.dropout_rate\n",
    "        config['return_sequences'] = self.return_sequences\n",
    "        config['activation'] = self.activation\n",
    "        config['use_batch_norm'] = self.use_batch_norm\n",
    "        config['use_layer_norm'] = self.use_layer_norm\n",
    "        config['use_weight_norm'] = self.use_weight_norm\n",
    "        config['kernel_initializer'] = self.kernel_initializer\n",
    "        return config\n",
    "\n",
    "\n",
    "def compiled_tcn(num_feat,  # type: int\n",
    "                 num_classes,  # type: int\n",
    "                 nb_filters,  # type: int\n",
    "                 kernel_size,  # type: int\n",
    "                 dilations,  # type: List[int]\n",
    "                 nb_stacks,  # type: int\n",
    "                 max_len,  # type: int\n",
    "                 output_len=1,  # type: int\n",
    "                 padding='causal',  # type: str\n",
    "                 use_skip_connections=False,  # type: bool\n",
    "                 return_sequences=True,\n",
    "                 regression=False,  # type: bool\n",
    "                 dropout_rate=0.05,  # type: float\n",
    "                 name='tcn',  # type: str,\n",
    "                 kernel_initializer='he_normal',  # type: str,\n",
    "                 activation='relu',  # type:str,\n",
    "                 opt='adam',\n",
    "                 lr=0.002,\n",
    "                 use_batch_norm=False,\n",
    "                 use_layer_norm=False,\n",
    "                 use_weight_norm=False):\n",
    "    # type: (...) -> Model\n",
    "    \"\"\"Creates a compiled TCN model for a given task (i.e. regression or classification).\n",
    "    Classification uses a sparse categorical loss. Please input class ids and not one-hot encodings.\n",
    "\n",
    "    Args:\n",
    "        num_feat: The number of features of your input, i.e. the last dimension of: (batch_size, timesteps, input_dim).\n",
    "        num_classes: The size of the final dense layer, how many classes we are predicting.\n",
    "        nb_filters: The number of filters to use in the convolutional layers.\n",
    "        kernel_size: The size of the kernel to use in each convolutional layer.\n",
    "        dilations: The list of the dilations. Example is: [1, 2, 4, 8, 16, 32, 64].\n",
    "        nb_stacks : The number of stacks of residual blocks to use.\n",
    "        max_len: The maximum sequence length, use None if the sequence length is dynamic.\n",
    "        padding: The padding to use in the convolutional layers.\n",
    "        use_skip_connections: Boolean. If we want to add skip connections from input to each residual blocK.\n",
    "        return_sequences: Boolean. Whether to return the last output in the output sequence, or the full sequence.\n",
    "        regression: Whether the output should be continuous or discrete.\n",
    "        dropout_rate: Float between 0 and 1. Fraction of the input units to drop.\n",
    "        activation: The activation used in the residual blocks o = Activation(x + F(x)).\n",
    "        name: Name of the model. Useful when having multiple TCN.\n",
    "        kernel_initializer: Initializer for the kernel weights matrix (Conv1D).\n",
    "        opt: Optimizer name.\n",
    "        lr: Learning rate.\n",
    "        use_batch_norm: Whether to use batch normalization in the residual layers or not.\n",
    "        use_layer_norm: Whether to use layer normalization in the residual layers or not.\n",
    "        use_weight_norm: Whether to use weight normalization in the residual layers or not.\n",
    "    Returns:\n",
    "        A compiled keras TCN.\n",
    "    \"\"\"\n",
    "\n",
    "    dilations = adjust_dilations(dilations)\n",
    "\n",
    "    input_layer = Input(shape=(max_len, num_feat))\n",
    "\n",
    "    x = TCN(nb_filters, kernel_size, nb_stacks, dilations, padding,\n",
    "            use_skip_connections, dropout_rate, return_sequences,\n",
    "            activation, kernel_initializer, use_batch_norm, use_layer_norm,\n",
    "            use_weight_norm, name=name)(input_layer)\n",
    "\n",
    "    print('x.shape=', x.shape)\n",
    "\n",
    "    def get_opt():\n",
    "        if opt == 'adam':\n",
    "            return optimizers.Adam(lr=lr, clipnorm=1.)\n",
    "        elif opt == 'rmsprop':\n",
    "            return optimizers.RMSprop(lr=lr, clipnorm=1.)\n",
    "        else:\n",
    "            raise Exception('Only Adam and RMSProp are available here')\n",
    "\n",
    "    if not regression:\n",
    "        # classification\n",
    "        x = Dense(num_classes)(x)\n",
    "        x = Activation('softmax')(x)\n",
    "        output_layer = x\n",
    "        model = Model(input_layer, output_layer)\n",
    "\n",
    "        # https://github.com/keras-team/keras/pull/11373\n",
    "        # It's now in Keras@master but still not available with pip.\n",
    "        # TODO remove later.\n",
    "        def accuracy(y_true, y_pred):\n",
    "            # reshape in case it's in shape (num_samples, 1) instead of (num_samples,)\n",
    "            if K.ndim(y_true) == K.ndim(y_pred):\n",
    "                y_true = K.squeeze(y_true, -1)\n",
    "            # convert dense predictions to labels\n",
    "            y_pred_labels = K.argmax(y_pred, axis=-1)\n",
    "            y_pred_labels = K.cast(y_pred_labels, K.floatx())\n",
    "            return K.cast(K.equal(y_true, y_pred_labels), K.floatx())\n",
    "\n",
    "        model.compile(get_opt(), loss='sparse_categorical_crossentropy', metrics=[accuracy])\n",
    "    else:\n",
    "        # regression\n",
    "        x = Dense(output_len)(x)\n",
    "        x = Activation('linear')(x)\n",
    "        output_layer = x\n",
    "        model = Model(input_layer, output_layer)\n",
    "        model.compile(get_opt(), loss='mean_squared_error')\n",
    "    print('model.x = {}'.format(input_layer.shape))\n",
    "    print('model.y = {}'.format(output_layer.shape))\n",
    "    return model\n",
    "\n",
    "\n",
    "def tcn_full_summary(model: Model, expand_residual_blocks=True):\n",
    "    import tensorflow as tf\n",
    "    # 2.6.0-rc1, 2.5.0...\n",
    "    versions = [int(v) for v in tf.__version__.split('-')[0].split('.')]\n",
    "    if versions[0] <= 2 and versions[1] < 5:\n",
    "        layers = model._layers.copy()  # store existing layers\n",
    "        model._layers.clear()  # clear layers\n",
    "\n",
    "        for i in range(len(layers)):\n",
    "            if isinstance(layers[i], TCN):\n",
    "                for layer in layers[i]._layers:\n",
    "                    if not isinstance(layer, ResidualBlock):\n",
    "                        if not hasattr(layer, '__iter__'):\n",
    "                            model._layers.append(layer)\n",
    "                    else:\n",
    "                        if expand_residual_blocks:\n",
    "                            for lyr in layer._layers:\n",
    "                                if not hasattr(lyr, '__iter__'):\n",
    "                                    model._layers.append(lyr)\n",
    "                        else:\n",
    "                            model._layers.append(layer)\n",
    "            else:\n",
    "                model._layers.append(layers[i])\n",
    "\n",
    "        model.summary()  # print summary\n",
    "\n",
    "        # restore original layers\n",
    "        model._layers.clear()\n",
    "        [model._layers.append(lyr) for lyr in layers]\n",
    "    else:\n",
    "        print('WARNING: tcn_full_summary: Compatible with tensorflow 2.5.0 or below.')"
   ]
  },
  {
   "cell_type": "code",
   "execution_count": null,
   "metadata": {},
   "outputs": [],
   "source": [
    "DILATION = [2, 4, 8, 16]\n",
    "NB_FILTERS = 16\n",
    "\n",
    "def get_squence_model(x):          \n",
    "    x = TCN(nb_filters=NB_FILTERS, return_sequences=True, dilations=DILATION)(x)\n",
    "    return x\n",
    "\n",
    "def get_model(n_assets = 14):\n",
    "    x_input = keras.Input(shape=(train_generator[0][0].shape[1], n_assets, train_generator[0][0].shape[-1]))    \n",
    "    branch_outputs = []\n",
    "    for i in range(n_assets):\n",
    "        a = layers.Lambda(lambda x: x[:,:, i])(x_input) # Slicing the ith asset:\n",
    "        a = layers.Masking(mask_value = 0., )(a)\n",
    "        a = get_squence_model(a)\n",
    "        a = layers.GlobalAvgPool1D()(a)\n",
    "        branch_outputs.append(a)\n",
    "    x = layers.Concatenate()(branch_outputs)\n",
    "    x = layers.Dense(units = 128)(x)\n",
    "    out = layers.Dense(units = n_assets)(x)\n",
    "    model = keras.Model(inputs=x_input, outputs=out)\n",
    "    model.compile(optimizer = tf.keras.optimizers.Adam(learning_rate=1e-3), loss = masked_mae, metrics=[Correlation])\n",
    "    return model\n",
    "    \n",
    "model = get_model()"
   ]
  },
  {
   "cell_type": "code",
   "execution_count": null,
   "metadata": {},
   "outputs": [],
   "source": []
  },
  {
   "cell_type": "code",
   "execution_count": null,
   "metadata": {},
   "outputs": [],
   "source": [
    "#Model\n",
    "DILATION = [2, 4, 8, 16]\n",
    "NB_FILTERS = 16\n",
    "\n",
    "def get_model(n_assets=N_ASSETS):\n",
    "    x_input = keras.Input(shape=(train_generator[0][0].shape[1], n_assets, train_generator[0][0].shape[-1]))\n",
    "    branch_outputs = []\n",
    "    \n",
    "    for i in range(n_assets):\n",
    "        a = layers.Lambda(lambda x: x[:,:, i])(x_input) # Slicing the ith asset:\n",
    "        a = layers.Masking(mask_value=0.)(a)\n",
    "        a = TCN(nb_filters=NB_FILTERS, return_sequences=True, dilations=DILATION)(a)\n",
    "        a = layers.GlobalAvgPool1D()(a)\n",
    "        branch_outputs.append(a)\n",
    "        \n",
    "    x = layers.Concatenate()(branch_outputs)\n",
    "    x = layers.Dense(units=128)(x)\n",
    "    out = layers.Dense(units=n_assets)(x)\n",
    "    model = keras.Model(inputs=x_input, outputs=out)\n",
    "    model.compile(optimizer=tf.keras.optimizers.Adam(learning_rate=1e-3), loss=masked_mse, metrics=[Correlation])\n",
    "    return model\n",
    "\n",
    "model = get_model()\n",
    "model.summary()"
   ]
  },
  {
   "cell_type": "code",
   "execution_count": null,
   "metadata": {},
   "outputs": [],
   "source": [
    "tf.keras.utils.plot_model(get_model(n_assets=1), show_shapes=True)"
   ]
  },
  {
   "cell_type": "code",
   "execution_count": null,
   "metadata": {},
   "outputs": [],
   "source": [
    "tf.random.set_seed(0)\n",
    "estop = keras.callbacks.EarlyStopping(monitor='val_loss', patience=7, verbose=0, mode='min', restore_best_weights=True)\n",
    "scheduler = keras.optimizers.schedules.ExponentialDecay(1e-3, (0.5 * len(X_train) / BATCH_SIZE), 1e-3)\n",
    "lr = keras.callbacks.LearningRateScheduler(scheduler, verbose=1)"
   ]
  },
  {
   "cell_type": "markdown",
   "metadata": {
    "tags": []
   },
   "source": [
    "##### Training and testing"
   ]
  },
  {
   "cell_type": "code",
   "execution_count": null,
   "metadata": {},
   "outputs": [],
   "source": [
    "history = model.fit(train_generator, validation_data=(val_generator), epochs=EPOCHS, callbacks=[lr, estop])"
   ]
  },
  {
   "cell_type": "code",
   "execution_count": null,
   "metadata": {},
   "outputs": [],
   "source": [
    "plot_training_history(history)"
   ]
  },
  {
   "cell_type": "code",
   "execution_count": null,
   "metadata": {},
   "outputs": [],
   "source": [
    "predictions = model.predict(val_generator)"
   ]
  },
  {
   "cell_type": "code",
   "execution_count": null,
   "metadata": {},
   "outputs": [],
   "source": [
    "prediction_details(predictions=predictions, y_test=y_test, asset_details=asset_details, assets=range(N_ASSETS))"
   ]
  },
  {
   "cell_type": "markdown",
   "metadata": {},
   "source": [
    "#### 2-Layered TCN "
   ]
  },
  {
   "cell_type": "code",
   "execution_count": null,
   "metadata": {},
   "outputs": [],
   "source": []
  },
  {
   "cell_type": "markdown",
   "metadata": {},
   "source": [
    "## Submit to Kaggle"
   ]
  },
  {
   "cell_type": "code",
   "execution_count": null,
   "metadata": {},
   "outputs": [],
   "source": [
    "#This is used to emulate the env.iter_test()\n",
    "\n",
    "test_df = pd.read_csv('data/g-research-crypto-forecasting/example_test.csv')\n",
    "sub_df = pd.read_csv('data/g-research-crypto-forecasting/example_sample_submission.csv')\n",
    "sub_df['Target'] = sub_df.Target.astype(float)\n",
    "iter_test = [(test_df[test_df.group_num == g].reset_index(drop=True).drop(columns='group_num'), sub_df[sub_df.group_num == g].reset_index(drop=True).drop(columns='group_num')) for g in test_df.group_num.unique()]"
   ]
  },
  {
   "cell_type": "code",
   "execution_count": null,
   "metadata": {},
   "outputs": [],
   "source": []
  },
  {
   "cell_type": "code",
   "execution_count": null,
   "metadata": {},
   "outputs": [],
   "source": [
    "# load data that is just before the test set\n",
    "sup = pd.read_csv('data/g-research-crypto-forecasting/supplemental_train.csv').sort_values(by=['timestamp', 'Asset_ID'])"
   ]
  },
  {
   "cell_type": "code",
   "execution_count": null,
   "metadata": {},
   "outputs": [],
   "source": [
    "# only the last 15 min are useful\n",
    "sup = sup[-WINDOW_SIZE * (N_ASSETS):]"
   ]
  },
  {
   "cell_type": "code",
   "execution_count": null,
   "metadata": {},
   "outputs": [],
   "source": [
    "# prepare the sup data. Test data will be appended\n",
    "sup = feature_eng(sup)\n",
    "test_sample = np.array(sup[feature_cols])\n",
    "test_sample = test_sample.reshape(-1, (N_ASSETS), test_sample.shape[-1])\n",
    "test_sample = np.expand_dims(test_sample, axis=0)"
   ]
  },
  {
   "cell_type": "code",
   "execution_count": null,
   "metadata": {},
   "outputs": [],
   "source": [
    "\"\"\"\n",
    "env = gresearch_crypto.make_env()\n",
    "iter_test = env.iter_test()\n",
    "\"\"\"\n",
    "for (test_df, sample_prediction_df) in iter_test:\n",
    "    # get the features\n",
    "    test_df = feature_eng(test_df)\n",
    "    \n",
    "    # always sort by time, then by Asset_ID\n",
    "    test_df = test_df.sort_values(by=['timestamp', 'Asset_ID'])\n",
    "    \n",
    "    # to map to the corresponding rows    \n",
    "    asset_id_row_id_map = {a_id: r_id for a_id, r_id in test_df[['Asset_ID', 'row_id']].values}\n",
    "    \n",
    "    # matrix of features\n",
    "    test = np.array(test_df[feature_cols].fillna(0))\n",
    "    \n",
    "    # reshaping (similar to the train)\n",
    "    test = test.reshape(-1, 1, N_ASSETS, test.shape[-1])\n",
    "    \n",
    "    # Stack the test data to previous data, keep only last 15 min \n",
    "    test_sample = np.hstack([test_sample, test])[:,-WINDOW_SIZE:]\n",
    "    \n",
    "    y_pred = model.predict(test_sample).squeeze().reshape(-1, 1).squeeze()\n",
    "    \n",
    "    for i, p in enumerate(y_pred):\n",
    "        sample_prediction_df.loc[sample_prediction_df['row_id'] == asset_id_row_id_map[i], 'Target'] = p\n",
    "    \"\"\"env.predict(sample_prediction_df)\"\"\""
   ]
  }
 ],
 "metadata": {
  "kernelspec": {
   "display_name": "Python 3 (ipykernel)",
   "language": "python",
   "name": "python3"
  },
  "language_info": {
   "codemirror_mode": {
    "name": "ipython",
    "version": 3
   },
   "file_extension": ".py",
   "mimetype": "text/x-python",
   "name": "python",
   "nbconvert_exporter": "python",
   "pygments_lexer": "ipython3",
   "version": "3.8.12"
  },
  "toc-autonumbering": true,
  "toc-showcode": false,
  "toc-showmarkdowntxt": false,
  "toc-showtags": false
 },
 "nbformat": 4,
 "nbformat_minor": 4
}

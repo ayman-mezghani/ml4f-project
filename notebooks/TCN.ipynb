{
 "cells": [
  {
   "cell_type": "markdown",
   "id": "489b570d-471c-426d-8341-0fa7230c0885",
   "metadata": {},
   "source": [
    "# TCN"
   ]
  },
  {
   "cell_type": "code",
   "execution_count": 1,
   "id": "9e4518ae-a669-48d3-b11f-0af78c802d62",
   "metadata": {},
   "outputs": [],
   "source": [
    "#import os\n",
    "import gc\n",
    "#from datetime import datetime\n",
    "#import time\n",
    "\n",
    "#import math\n",
    "#from itertools import product\n",
    "\n",
    "import numpy as np\n",
    "import pandas as pd\n",
    "\n",
    "#from statsmodels.tsa.ar_model import AutoReg\n",
    "#from statsmodels.tsa.arima_model import ARMA, ARIMA\n",
    "#from statsmodels.tsa.stattools import adfuller\n",
    "#from statsmodels.tsa.statespace.sarimax import SARIMAX\n",
    "#from statsmodels.tsa.seasonal import seasonal_decompose\n",
    "#from statsmodels.graphics.tsaplots import plot_acf, plot_pacf\n",
    "#import statsmodels.api as sm\n",
    "\n",
    "#from sklearn.model_selection import KFold\n",
    "#from sklearn.metrics import mean_squared_error\n",
    "#from sklearn.preprocessing import RobustScaler, StandardScaler\n",
    "\n",
    "#from scipy import stats\n",
    "\n",
    "import tensorflow as tf\n",
    "from tensorflow import keras\n",
    "from tensorflow.keras import layers\n",
    "#from tensorflow.keras.preprocessing.sequence import TimeseriesGenerator\n",
    "\n",
    "# https://github.com/philipperemy/keras-tcn\n",
    "from tcn import TCN\n",
    "\n",
    "import tensorflow_probability as tfp\n",
    "\n",
    "#from plotly.subplots import make_subplots\n",
    "#import plotly.express as px\n",
    "#import plotly.graph_objects as go\n",
    "import matplotlib.pyplot as plt\n",
    "#import seaborn as sns"
   ]
  },
  {
   "cell_type": "raw",
   "id": "f218a1ca-b58b-42da-a090-d66391c3481e",
   "metadata": {},
   "source": [
    "tf.config.experimental.set_memory_growth(tf.config.experimental.list_physical_devices('GPU')[0], True)"
   ]
  },
  {
   "cell_type": "code",
   "execution_count": 2,
   "id": "77bf7dc6-ae9d-44bb-8b22-64098d19f75e",
   "metadata": {},
   "outputs": [],
   "source": [
    "#data_path = '/kaggle/input/'\n",
    "data_path = '../data/'"
   ]
  },
  {
   "cell_type": "markdown",
   "id": "8544e6db-0f80-4714-8cbe-db3afff573b0",
   "metadata": {
    "tags": []
   },
   "source": [
    "## Artificial Neural Networks Methods"
   ]
  },
  {
   "cell_type": "code",
   "execution_count": 3,
   "id": "228b864f-0bf1-42b7-a82a-eae9452da16d",
   "metadata": {},
   "outputs": [],
   "source": [
    "DEBUG = True\n",
    "N_ASSETS = 1\n",
    "WINDOW_SIZE = 15\n",
    "BATCH_SIZE = 1024\n",
    "PCT_VALIDATION = 10 # last 10% of the data are used as validation set"
   ]
  },
  {
   "cell_type": "markdown",
   "id": "bff513b3-1402-401c-b6aa-e46feb554845",
   "metadata": {},
   "source": [
    "### Data Preparation (Building the Time Series Model)"
   ]
  },
  {
   "cell_type": "markdown",
   "id": "038d062d-e213-4e55-a64a-cf60953f5171",
   "metadata": {},
   "source": [
    "#### Loading"
   ]
  },
  {
   "cell_type": "markdown",
   "id": "355dde2a-8035-441c-9ac9-6a4a474280dd",
   "metadata": {},
   "source": [
    "Loading data and converting timestamps"
   ]
  },
  {
   "cell_type": "code",
   "execution_count": 4,
   "id": "7eaaf5ce-9c16-49d5-8e55-05ecd9a09004",
   "metadata": {},
   "outputs": [],
   "source": [
    "asset_details = pd.read_csv(data_path + 'g-research-crypto-forecasting/asset_details.csv')"
   ]
  },
  {
   "cell_type": "code",
   "execution_count": 5,
   "id": "0555dc2c-5f14-4286-9fde-06d406e683e5",
   "metadata": {},
   "outputs": [
    {
     "data": {
      "text/html": [
       "<div>\n",
       "<style scoped>\n",
       "    .dataframe tbody tr th:only-of-type {\n",
       "        vertical-align: middle;\n",
       "    }\n",
       "\n",
       "    .dataframe tbody tr th {\n",
       "        vertical-align: top;\n",
       "    }\n",
       "\n",
       "    .dataframe thead th {\n",
       "        text-align: right;\n",
       "    }\n",
       "</style>\n",
       "<table border=\"1\" class=\"dataframe\">\n",
       "  <thead>\n",
       "    <tr style=\"text-align: right;\">\n",
       "      <th></th>\n",
       "      <th>Asset_ID</th>\n",
       "      <th>Weight</th>\n",
       "      <th>Asset_Name</th>\n",
       "    </tr>\n",
       "  </thead>\n",
       "  <tbody>\n",
       "    <tr>\n",
       "      <th>1</th>\n",
       "      <td>0</td>\n",
       "      <td>4.304065</td>\n",
       "      <td>Binance Coin</td>\n",
       "    </tr>\n",
       "    <tr>\n",
       "      <th>2</th>\n",
       "      <td>1</td>\n",
       "      <td>6.779922</td>\n",
       "      <td>Bitcoin</td>\n",
       "    </tr>\n",
       "    <tr>\n",
       "      <th>0</th>\n",
       "      <td>2</td>\n",
       "      <td>2.397895</td>\n",
       "      <td>Bitcoin Cash</td>\n",
       "    </tr>\n",
       "    <tr>\n",
       "      <th>10</th>\n",
       "      <td>3</td>\n",
       "      <td>4.406719</td>\n",
       "      <td>Cardano</td>\n",
       "    </tr>\n",
       "    <tr>\n",
       "      <th>13</th>\n",
       "      <td>4</td>\n",
       "      <td>3.555348</td>\n",
       "      <td>Dogecoin</td>\n",
       "    </tr>\n",
       "    <tr>\n",
       "      <th>3</th>\n",
       "      <td>5</td>\n",
       "      <td>1.386294</td>\n",
       "      <td>EOS.IO</td>\n",
       "    </tr>\n",
       "    <tr>\n",
       "      <th>5</th>\n",
       "      <td>6</td>\n",
       "      <td>5.894403</td>\n",
       "      <td>Ethereum</td>\n",
       "    </tr>\n",
       "    <tr>\n",
       "      <th>4</th>\n",
       "      <td>7</td>\n",
       "      <td>2.079442</td>\n",
       "      <td>Ethereum Classic</td>\n",
       "    </tr>\n",
       "    <tr>\n",
       "      <th>11</th>\n",
       "      <td>8</td>\n",
       "      <td>1.098612</td>\n",
       "      <td>IOTA</td>\n",
       "    </tr>\n",
       "    <tr>\n",
       "      <th>6</th>\n",
       "      <td>9</td>\n",
       "      <td>2.397895</td>\n",
       "      <td>Litecoin</td>\n",
       "    </tr>\n",
       "    <tr>\n",
       "      <th>12</th>\n",
       "      <td>10</td>\n",
       "      <td>1.098612</td>\n",
       "      <td>Maker</td>\n",
       "    </tr>\n",
       "    <tr>\n",
       "      <th>7</th>\n",
       "      <td>11</td>\n",
       "      <td>1.609438</td>\n",
       "      <td>Monero</td>\n",
       "    </tr>\n",
       "    <tr>\n",
       "      <th>9</th>\n",
       "      <td>12</td>\n",
       "      <td>2.079442</td>\n",
       "      <td>Stellar</td>\n",
       "    </tr>\n",
       "    <tr>\n",
       "      <th>8</th>\n",
       "      <td>13</td>\n",
       "      <td>1.791759</td>\n",
       "      <td>TRON</td>\n",
       "    </tr>\n",
       "  </tbody>\n",
       "</table>\n",
       "</div>"
      ],
      "text/plain": [
       "    Asset_ID    Weight        Asset_Name\n",
       "1          0  4.304065      Binance Coin\n",
       "2          1  6.779922           Bitcoin\n",
       "0          2  2.397895      Bitcoin Cash\n",
       "10         3  4.406719           Cardano\n",
       "13         4  3.555348          Dogecoin\n",
       "3          5  1.386294            EOS.IO\n",
       "5          6  5.894403          Ethereum\n",
       "4          7  2.079442  Ethereum Classic\n",
       "11         8  1.098612              IOTA\n",
       "6          9  2.397895          Litecoin\n",
       "12        10  1.098612             Maker\n",
       "7         11  1.609438            Monero\n",
       "9         12  2.079442           Stellar\n",
       "8         13  1.791759              TRON"
      ]
     },
     "execution_count": 5,
     "metadata": {},
     "output_type": "execute_result"
    }
   ],
   "source": [
    "asset_details.sort_values(by='Asset_ID')"
   ]
  },
  {
   "cell_type": "code",
   "execution_count": 6,
   "id": "e0656849-9091-42d5-ac23-008c391a5127",
   "metadata": {
    "_cell_guid": "b1076dfc-b9ad-4769-8c92-a6c4dae69d19",
    "_uuid": "8f2839f25d086af736a60e9eeb907d3b93b6e0e5",
    "tags": []
   },
   "outputs": [],
   "source": [
    "train = pd.read_csv(data_path + \"g-research-crypto-forecasting/train.csv\")"
   ]
  },
  {
   "cell_type": "code",
   "execution_count": 7,
   "id": "a88a9b23-a695-4c5e-b23f-91e4620ade8c",
   "metadata": {},
   "outputs": [
    {
     "data": {
      "text/plain": [
       "Index(['timestamp', 'Asset_ID', 'Count', 'Open', 'High', 'Low', 'Close',\n",
       "       'Volume', 'VWAP', 'Target'],\n",
       "      dtype='object')"
      ]
     },
     "execution_count": 7,
     "metadata": {},
     "output_type": "execute_result"
    }
   ],
   "source": [
    "train.columns"
   ]
  },
  {
   "cell_type": "code",
   "execution_count": 8,
   "id": "db17ebfc-5f40-4000-96dd-9594dc82341c",
   "metadata": {},
   "outputs": [],
   "source": [
    "train = train[train.Asset_ID == 1]"
   ]
  },
  {
   "cell_type": "code",
   "execution_count": 9,
   "id": "7f1506cb-dc0d-4d17-8b6f-b4b5f1cd933c",
   "metadata": {},
   "outputs": [
    {
     "data": {
      "text/html": [
       "<div>\n",
       "<style scoped>\n",
       "    .dataframe tbody tr th:only-of-type {\n",
       "        vertical-align: middle;\n",
       "    }\n",
       "\n",
       "    .dataframe tbody tr th {\n",
       "        vertical-align: top;\n",
       "    }\n",
       "\n",
       "    .dataframe thead th {\n",
       "        text-align: right;\n",
       "    }\n",
       "</style>\n",
       "<table border=\"1\" class=\"dataframe\">\n",
       "  <thead>\n",
       "    <tr style=\"text-align: right;\">\n",
       "      <th></th>\n",
       "      <th>timestamp</th>\n",
       "      <th>Asset_ID</th>\n",
       "      <th>Count</th>\n",
       "      <th>Open</th>\n",
       "      <th>High</th>\n",
       "      <th>Low</th>\n",
       "      <th>Close</th>\n",
       "      <th>Volume</th>\n",
       "      <th>VWAP</th>\n",
       "      <th>Target</th>\n",
       "    </tr>\n",
       "  </thead>\n",
       "  <tbody>\n",
       "    <tr>\n",
       "      <th>2</th>\n",
       "      <td>2018-01-01 00:01:00</td>\n",
       "      <td>1</td>\n",
       "      <td>229.0</td>\n",
       "      <td>13835.194000</td>\n",
       "      <td>14013.800000</td>\n",
       "      <td>13666.11</td>\n",
       "      <td>13850.176000</td>\n",
       "      <td>31.550062</td>\n",
       "      <td>13827.062093</td>\n",
       "      <td>-0.014643</td>\n",
       "    </tr>\n",
       "    <tr>\n",
       "      <th>10</th>\n",
       "      <td>2018-01-01 00:02:00</td>\n",
       "      <td>1</td>\n",
       "      <td>235.0</td>\n",
       "      <td>13835.036000</td>\n",
       "      <td>14052.300000</td>\n",
       "      <td>13680.00</td>\n",
       "      <td>13828.102000</td>\n",
       "      <td>31.046432</td>\n",
       "      <td>13840.362591</td>\n",
       "      <td>-0.015037</td>\n",
       "    </tr>\n",
       "    <tr>\n",
       "      <th>18</th>\n",
       "      <td>2018-01-01 00:03:00</td>\n",
       "      <td>1</td>\n",
       "      <td>528.0</td>\n",
       "      <td>13823.900000</td>\n",
       "      <td>14000.400000</td>\n",
       "      <td>13601.00</td>\n",
       "      <td>13801.314000</td>\n",
       "      <td>55.061820</td>\n",
       "      <td>13806.068014</td>\n",
       "      <td>-0.010309</td>\n",
       "    </tr>\n",
       "    <tr>\n",
       "      <th>26</th>\n",
       "      <td>2018-01-01 00:04:00</td>\n",
       "      <td>1</td>\n",
       "      <td>435.0</td>\n",
       "      <td>13802.512000</td>\n",
       "      <td>13999.000000</td>\n",
       "      <td>13576.28</td>\n",
       "      <td>13768.040000</td>\n",
       "      <td>38.780529</td>\n",
       "      <td>13783.598101</td>\n",
       "      <td>-0.008999</td>\n",
       "    </tr>\n",
       "    <tr>\n",
       "      <th>34</th>\n",
       "      <td>2018-01-01 00:05:00</td>\n",
       "      <td>1</td>\n",
       "      <td>742.0</td>\n",
       "      <td>13766.000000</td>\n",
       "      <td>13955.900000</td>\n",
       "      <td>13554.44</td>\n",
       "      <td>13724.914000</td>\n",
       "      <td>108.501637</td>\n",
       "      <td>13735.586842</td>\n",
       "      <td>-0.008079</td>\n",
       "    </tr>\n",
       "    <tr>\n",
       "      <th>...</th>\n",
       "      <td>...</td>\n",
       "      <td>...</td>\n",
       "      <td>...</td>\n",
       "      <td>...</td>\n",
       "      <td>...</td>\n",
       "      <td>...</td>\n",
       "      <td>...</td>\n",
       "      <td>...</td>\n",
       "      <td>...</td>\n",
       "      <td>...</td>\n",
       "    </tr>\n",
       "    <tr>\n",
       "      <th>24236739</th>\n",
       "      <td>2021-09-20 23:56:00</td>\n",
       "      <td>1</td>\n",
       "      <td>1940.0</td>\n",
       "      <td>42983.780000</td>\n",
       "      <td>43001.850849</td>\n",
       "      <td>42878.26</td>\n",
       "      <td>42899.012857</td>\n",
       "      <td>56.850913</td>\n",
       "      <td>42935.489499</td>\n",
       "      <td>NaN</td>\n",
       "    </tr>\n",
       "    <tr>\n",
       "      <th>24236753</th>\n",
       "      <td>2021-09-20 23:57:00</td>\n",
       "      <td>1</td>\n",
       "      <td>2026.0</td>\n",
       "      <td>42904.197143</td>\n",
       "      <td>42932.000000</td>\n",
       "      <td>42840.16</td>\n",
       "      <td>42860.005714</td>\n",
       "      <td>80.993326</td>\n",
       "      <td>42879.576084</td>\n",
       "      <td>NaN</td>\n",
       "    </tr>\n",
       "    <tr>\n",
       "      <th>24236767</th>\n",
       "      <td>2021-09-20 23:58:00</td>\n",
       "      <td>1</td>\n",
       "      <td>1986.0</td>\n",
       "      <td>42859.385714</td>\n",
       "      <td>42887.500000</td>\n",
       "      <td>42797.20</td>\n",
       "      <td>42827.020000</td>\n",
       "      <td>65.677734</td>\n",
       "      <td>42844.090693</td>\n",
       "      <td>NaN</td>\n",
       "    </tr>\n",
       "    <tr>\n",
       "      <th>24236781</th>\n",
       "      <td>2021-09-20 23:59:00</td>\n",
       "      <td>1</td>\n",
       "      <td>4047.0</td>\n",
       "      <td>42839.012802</td>\n",
       "      <td>43042.160000</td>\n",
       "      <td>42818.10</td>\n",
       "      <td>43017.277143</td>\n",
       "      <td>138.335477</td>\n",
       "      <td>42935.761938</td>\n",
       "      <td>NaN</td>\n",
       "    </tr>\n",
       "    <tr>\n",
       "      <th>24236795</th>\n",
       "      <td>2021-09-21 00:00:00</td>\n",
       "      <td>1</td>\n",
       "      <td>2698.0</td>\n",
       "      <td>43009.961250</td>\n",
       "      <td>43048.510000</td>\n",
       "      <td>42961.64</td>\n",
       "      <td>43002.505000</td>\n",
       "      <td>128.206820</td>\n",
       "      <td>43011.414052</td>\n",
       "      <td>NaN</td>\n",
       "    </tr>\n",
       "  </tbody>\n",
       "</table>\n",
       "<p>1956282 rows × 10 columns</p>\n",
       "</div>"
      ],
      "text/plain": [
       "                   timestamp  Asset_ID   Count          Open          High  \\\n",
       "2        2018-01-01 00:01:00         1   229.0  13835.194000  14013.800000   \n",
       "10       2018-01-01 00:02:00         1   235.0  13835.036000  14052.300000   \n",
       "18       2018-01-01 00:03:00         1   528.0  13823.900000  14000.400000   \n",
       "26       2018-01-01 00:04:00         1   435.0  13802.512000  13999.000000   \n",
       "34       2018-01-01 00:05:00         1   742.0  13766.000000  13955.900000   \n",
       "...                      ...       ...     ...           ...           ...   \n",
       "24236739 2021-09-20 23:56:00         1  1940.0  42983.780000  43001.850849   \n",
       "24236753 2021-09-20 23:57:00         1  2026.0  42904.197143  42932.000000   \n",
       "24236767 2021-09-20 23:58:00         1  1986.0  42859.385714  42887.500000   \n",
       "24236781 2021-09-20 23:59:00         1  4047.0  42839.012802  43042.160000   \n",
       "24236795 2021-09-21 00:00:00         1  2698.0  43009.961250  43048.510000   \n",
       "\n",
       "               Low         Close      Volume          VWAP    Target  \n",
       "2         13666.11  13850.176000   31.550062  13827.062093 -0.014643  \n",
       "10        13680.00  13828.102000   31.046432  13840.362591 -0.015037  \n",
       "18        13601.00  13801.314000   55.061820  13806.068014 -0.010309  \n",
       "26        13576.28  13768.040000   38.780529  13783.598101 -0.008999  \n",
       "34        13554.44  13724.914000  108.501637  13735.586842 -0.008079  \n",
       "...            ...           ...         ...           ...       ...  \n",
       "24236739  42878.26  42899.012857   56.850913  42935.489499       NaN  \n",
       "24236753  42840.16  42860.005714   80.993326  42879.576084       NaN  \n",
       "24236767  42797.20  42827.020000   65.677734  42844.090693       NaN  \n",
       "24236781  42818.10  43017.277143  138.335477  42935.761938       NaN  \n",
       "24236795  42961.64  43002.505000  128.206820  43011.414052       NaN  \n",
       "\n",
       "[1956282 rows x 10 columns]"
      ]
     },
     "execution_count": 9,
     "metadata": {},
     "output_type": "execute_result"
    }
   ],
   "source": [
    "# Convert timestamp\n",
    "train['timestamp'] = pd.to_datetime(train['timestamp'], unit='s')\n",
    "train"
   ]
  },
  {
   "cell_type": "markdown",
   "id": "a81cc4f9-ffc2-4582-8af3-0cd5cca5799f",
   "metadata": {},
   "source": [
    "#### Reindexing and sorting"
   ]
  },
  {
   "cell_type": "markdown",
   "id": "83c786c1-152d-43a5-9470-dad38b7c185c",
   "metadata": {},
   "source": [
    "Asset-wise reindexing, performing a forward fill when possible, else a backfill. We create a column `is_real` to note whether a row is existant in the original dataset or added due to reindexing."
   ]
  },
  {
   "cell_type": "code",
   "execution_count": 10,
   "id": "59170585-9a3b-4024-a183-1a5372fa3299",
   "metadata": {},
   "outputs": [],
   "source": [
    "# maybe target should not be filled. The filling has to be re-examined"
   ]
  },
  {
   "cell_type": "raw",
   "id": "99c5074e-385c-4174-94a7-6f5d0335902b",
   "metadata": {},
   "source": [
    "train.index = train.timestamp\n",
    "train.sort_index(inplace=True)\n",
    "train['is_real'] = True\n",
    "#train['existing_target'] = ~train.Target.isna()\n",
    "ind = train.index.unique()\n",
    "\n",
    "def reindex(df):\n",
    "    res = df.reindex(pd.date_range(ind.min(), ind.max(), freq='min'))\n",
    "    res['is_real'].fillna(False, inplace=True)\n",
    "    #res['existing_target'].fillna(True, inplace=True)\n",
    "    res['timestamp'] = res.index\n",
    "    res = res.fillna(method=\"ffill\")\n",
    "    #res['Target'] = res.Target * res.existing_target.apply(lambda x: 1 if x else np.nan)\n",
    "    return res\n",
    "\n",
    "train = train.groupby('Asset_ID').apply(reindex).reset_index(0, drop=True).sort_values(by=['timestamp', 'Asset_ID'])\n",
    "gc.collect()"
   ]
  },
  {
   "cell_type": "code",
   "execution_count": 11,
   "id": "1fc5d571-29b4-4bc3-8cff-155fcdba962d",
   "metadata": {},
   "outputs": [
    {
     "data": {
      "text/plain": [
       "0"
      ]
     },
     "execution_count": 11,
     "metadata": {},
     "output_type": "execute_result"
    }
   ],
   "source": [
    "train.index = train.timestamp\n",
    "train.sort_index(inplace=True)\n",
    "train['is_real'] = True\n",
    "ind = train.index.unique()\n",
    "\n",
    "def reindex(df):\n",
    "    res = df.reindex(pd.date_range(ind.min(), ind.max(), freq='min'))\n",
    "    res['is_real'].fillna(False, inplace=True)\n",
    "    res['timestamp'] = res.index\n",
    "    res = res.fillna(method=\"ffill\").fillna(method=\"bfill\")\n",
    "    return res\n",
    "\n",
    "train = train.groupby('Asset_ID').apply(reindex).reset_index(0, drop=True).sort_values(by=['timestamp', 'Asset_ID'])\n",
    "gc.collect()"
   ]
  },
  {
   "cell_type": "raw",
   "id": "eb823376-60bb-4a9c-8050-be032d58ed9a",
   "metadata": {},
   "source": [
    "# Smaller dataset for debugging\n",
    "if DEBUG:\n",
    "    train = train[:500010]"
   ]
  },
  {
   "cell_type": "code",
   "execution_count": 12,
   "id": "33b2f5d7-a62d-4906-9b81-d14b3c39d4e4",
   "metadata": {},
   "outputs": [
    {
     "data": {
      "text/html": [
       "<div>\n",
       "<style scoped>\n",
       "    .dataframe tbody tr th:only-of-type {\n",
       "        vertical-align: middle;\n",
       "    }\n",
       "\n",
       "    .dataframe tbody tr th {\n",
       "        vertical-align: top;\n",
       "    }\n",
       "\n",
       "    .dataframe thead th {\n",
       "        text-align: right;\n",
       "    }\n",
       "</style>\n",
       "<table border=\"1\" class=\"dataframe\">\n",
       "  <thead>\n",
       "    <tr style=\"text-align: right;\">\n",
       "      <th></th>\n",
       "      <th>timestamp</th>\n",
       "      <th>Asset_ID</th>\n",
       "      <th>Count</th>\n",
       "      <th>Open</th>\n",
       "      <th>High</th>\n",
       "      <th>Low</th>\n",
       "      <th>Close</th>\n",
       "      <th>Volume</th>\n",
       "      <th>VWAP</th>\n",
       "      <th>Target</th>\n",
       "      <th>is_real</th>\n",
       "    </tr>\n",
       "  </thead>\n",
       "  <tbody>\n",
       "    <tr>\n",
       "      <th>2018-01-01 00:01:00</th>\n",
       "      <td>2018-01-01 00:01:00</td>\n",
       "      <td>1.0</td>\n",
       "      <td>229.0</td>\n",
       "      <td>13835.194</td>\n",
       "      <td>14013.8</td>\n",
       "      <td>13666.11</td>\n",
       "      <td>13850.176</td>\n",
       "      <td>31.550062</td>\n",
       "      <td>13827.062093</td>\n",
       "      <td>-0.014643</td>\n",
       "      <td>True</td>\n",
       "    </tr>\n",
       "    <tr>\n",
       "      <th>2018-01-01 00:02:00</th>\n",
       "      <td>2018-01-01 00:02:00</td>\n",
       "      <td>1.0</td>\n",
       "      <td>235.0</td>\n",
       "      <td>13835.036</td>\n",
       "      <td>14052.3</td>\n",
       "      <td>13680.00</td>\n",
       "      <td>13828.102</td>\n",
       "      <td>31.046432</td>\n",
       "      <td>13840.362591</td>\n",
       "      <td>-0.015037</td>\n",
       "      <td>True</td>\n",
       "    </tr>\n",
       "    <tr>\n",
       "      <th>2018-01-01 00:03:00</th>\n",
       "      <td>2018-01-01 00:03:00</td>\n",
       "      <td>1.0</td>\n",
       "      <td>528.0</td>\n",
       "      <td>13823.900</td>\n",
       "      <td>14000.4</td>\n",
       "      <td>13601.00</td>\n",
       "      <td>13801.314</td>\n",
       "      <td>55.061820</td>\n",
       "      <td>13806.068014</td>\n",
       "      <td>-0.010309</td>\n",
       "      <td>True</td>\n",
       "    </tr>\n",
       "    <tr>\n",
       "      <th>2018-01-01 00:04:00</th>\n",
       "      <td>2018-01-01 00:04:00</td>\n",
       "      <td>1.0</td>\n",
       "      <td>435.0</td>\n",
       "      <td>13802.512</td>\n",
       "      <td>13999.0</td>\n",
       "      <td>13576.28</td>\n",
       "      <td>13768.040</td>\n",
       "      <td>38.780529</td>\n",
       "      <td>13783.598101</td>\n",
       "      <td>-0.008999</td>\n",
       "      <td>True</td>\n",
       "    </tr>\n",
       "    <tr>\n",
       "      <th>2018-01-01 00:05:00</th>\n",
       "      <td>2018-01-01 00:05:00</td>\n",
       "      <td>1.0</td>\n",
       "      <td>742.0</td>\n",
       "      <td>13766.000</td>\n",
       "      <td>13955.9</td>\n",
       "      <td>13554.44</td>\n",
       "      <td>13724.914</td>\n",
       "      <td>108.501637</td>\n",
       "      <td>13735.586842</td>\n",
       "      <td>-0.008079</td>\n",
       "      <td>True</td>\n",
       "    </tr>\n",
       "    <tr>\n",
       "      <th>2018-01-01 00:06:00</th>\n",
       "      <td>2018-01-01 00:06:00</td>\n",
       "      <td>1.0</td>\n",
       "      <td>554.0</td>\n",
       "      <td>13717.714</td>\n",
       "      <td>14000.7</td>\n",
       "      <td>13520.00</td>\n",
       "      <td>13717.112</td>\n",
       "      <td>70.805776</td>\n",
       "      <td>13706.952030</td>\n",
       "      <td>-0.004422</td>\n",
       "      <td>True</td>\n",
       "    </tr>\n",
       "    <tr>\n",
       "      <th>2018-01-01 00:07:00</th>\n",
       "      <td>2018-01-01 00:07:00</td>\n",
       "      <td>1.0</td>\n",
       "      <td>546.0</td>\n",
       "      <td>13720.922</td>\n",
       "      <td>14001.4</td>\n",
       "      <td>13501.01</td>\n",
       "      <td>13670.940</td>\n",
       "      <td>70.762103</td>\n",
       "      <td>13683.843336</td>\n",
       "      <td>-0.008873</td>\n",
       "      <td>True</td>\n",
       "    </tr>\n",
       "    <tr>\n",
       "      <th>2018-01-01 00:08:00</th>\n",
       "      <td>2018-01-01 00:08:00</td>\n",
       "      <td>1.0</td>\n",
       "      <td>437.0</td>\n",
       "      <td>13669.246</td>\n",
       "      <td>13914.6</td>\n",
       "      <td>13504.99</td>\n",
       "      <td>13721.348</td>\n",
       "      <td>78.298555</td>\n",
       "      <td>13701.600413</td>\n",
       "      <td>-0.008492</td>\n",
       "      <td>True</td>\n",
       "    </tr>\n",
       "    <tr>\n",
       "      <th>2018-01-01 00:09:00</th>\n",
       "      <td>2018-01-01 00:09:00</td>\n",
       "      <td>1.0</td>\n",
       "      <td>288.0</td>\n",
       "      <td>13713.412</td>\n",
       "      <td>13948.9</td>\n",
       "      <td>13539.99</td>\n",
       "      <td>13720.260</td>\n",
       "      <td>60.100796</td>\n",
       "      <td>13720.524584</td>\n",
       "      <td>-0.006282</td>\n",
       "      <td>True</td>\n",
       "    </tr>\n",
       "    <tr>\n",
       "      <th>2018-01-01 00:10:00</th>\n",
       "      <td>2018-01-01 00:10:00</td>\n",
       "      <td>1.0</td>\n",
       "      <td>270.0</td>\n",
       "      <td>13713.610</td>\n",
       "      <td>13948.5</td>\n",
       "      <td>13530.00</td>\n",
       "      <td>13719.902</td>\n",
       "      <td>56.578007</td>\n",
       "      <td>13711.904983</td>\n",
       "      <td>-0.003889</td>\n",
       "      <td>True</td>\n",
       "    </tr>\n",
       "  </tbody>\n",
       "</table>\n",
       "</div>"
      ],
      "text/plain": [
       "                              timestamp  Asset_ID  Count       Open     High  \\\n",
       "2018-01-01 00:01:00 2018-01-01 00:01:00       1.0  229.0  13835.194  14013.8   \n",
       "2018-01-01 00:02:00 2018-01-01 00:02:00       1.0  235.0  13835.036  14052.3   \n",
       "2018-01-01 00:03:00 2018-01-01 00:03:00       1.0  528.0  13823.900  14000.4   \n",
       "2018-01-01 00:04:00 2018-01-01 00:04:00       1.0  435.0  13802.512  13999.0   \n",
       "2018-01-01 00:05:00 2018-01-01 00:05:00       1.0  742.0  13766.000  13955.9   \n",
       "2018-01-01 00:06:00 2018-01-01 00:06:00       1.0  554.0  13717.714  14000.7   \n",
       "2018-01-01 00:07:00 2018-01-01 00:07:00       1.0  546.0  13720.922  14001.4   \n",
       "2018-01-01 00:08:00 2018-01-01 00:08:00       1.0  437.0  13669.246  13914.6   \n",
       "2018-01-01 00:09:00 2018-01-01 00:09:00       1.0  288.0  13713.412  13948.9   \n",
       "2018-01-01 00:10:00 2018-01-01 00:10:00       1.0  270.0  13713.610  13948.5   \n",
       "\n",
       "                          Low      Close      Volume          VWAP    Target  \\\n",
       "2018-01-01 00:01:00  13666.11  13850.176   31.550062  13827.062093 -0.014643   \n",
       "2018-01-01 00:02:00  13680.00  13828.102   31.046432  13840.362591 -0.015037   \n",
       "2018-01-01 00:03:00  13601.00  13801.314   55.061820  13806.068014 -0.010309   \n",
       "2018-01-01 00:04:00  13576.28  13768.040   38.780529  13783.598101 -0.008999   \n",
       "2018-01-01 00:05:00  13554.44  13724.914  108.501637  13735.586842 -0.008079   \n",
       "2018-01-01 00:06:00  13520.00  13717.112   70.805776  13706.952030 -0.004422   \n",
       "2018-01-01 00:07:00  13501.01  13670.940   70.762103  13683.843336 -0.008873   \n",
       "2018-01-01 00:08:00  13504.99  13721.348   78.298555  13701.600413 -0.008492   \n",
       "2018-01-01 00:09:00  13539.99  13720.260   60.100796  13720.524584 -0.006282   \n",
       "2018-01-01 00:10:00  13530.00  13719.902   56.578007  13711.904983 -0.003889   \n",
       "\n",
       "                     is_real  \n",
       "2018-01-01 00:01:00     True  \n",
       "2018-01-01 00:02:00     True  \n",
       "2018-01-01 00:03:00     True  \n",
       "2018-01-01 00:04:00     True  \n",
       "2018-01-01 00:05:00     True  \n",
       "2018-01-01 00:06:00     True  \n",
       "2018-01-01 00:07:00     True  \n",
       "2018-01-01 00:08:00     True  \n",
       "2018-01-01 00:09:00     True  \n",
       "2018-01-01 00:10:00     True  "
      ]
     },
     "execution_count": 12,
     "metadata": {},
     "output_type": "execute_result"
    }
   ],
   "source": [
    "train.head(10)"
   ]
  },
  {
   "cell_type": "markdown",
   "id": "c420bdde-e663-4e41-af7c-860994295a3f",
   "metadata": {},
   "source": [
    "#### VWAP clipping"
   ]
  },
  {
   "cell_type": "code",
   "execution_count": 13,
   "id": "00616e98-9674-4bf4-aae3-5fdcf20802b1",
   "metadata": {},
   "outputs": [],
   "source": [
    "VWAP_max = np.max(train[np.isfinite(train.VWAP)].VWAP)\n",
    "VWAP_min = np.min(train[np.isfinite(train.VWAP)].VWAP)\n",
    "train['VWAP'] = np.nan_to_num(train.VWAP, posinf=VWAP_max, neginf=VWAP_min)"
   ]
  },
  {
   "cell_type": "markdown",
   "id": "527543c9-e4f0-4ab3-8e2b-ac82bb58d13f",
   "metadata": {},
   "source": [
    "#### Feature engineering"
   ]
  },
  {
   "cell_type": "code",
   "execution_count": 14,
   "id": "1f50bf7f-6019-41ca-a73b-154d4478ea27",
   "metadata": {},
   "outputs": [],
   "source": [
    "def feature_eng(_df, row = False):\n",
    "    #_df = df.copy()\n",
    "    \n",
    "    _df['Spread'] = _df['High'] - _df['Low']\n",
    "    _df['Close-Open'] = _df['Close'] - _df['Open']\n",
    "\n",
    "    _df['Upper_Shadow'] = _df['High'] - np.maximum(_df['Close'], _df['Open'])\n",
    "    _df['Lower_Shadow'] = np.minimum(_df['Close'], _df['Open']) - _df['Low']\n",
    "    \n",
    "    _df['High/Low'] = _df['High'] / _df['Low']\n",
    "    _df['log_High/Low'] = np.log(_df['High/Low'])\n",
    "    \n",
    "    _df['Close/Open'] = _df['Close'] / _df['Open']\n",
    "    _df['log_Close/Open'] = np.log(_df['Close/Open'])\n",
    "\n",
    "    _df['Volume/Count'] = _df['Volume'] / (_df['Count'] + 1)\n",
    "\n",
    "    _df['LOGVOL'] = np.log(1. + _df['Volume'])\n",
    "    _df['LOGCNT'] = np.log(1. + _df['Count'])\n",
    "\n",
    "    _df['Mean'] = _df[['Open', 'High', 'Low', 'Close']].mean(axis = 1)\n",
    "    _df['High/Mean'] = _df['High'] / _df['Mean']\n",
    "    _df['Low/Mean'] = _df['Low'] / _df['Mean']\n",
    "\n",
    "    _df['Median'] = _df[['Open', 'High', 'Low', 'Close']].median(axis=1)\n",
    "    _df['High/Median'] = _df['High'] / _df['Median']\n",
    "    _df['Low/Median'] = _df['Low'] / _df['Median']\n",
    "\n",
    "    \"\"\"################################### ???\n",
    "\n",
    "        _df['RNG'] = (_df['High'] - _df['Low']) / _df['VWAP']\n",
    "        _df['MOV'] = (_df['Close'] - _df['Open']) / _df['VWAP']\n",
    "        _df['CLS'] = (_df['Close'] - _df['VWAP']) / _df['VWAP']\n",
    "\n",
    "    ################################### ???\n",
    "\n",
    "        _df['gtrade'] = _df['Close-Open'] / _df['Count']\n",
    "        _df['shadow1'] = _df['Close-Open'] / (_df['Volume'] + 1)\n",
    "        _df['shadow3'] = _df['Upper_Shadow'] / (_df['Volume'] + 1)\n",
    "        _df['shadow5'] = _df['Lower_Shadow'] / (_df['Volume'] + 1)\n",
    "\n",
    "        _df['diff1'] = _df['Volume'] - _df['Count'] # ?????\n",
    "\n",
    "        _df['mean1'] = (_df['shadow5'] + _df['shadow3']) / 2\n",
    "        _df['mean2'] = (_df['shadow1'] + _df['Volume']) / 2\n",
    "        _df['mean3'] = (_df['Close-Open'] + _df['gtrade']) / 2\n",
    "        _df['mean4'] = (_df['diff1'] + _df['Upper_Shadow']) / 2\n",
    "        _df['mean5'] = (_df['diff1'] + _df['Lower_Shadow']) / 2\"\"\"\n",
    "\n",
    "    return _df"
   ]
  },
  {
   "cell_type": "markdown",
   "id": "ac42448b-dfcb-496b-b042-77d6bad60afd",
   "metadata": {},
   "source": [
    "Get the features"
   ]
  },
  {
   "cell_type": "code",
   "execution_count": 15,
   "id": "662fb8bf-8151-4208-9c88-390879b6800e",
   "metadata": {},
   "outputs": [],
   "source": [
    "train = feature_eng(train)"
   ]
  },
  {
   "cell_type": "markdown",
   "id": "7ef055eb-8dfd-409f-bf6c-c7dc3b4dd138",
   "metadata": {},
   "source": [
    "some params needed for the model, sampling, etc."
   ]
  },
  {
   "cell_type": "code",
   "execution_count": 16,
   "id": "2a2710a4-52fe-414c-ac29-a9d110aaf495",
   "metadata": {},
   "outputs": [],
   "source": [
    "targets = train['Target'].to_numpy().reshape(-1, N_ASSETS)"
   ]
  },
  {
   "cell_type": "code",
   "execution_count": 17,
   "id": "fd30856e-7edd-475c-beaf-65546997a071",
   "metadata": {},
   "outputs": [],
   "source": [
    "feature_cols = train.columns.drop(['Asset_ID', 'Target', 'timestamp', 'is_real'])"
   ]
  },
  {
   "cell_type": "code",
   "execution_count": 18,
   "id": "d572bf0e-eb52-4243-a008-ce3bfab57e6a",
   "metadata": {},
   "outputs": [
    {
     "data": {
      "text/plain": [
       "Index(['Count', 'Open', 'High', 'Low', 'Close', 'Volume', 'VWAP', 'Spread',\n",
       "       'Close-Open', 'Upper_Shadow', 'Lower_Shadow', 'High/Low',\n",
       "       'log_High/Low', 'Close/Open', 'log_Close/Open', 'Volume/Count',\n",
       "       'LOGVOL', 'LOGCNT', 'Mean', 'High/Mean', 'Low/Mean', 'Median',\n",
       "       'High/Median', 'Low/Median'],\n",
       "      dtype='object')"
      ]
     },
     "execution_count": 18,
     "metadata": {},
     "output_type": "execute_result"
    }
   ],
   "source": [
    "feature_cols"
   ]
  },
  {
   "cell_type": "code",
   "execution_count": 19,
   "id": "ecc10984-bdbf-4928-b294-41fad89bdd89",
   "metadata": {},
   "outputs": [
    {
     "data": {
      "text/plain": [
       "24"
      ]
     },
     "execution_count": 19,
     "metadata": {},
     "output_type": "execute_result"
    }
   ],
   "source": [
    "len(feature_cols)"
   ]
  },
  {
   "cell_type": "markdown",
   "id": "1cfab902-fc2b-49b7-a665-3f1887c869af",
   "metadata": {},
   "source": [
    "#### Managing added timestamps"
   ]
  },
  {
   "cell_type": "markdown",
   "id": "53f9ecb8-b9d3-4631-8272-d39c4e5c7832",
   "metadata": {},
   "source": [
    "non-real data features are set to 0 which are then masked by the model"
   ]
  },
  {
   "cell_type": "raw",
   "id": "33521f57-bbe5-4d00-8e61-3c3f33a0c2fa",
   "metadata": {},
   "source": [
    "for col in feature_cols:\n",
    "    train[col] = train[col] * train.is_real"
   ]
  },
  {
   "cell_type": "code",
   "execution_count": 20,
   "id": "5fe7e829-b49b-4d0b-9a71-009b66e7ef55",
   "metadata": {},
   "outputs": [
    {
     "data": {
      "text/html": [
       "<div>\n",
       "<style scoped>\n",
       "    .dataframe tbody tr th:only-of-type {\n",
       "        vertical-align: middle;\n",
       "    }\n",
       "\n",
       "    .dataframe tbody tr th {\n",
       "        vertical-align: top;\n",
       "    }\n",
       "\n",
       "    .dataframe thead th {\n",
       "        text-align: right;\n",
       "    }\n",
       "</style>\n",
       "<table border=\"1\" class=\"dataframe\">\n",
       "  <thead>\n",
       "    <tr style=\"text-align: right;\">\n",
       "      <th></th>\n",
       "      <th>timestamp</th>\n",
       "      <th>Asset_ID</th>\n",
       "      <th>Count</th>\n",
       "      <th>Open</th>\n",
       "      <th>High</th>\n",
       "      <th>Low</th>\n",
       "      <th>Close</th>\n",
       "      <th>Volume</th>\n",
       "      <th>VWAP</th>\n",
       "      <th>Target</th>\n",
       "      <th>...</th>\n",
       "      <th>log_Close/Open</th>\n",
       "      <th>Volume/Count</th>\n",
       "      <th>LOGVOL</th>\n",
       "      <th>LOGCNT</th>\n",
       "      <th>Mean</th>\n",
       "      <th>High/Mean</th>\n",
       "      <th>Low/Mean</th>\n",
       "      <th>Median</th>\n",
       "      <th>High/Median</th>\n",
       "      <th>Low/Median</th>\n",
       "    </tr>\n",
       "  </thead>\n",
       "  <tbody>\n",
       "    <tr>\n",
       "      <th>2018-01-01 00:01:00</th>\n",
       "      <td>2018-01-01 00:01:00</td>\n",
       "      <td>1.0</td>\n",
       "      <td>229.0</td>\n",
       "      <td>13835.194</td>\n",
       "      <td>14013.8</td>\n",
       "      <td>13666.11</td>\n",
       "      <td>13850.176</td>\n",
       "      <td>31.550062</td>\n",
       "      <td>13827.062093</td>\n",
       "      <td>-0.014643</td>\n",
       "      <td>...</td>\n",
       "      <td>0.001082</td>\n",
       "      <td>0.137174</td>\n",
       "      <td>3.482779</td>\n",
       "      <td>5.438079</td>\n",
       "      <td>13841.3200</td>\n",
       "      <td>1.012461</td>\n",
       "      <td>0.987342</td>\n",
       "      <td>13842.685</td>\n",
       "      <td>1.012361</td>\n",
       "      <td>0.987244</td>\n",
       "    </tr>\n",
       "    <tr>\n",
       "      <th>2018-01-01 00:02:00</th>\n",
       "      <td>2018-01-01 00:02:00</td>\n",
       "      <td>1.0</td>\n",
       "      <td>235.0</td>\n",
       "      <td>13835.036</td>\n",
       "      <td>14052.3</td>\n",
       "      <td>13680.00</td>\n",
       "      <td>13828.102</td>\n",
       "      <td>31.046432</td>\n",
       "      <td>13840.362591</td>\n",
       "      <td>-0.015037</td>\n",
       "      <td>...</td>\n",
       "      <td>-0.000501</td>\n",
       "      <td>0.131553</td>\n",
       "      <td>3.467186</td>\n",
       "      <td>5.463832</td>\n",
       "      <td>13848.8595</td>\n",
       "      <td>1.014690</td>\n",
       "      <td>0.987807</td>\n",
       "      <td>13831.569</td>\n",
       "      <td>1.015958</td>\n",
       "      <td>0.989042</td>\n",
       "    </tr>\n",
       "    <tr>\n",
       "      <th>2018-01-01 00:03:00</th>\n",
       "      <td>2018-01-01 00:03:00</td>\n",
       "      <td>1.0</td>\n",
       "      <td>528.0</td>\n",
       "      <td>13823.900</td>\n",
       "      <td>14000.4</td>\n",
       "      <td>13601.00</td>\n",
       "      <td>13801.314</td>\n",
       "      <td>55.061820</td>\n",
       "      <td>13806.068014</td>\n",
       "      <td>-0.010309</td>\n",
       "      <td>...</td>\n",
       "      <td>-0.001635</td>\n",
       "      <td>0.104087</td>\n",
       "      <td>4.026455</td>\n",
       "      <td>6.270988</td>\n",
       "      <td>13806.6535</td>\n",
       "      <td>1.014033</td>\n",
       "      <td>0.985105</td>\n",
       "      <td>13812.607</td>\n",
       "      <td>1.013596</td>\n",
       "      <td>0.984680</td>\n",
       "    </tr>\n",
       "    <tr>\n",
       "      <th>2018-01-01 00:04:00</th>\n",
       "      <td>2018-01-01 00:04:00</td>\n",
       "      <td>1.0</td>\n",
       "      <td>435.0</td>\n",
       "      <td>13802.512</td>\n",
       "      <td>13999.0</td>\n",
       "      <td>13576.28</td>\n",
       "      <td>13768.040</td>\n",
       "      <td>38.780529</td>\n",
       "      <td>13783.598101</td>\n",
       "      <td>-0.008999</td>\n",
       "      <td>...</td>\n",
       "      <td>-0.002501</td>\n",
       "      <td>0.088946</td>\n",
       "      <td>3.683378</td>\n",
       "      <td>6.077642</td>\n",
       "      <td>13786.4580</td>\n",
       "      <td>1.015417</td>\n",
       "      <td>0.984755</td>\n",
       "      <td>13785.276</td>\n",
       "      <td>1.015504</td>\n",
       "      <td>0.984839</td>\n",
       "    </tr>\n",
       "    <tr>\n",
       "      <th>2018-01-01 00:05:00</th>\n",
       "      <td>2018-01-01 00:05:00</td>\n",
       "      <td>1.0</td>\n",
       "      <td>742.0</td>\n",
       "      <td>13766.000</td>\n",
       "      <td>13955.9</td>\n",
       "      <td>13554.44</td>\n",
       "      <td>13724.914</td>\n",
       "      <td>108.501637</td>\n",
       "      <td>13735.586842</td>\n",
       "      <td>-0.008079</td>\n",
       "      <td>...</td>\n",
       "      <td>-0.002989</td>\n",
       "      <td>0.146032</td>\n",
       "      <td>4.695939</td>\n",
       "      <td>6.610696</td>\n",
       "      <td>13750.3135</td>\n",
       "      <td>1.014951</td>\n",
       "      <td>0.985755</td>\n",
       "      <td>13745.457</td>\n",
       "      <td>1.015310</td>\n",
       "      <td>0.986103</td>\n",
       "    </tr>\n",
       "    <tr>\n",
       "      <th>2018-01-01 00:06:00</th>\n",
       "      <td>2018-01-01 00:06:00</td>\n",
       "      <td>1.0</td>\n",
       "      <td>554.0</td>\n",
       "      <td>13717.714</td>\n",
       "      <td>14000.7</td>\n",
       "      <td>13520.00</td>\n",
       "      <td>13717.112</td>\n",
       "      <td>70.805776</td>\n",
       "      <td>13706.952030</td>\n",
       "      <td>-0.004422</td>\n",
       "      <td>...</td>\n",
       "      <td>-0.000044</td>\n",
       "      <td>0.127578</td>\n",
       "      <td>4.273965</td>\n",
       "      <td>6.318968</td>\n",
       "      <td>13738.8815</td>\n",
       "      <td>1.019057</td>\n",
       "      <td>0.984068</td>\n",
       "      <td>13717.413</td>\n",
       "      <td>1.020652</td>\n",
       "      <td>0.985609</td>\n",
       "    </tr>\n",
       "    <tr>\n",
       "      <th>2018-01-01 00:07:00</th>\n",
       "      <td>2018-01-01 00:07:00</td>\n",
       "      <td>1.0</td>\n",
       "      <td>546.0</td>\n",
       "      <td>13720.922</td>\n",
       "      <td>14001.4</td>\n",
       "      <td>13501.01</td>\n",
       "      <td>13670.940</td>\n",
       "      <td>70.762103</td>\n",
       "      <td>13683.843336</td>\n",
       "      <td>-0.008873</td>\n",
       "      <td>...</td>\n",
       "      <td>-0.003649</td>\n",
       "      <td>0.129364</td>\n",
       "      <td>4.273357</td>\n",
       "      <td>6.304449</td>\n",
       "      <td>13723.5680</td>\n",
       "      <td>1.020245</td>\n",
       "      <td>0.983783</td>\n",
       "      <td>13695.931</td>\n",
       "      <td>1.022304</td>\n",
       "      <td>0.985768</td>\n",
       "    </tr>\n",
       "    <tr>\n",
       "      <th>2018-01-01 00:08:00</th>\n",
       "      <td>2018-01-01 00:08:00</td>\n",
       "      <td>1.0</td>\n",
       "      <td>437.0</td>\n",
       "      <td>13669.246</td>\n",
       "      <td>13914.6</td>\n",
       "      <td>13504.99</td>\n",
       "      <td>13721.348</td>\n",
       "      <td>78.298555</td>\n",
       "      <td>13701.600413</td>\n",
       "      <td>-0.008492</td>\n",
       "      <td>...</td>\n",
       "      <td>0.003804</td>\n",
       "      <td>0.178764</td>\n",
       "      <td>4.373220</td>\n",
       "      <td>6.082219</td>\n",
       "      <td>13702.5460</td>\n",
       "      <td>1.015476</td>\n",
       "      <td>0.985583</td>\n",
       "      <td>13695.297</td>\n",
       "      <td>1.016013</td>\n",
       "      <td>0.986104</td>\n",
       "    </tr>\n",
       "    <tr>\n",
       "      <th>2018-01-01 00:09:00</th>\n",
       "      <td>2018-01-01 00:09:00</td>\n",
       "      <td>1.0</td>\n",
       "      <td>288.0</td>\n",
       "      <td>13713.412</td>\n",
       "      <td>13948.9</td>\n",
       "      <td>13539.99</td>\n",
       "      <td>13720.260</td>\n",
       "      <td>60.100796</td>\n",
       "      <td>13720.524584</td>\n",
       "      <td>-0.006282</td>\n",
       "      <td>...</td>\n",
       "      <td>0.000499</td>\n",
       "      <td>0.207961</td>\n",
       "      <td>4.112525</td>\n",
       "      <td>5.666427</td>\n",
       "      <td>13730.6405</td>\n",
       "      <td>1.015896</td>\n",
       "      <td>0.986115</td>\n",
       "      <td>13716.836</td>\n",
       "      <td>1.016918</td>\n",
       "      <td>0.987107</td>\n",
       "    </tr>\n",
       "    <tr>\n",
       "      <th>2018-01-01 00:10:00</th>\n",
       "      <td>2018-01-01 00:10:00</td>\n",
       "      <td>1.0</td>\n",
       "      <td>270.0</td>\n",
       "      <td>13713.610</td>\n",
       "      <td>13948.5</td>\n",
       "      <td>13530.00</td>\n",
       "      <td>13719.902</td>\n",
       "      <td>56.578007</td>\n",
       "      <td>13711.904983</td>\n",
       "      <td>-0.003889</td>\n",
       "      <td>...</td>\n",
       "      <td>0.000459</td>\n",
       "      <td>0.208775</td>\n",
       "      <td>4.053141</td>\n",
       "      <td>5.602119</td>\n",
       "      <td>13728.0030</td>\n",
       "      <td>1.016062</td>\n",
       "      <td>0.985577</td>\n",
       "      <td>13716.756</td>\n",
       "      <td>1.016895</td>\n",
       "      <td>0.986385</td>\n",
       "    </tr>\n",
       "  </tbody>\n",
       "</table>\n",
       "<p>10 rows × 28 columns</p>\n",
       "</div>"
      ],
      "text/plain": [
       "                              timestamp  Asset_ID  Count       Open     High  \\\n",
       "2018-01-01 00:01:00 2018-01-01 00:01:00       1.0  229.0  13835.194  14013.8   \n",
       "2018-01-01 00:02:00 2018-01-01 00:02:00       1.0  235.0  13835.036  14052.3   \n",
       "2018-01-01 00:03:00 2018-01-01 00:03:00       1.0  528.0  13823.900  14000.4   \n",
       "2018-01-01 00:04:00 2018-01-01 00:04:00       1.0  435.0  13802.512  13999.0   \n",
       "2018-01-01 00:05:00 2018-01-01 00:05:00       1.0  742.0  13766.000  13955.9   \n",
       "2018-01-01 00:06:00 2018-01-01 00:06:00       1.0  554.0  13717.714  14000.7   \n",
       "2018-01-01 00:07:00 2018-01-01 00:07:00       1.0  546.0  13720.922  14001.4   \n",
       "2018-01-01 00:08:00 2018-01-01 00:08:00       1.0  437.0  13669.246  13914.6   \n",
       "2018-01-01 00:09:00 2018-01-01 00:09:00       1.0  288.0  13713.412  13948.9   \n",
       "2018-01-01 00:10:00 2018-01-01 00:10:00       1.0  270.0  13713.610  13948.5   \n",
       "\n",
       "                          Low      Close      Volume          VWAP    Target  \\\n",
       "2018-01-01 00:01:00  13666.11  13850.176   31.550062  13827.062093 -0.014643   \n",
       "2018-01-01 00:02:00  13680.00  13828.102   31.046432  13840.362591 -0.015037   \n",
       "2018-01-01 00:03:00  13601.00  13801.314   55.061820  13806.068014 -0.010309   \n",
       "2018-01-01 00:04:00  13576.28  13768.040   38.780529  13783.598101 -0.008999   \n",
       "2018-01-01 00:05:00  13554.44  13724.914  108.501637  13735.586842 -0.008079   \n",
       "2018-01-01 00:06:00  13520.00  13717.112   70.805776  13706.952030 -0.004422   \n",
       "2018-01-01 00:07:00  13501.01  13670.940   70.762103  13683.843336 -0.008873   \n",
       "2018-01-01 00:08:00  13504.99  13721.348   78.298555  13701.600413 -0.008492   \n",
       "2018-01-01 00:09:00  13539.99  13720.260   60.100796  13720.524584 -0.006282   \n",
       "2018-01-01 00:10:00  13530.00  13719.902   56.578007  13711.904983 -0.003889   \n",
       "\n",
       "                     ...  log_Close/Open  Volume/Count    LOGVOL    LOGCNT  \\\n",
       "2018-01-01 00:01:00  ...        0.001082      0.137174  3.482779  5.438079   \n",
       "2018-01-01 00:02:00  ...       -0.000501      0.131553  3.467186  5.463832   \n",
       "2018-01-01 00:03:00  ...       -0.001635      0.104087  4.026455  6.270988   \n",
       "2018-01-01 00:04:00  ...       -0.002501      0.088946  3.683378  6.077642   \n",
       "2018-01-01 00:05:00  ...       -0.002989      0.146032  4.695939  6.610696   \n",
       "2018-01-01 00:06:00  ...       -0.000044      0.127578  4.273965  6.318968   \n",
       "2018-01-01 00:07:00  ...       -0.003649      0.129364  4.273357  6.304449   \n",
       "2018-01-01 00:08:00  ...        0.003804      0.178764  4.373220  6.082219   \n",
       "2018-01-01 00:09:00  ...        0.000499      0.207961  4.112525  5.666427   \n",
       "2018-01-01 00:10:00  ...        0.000459      0.208775  4.053141  5.602119   \n",
       "\n",
       "                           Mean  High/Mean  Low/Mean     Median  High/Median  \\\n",
       "2018-01-01 00:01:00  13841.3200   1.012461  0.987342  13842.685     1.012361   \n",
       "2018-01-01 00:02:00  13848.8595   1.014690  0.987807  13831.569     1.015958   \n",
       "2018-01-01 00:03:00  13806.6535   1.014033  0.985105  13812.607     1.013596   \n",
       "2018-01-01 00:04:00  13786.4580   1.015417  0.984755  13785.276     1.015504   \n",
       "2018-01-01 00:05:00  13750.3135   1.014951  0.985755  13745.457     1.015310   \n",
       "2018-01-01 00:06:00  13738.8815   1.019057  0.984068  13717.413     1.020652   \n",
       "2018-01-01 00:07:00  13723.5680   1.020245  0.983783  13695.931     1.022304   \n",
       "2018-01-01 00:08:00  13702.5460   1.015476  0.985583  13695.297     1.016013   \n",
       "2018-01-01 00:09:00  13730.6405   1.015896  0.986115  13716.836     1.016918   \n",
       "2018-01-01 00:10:00  13728.0030   1.016062  0.985577  13716.756     1.016895   \n",
       "\n",
       "                     Low/Median  \n",
       "2018-01-01 00:01:00    0.987244  \n",
       "2018-01-01 00:02:00    0.989042  \n",
       "2018-01-01 00:03:00    0.984680  \n",
       "2018-01-01 00:04:00    0.984839  \n",
       "2018-01-01 00:05:00    0.986103  \n",
       "2018-01-01 00:06:00    0.985609  \n",
       "2018-01-01 00:07:00    0.985768  \n",
       "2018-01-01 00:08:00    0.986104  \n",
       "2018-01-01 00:09:00    0.987107  \n",
       "2018-01-01 00:10:00    0.986385  \n",
       "\n",
       "[10 rows x 28 columns]"
      ]
     },
     "execution_count": 20,
     "metadata": {},
     "output_type": "execute_result"
    }
   ],
   "source": [
    "train.head(10)"
   ]
  },
  {
   "cell_type": "markdown",
   "id": "337f460a-b657-46ad-8eed-c4567583c643",
   "metadata": {},
   "source": [
    "#### Generating training samples"
   ]
  },
  {
   "cell_type": "code",
   "execution_count": 21,
   "id": "b2a35caa-3c9e-443a-8587-2d7cd2a1780b",
   "metadata": {},
   "outputs": [],
   "source": [
    "train_data = train[feature_cols].values\n",
    "train_data = train_data.reshape(-1, N_ASSETS, train_data.shape[-1])"
   ]
  },
  {
   "cell_type": "code",
   "execution_count": 22,
   "id": "ca556273-8eae-4f0f-94bc-b546db9b32af",
   "metadata": {},
   "outputs": [
    {
     "data": {
      "text/plain": [
       "(1956960, 1, 24)"
      ]
     },
     "execution_count": 22,
     "metadata": {},
     "output_type": "execute_result"
    }
   ],
   "source": [
    "train_data.shape"
   ]
  },
  {
   "cell_type": "markdown",
   "id": "f5db0151-8d50-48a9-b762-9c4172882c9c",
   "metadata": {},
   "source": [
    "Samples with a duration of WINDOW_SIZE records (minutes) will be formed from the train array. Each sample has a target vector corresponding to the final index if WINDOW_SIZE record."
   ]
  },
  {
   "cell_type": "code",
   "execution_count": 23,
   "id": "9a046ba2-cf92-444a-b966-a4217b2c2aa5",
   "metadata": {},
   "outputs": [],
   "source": [
    "class sample_generator(keras.utils.Sequence):\n",
    "    def __init__(self, x_set, y_set, batch_size, length):\n",
    "        self.x, self.y = x_set, y_set\n",
    "        self.batch_size = batch_size\n",
    "        self.length = length\n",
    "        self.size = len(x_set)\n",
    "    def __len__(self): return int(np.ceil(len(self.x) / float(self.batch_size)))\n",
    "    def __getitem__(self, idx):\n",
    "        batch_x = []\n",
    "        batch_y = []\n",
    "        for i in range(self.batch_size):\n",
    "            start_ind = self.batch_size * idx + i\n",
    "            end_ind = start_ind + self.length \n",
    "            if end_ind <= self.size:\n",
    "                batch_x.append(self.x[start_ind : end_ind])\n",
    "                batch_y.append(self.y[end_ind -1])\n",
    "        return np.array(batch_x), np.array(batch_y)"
   ]
  },
  {
   "cell_type": "code",
   "execution_count": 24,
   "id": "6491f12a-9342-45cc-8ccf-c7c335b66513",
   "metadata": {},
   "outputs": [],
   "source": [
    "X_train, X_test = train_data[:-len(train_data)//PCT_VALIDATION], train_data[-len(train_data)//PCT_VALIDATION:]\n",
    "y_train, y_test = targets[:-len(train_data)//PCT_VALIDATION], targets[-len(train_data)//PCT_VALIDATION:]"
   ]
  },
  {
   "cell_type": "code",
   "execution_count": 25,
   "id": "87b8268c-56b0-452b-97b9-56523274f0c0",
   "metadata": {},
   "outputs": [
    {
     "name": "stdout",
     "output_type": "stream",
     "text": [
      "Sample shape: (1024, 15, 1, 24)\n",
      "Target shape: (1024, 1)\n"
     ]
    }
   ],
   "source": [
    "train_generator = sample_generator(X_train, y_train, length=WINDOW_SIZE, batch_size=BATCH_SIZE)\n",
    "val_generator = sample_generator(X_test, y_test, length=WINDOW_SIZE, batch_size=BATCH_SIZE)\n",
    "print(f'Sample shape: {train_generator[0][0].shape}')\n",
    "print(f'Target shape: {train_generator[0][1].shape}')"
   ]
  },
  {
   "cell_type": "markdown",
   "id": "164e7488-c4fb-451e-9ee7-9f56cfaa069b",
   "metadata": {},
   "source": [
    "### Metrics and Loss functions"
   ]
  },
  {
   "cell_type": "code",
   "execution_count": 26,
   "id": "3932a0ae-61ea-4677-8f5c-84c29e408cdb",
   "metadata": {},
   "outputs": [],
   "source": [
    "#Correlations for predicted and real\n",
    "def MaxCorrelation(y_true,y_pred): \n",
    "    return -tf.math.abs(tfp.stats.correlation(y_pred, y_true, sample_axis=None, event_axis=None))\n",
    "\n",
    "def Correlation(y_true,y_pred): \n",
    "    return tf.math.abs(tfp.stats.correlation(y_pred, y_true, sample_axis=None, event_axis=None))\n",
    "\n",
    "#Masked losses\n",
    "def masked_mse(y_true, y_pred):\n",
    "    mask = tf.math.not_equal(y_true, 0.)\n",
    "    y_true_masked = tf.boolean_mask(y_true, mask)\n",
    "    y_pred_masked = tf.boolean_mask(y_pred, mask)\n",
    "    return tf.keras.losses.mean_squared_error(y_true=y_true_masked, y_pred=y_pred_masked)\n",
    "\n",
    "def masked_mae(y_true, y_pred):\n",
    "    mask = tf.math.not_equal(y_true, 0.)\n",
    "    y_true_masked = tf.boolean_mask(y_true, mask)\n",
    "    y_pred_masked = tf.boolean_mask(y_pred, mask)\n",
    "    return tf.keras.losses.mean_absolute_error(y_true=y_true_masked, y_pred=y_pred_masked)\n",
    "\n",
    "def masked_cosine(y_true, y_pred):\n",
    "    mask = tf.math.not_equal(y_true, 0.)\n",
    "    y_true_masked = tf.boolean_mask(y_true, mask)\n",
    "    y_pred_masked = tf.boolean_mask(y_pred, mask)\n",
    "    return tf.keras.losses.cosine_similarity(y_true_masked, y_pred_masked)"
   ]
  },
  {
   "cell_type": "markdown",
   "id": "7665f61d-d76f-4af7-9f62-3d4a8a158ffb",
   "metadata": {},
   "source": [
    "### TCN"
   ]
  },
  {
   "cell_type": "markdown",
   "id": "bd7d4be8-f536-4102-a79e-f18d24493a16",
   "metadata": {},
   "source": [
    "#### 1-Layered TCN with Global Average Pool"
   ]
  },
  {
   "cell_type": "markdown",
   "id": "ea93c624-f50c-4ac3-a2f1-c1e29dd012ba",
   "metadata": {
    "tags": []
   },
   "source": [
    "##### Model\n",
    "Our model will be trained for the number of FOLDS and EPOCHS you chose in the configuration above. Each fold the model with lowest validation loss will be saved and used to predict OOF and test. Adjust the variable VERBOSE. The variable VERBOSE=1 or 2 will display the training and validation loss for each epoch as text."
   ]
  },
  {
   "cell_type": "code",
   "execution_count": 27,
   "id": "340f7eb4-855a-44fd-ba78-7dd2a3bde3a8",
   "metadata": {},
   "outputs": [
    {
     "name": "stderr",
     "output_type": "stream",
     "text": [
      "2022-01-05 16:20:24.235620: I tensorflow/stream_executor/cuda/cuda_gpu_executor.cc:937] successful NUMA node read from SysFS had negative value (-1), but there must be at least one NUMA node, so returning NUMA node zero\n",
      "2022-01-05 16:20:24.243690: I tensorflow/stream_executor/cuda/cuda_gpu_executor.cc:937] successful NUMA node read from SysFS had negative value (-1), but there must be at least one NUMA node, so returning NUMA node zero\n",
      "2022-01-05 16:20:24.244727: I tensorflow/stream_executor/cuda/cuda_gpu_executor.cc:937] successful NUMA node read from SysFS had negative value (-1), but there must be at least one NUMA node, so returning NUMA node zero\n",
      "2022-01-05 16:20:24.246471: I tensorflow/core/platform/cpu_feature_guard.cc:142] This TensorFlow binary is optimized with oneAPI Deep Neural Network Library (oneDNN) to use the following CPU instructions in performance-critical operations:  AVX2 FMA\n",
      "To enable them in other operations, rebuild TensorFlow with the appropriate compiler flags.\n",
      "2022-01-05 16:20:24.247150: I tensorflow/stream_executor/cuda/cuda_gpu_executor.cc:937] successful NUMA node read from SysFS had negative value (-1), but there must be at least one NUMA node, so returning NUMA node zero\n",
      "2022-01-05 16:20:24.248160: I tensorflow/stream_executor/cuda/cuda_gpu_executor.cc:937] successful NUMA node read from SysFS had negative value (-1), but there must be at least one NUMA node, so returning NUMA node zero\n",
      "2022-01-05 16:20:24.248851: I tensorflow/stream_executor/cuda/cuda_gpu_executor.cc:937] successful NUMA node read from SysFS had negative value (-1), but there must be at least one NUMA node, so returning NUMA node zero\n",
      "2022-01-05 16:20:24.764347: I tensorflow/stream_executor/cuda/cuda_gpu_executor.cc:937] successful NUMA node read from SysFS had negative value (-1), but there must be at least one NUMA node, so returning NUMA node zero\n",
      "2022-01-05 16:20:24.764739: I tensorflow/stream_executor/cuda/cuda_gpu_executor.cc:937] successful NUMA node read from SysFS had negative value (-1), but there must be at least one NUMA node, so returning NUMA node zero\n",
      "2022-01-05 16:20:24.765064: I tensorflow/stream_executor/cuda/cuda_gpu_executor.cc:937] successful NUMA node read from SysFS had negative value (-1), but there must be at least one NUMA node, so returning NUMA node zero\n",
      "2022-01-05 16:20:24.765366: I tensorflow/core/common_runtime/gpu/gpu_device.cc:1510] Created device /job:localhost/replica:0/task:0/device:GPU:0 with 1636 MB memory:  -> device: 0, name: NVIDIA GeForce MX130, pci bus id: 0000:01:00.0, compute capability: 5.0\n"
     ]
    },
    {
     "name": "stdout",
     "output_type": "stream",
     "text": [
      "Model: \"model\"\n",
      "_________________________________________________________________\n",
      "Layer (type)                 Output Shape              Param #   \n",
      "=================================================================\n",
      "input_1 (InputLayer)         [(None, 15, 1, 24)]       0         \n",
      "_________________________________________________________________\n",
      "lambda (Lambda)              (None, 15, 24)            0         \n",
      "_________________________________________________________________\n",
      "masking (Masking)            (None, 15, 24)            0         \n",
      "_________________________________________________________________\n",
      "batch_normalization (BatchNo (None, 15, 24)            96        \n",
      "_________________________________________________________________\n",
      "tcn (TCN)                    (None, 15, 16)            7056      \n",
      "_________________________________________________________________\n",
      "global_average_pooling1d (Gl (None, 16)                0         \n",
      "_________________________________________________________________\n",
      "concatenate (Concatenate)    (None, 16)                0         \n",
      "_________________________________________________________________\n",
      "dense (Dense)                (None, 128)               2176      \n",
      "_________________________________________________________________\n",
      "dense_1 (Dense)              (None, 1)                 129       \n",
      "=================================================================\n",
      "Total params: 9,457\n",
      "Trainable params: 9,409\n",
      "Non-trainable params: 48\n",
      "_________________________________________________________________\n"
     ]
    }
   ],
   "source": [
    "#Model\n",
    "DILATION = [2, 4, 8, 16]\n",
    "NB_FILTERS = 16\n",
    "\n",
    "def get_model(n_assets=N_ASSETS):\n",
    "    x_input = keras.Input(shape=(train_generator[0][0].shape[1], n_assets, train_generator[0][0].shape[-1]))\n",
    "    branch_outputs = []\n",
    "    \n",
    "    for i in range(n_assets):\n",
    "        a = layers.Lambda(lambda x: x[:,:, i])(x_input) # Slicing the ith asset:\n",
    "        a = layers.Masking(mask_value=0.)(a)\n",
    "        a = tf.keras.layers.BatchNormalization()(a)\n",
    "        a = TCN(nb_filters=NB_FILTERS, return_sequences=True, dilations=DILATION)(a)\n",
    "        a = layers.GlobalAvgPool1D()(a)\n",
    "        branch_outputs.append(a)\n",
    "        \n",
    "    x = layers.Concatenate()(branch_outputs)\n",
    "    x = layers.Dense(units=128)(x)\n",
    "    out = layers.Dense(units=n_assets)(x)\n",
    "    model = keras.Model(inputs=x_input, outputs=out)\n",
    "    model.compile(optimizer=tf.keras.optimizers.Adam(learning_rate=1e-3), loss=masked_mse, metrics=[Correlation])\n",
    "    return model\n",
    "\n",
    "model = get_model()\n",
    "model.summary()"
   ]
  },
  {
   "cell_type": "code",
   "execution_count": 28,
   "id": "b318808e-cb25-4e8e-b39b-e2da55540fac",
   "metadata": {},
   "outputs": [
    {
     "name": "stdout",
     "output_type": "stream",
     "text": [
      "('You must install pydot (`pip install pydot`) and install graphviz (see instructions at https://graphviz.gitlab.io/download/) ', 'for plot_model/model_to_dot to work.')\n"
     ]
    }
   ],
   "source": [
    "tf.keras.utils.plot_model(get_model(n_assets=1), show_shapes=True)"
   ]
  },
  {
   "cell_type": "code",
   "execution_count": 29,
   "id": "711c940f-04a3-47fa-9436-d783489bb5e5",
   "metadata": {},
   "outputs": [],
   "source": [
    "tf.random.set_seed(0)\n",
    "estop = keras.callbacks.EarlyStopping(monitor='val_loss', patience=7, verbose=0, mode='min', restore_best_weights=True)\n",
    "scheduler = keras.optimizers.schedules.ExponentialDecay(1e-3, (0.5 * len(X_train) / BATCH_SIZE), 1e-3)\n",
    "lr = keras.callbacks.LearningRateScheduler(scheduler, verbose=1)"
   ]
  },
  {
   "cell_type": "markdown",
   "id": "a0eeae8a-4821-4d32-9623-76ef4737d0e5",
   "metadata": {
    "tags": []
   },
   "source": [
    "##### Training and testing"
   ]
  },
  {
   "cell_type": "code",
   "execution_count": 30,
   "id": "18faaeb1-fe7d-4fff-9f10-70b6711464d5",
   "metadata": {},
   "outputs": [
    {
     "name": "stdout",
     "output_type": "stream",
     "text": [
      "Epoch 1/200\n",
      "\n",
      "Epoch 00001: LearningRateScheduler setting learning rate to tf.Tensor(0.001, shape=(), dtype=float32).\n"
     ]
    },
    {
     "name": "stderr",
     "output_type": "stream",
     "text": [
      "2022-01-05 16:20:25.450899: I tensorflow/compiler/mlir/mlir_graph_optimization_pass.cc:185] None of the MLIR Optimization Passes are enabled (registered 2)\n",
      "2022-01-05 16:20:27.291455: I tensorflow/stream_executor/cuda/cuda_dnn.cc:369] Loaded cuDNN version 8201\n"
     ]
    },
    {
     "name": "stdout",
     "output_type": "stream",
     "text": [
      "1720/1720 [==============================] - 345s 198ms/step - loss: 4.8372e-04 - Correlation: 0.0774 - val_loss: 0.0037 - val_Correlation: 0.1055\n",
      "Epoch 2/200\n",
      "\n",
      "Epoch 00002: LearningRateScheduler setting learning rate to tf.Tensor(0.0009919998, shape=(), dtype=float32).\n",
      "1720/1720 [==============================] - 340s 198ms/step - loss: 1.4139e-05 - Correlation: 0.0873 - val_loss: 5.0069e-05 - val_Correlation: 0.0904\n",
      "Epoch 3/200\n",
      "\n",
      "Epoch 00003: LearningRateScheduler setting learning rate to tf.Tensor(0.0009840637, shape=(), dtype=float32).\n",
      "1720/1720 [==============================] - 340s 198ms/step - loss: 1.1490e-05 - Correlation: 0.0880 - val_loss: 0.0113 - val_Correlation: 0.1103\n",
      "Epoch 4/200\n",
      "\n",
      "Epoch 00004: LearningRateScheduler setting learning rate to tf.Tensor(0.00097619096, shape=(), dtype=float32).\n",
      "1720/1720 [==============================] - 340s 198ms/step - loss: 7.2941e-06 - Correlation: 0.0865 - val_loss: 0.0028 - val_Correlation: 0.1171\n",
      "Epoch 5/200\n",
      "\n",
      "Epoch 00005: LearningRateScheduler setting learning rate to tf.Tensor(0.00096838136, shape=(), dtype=float32).\n",
      "1720/1720 [==============================] - 340s 198ms/step - loss: 5.4729e-06 - Correlation: 0.0827 - val_loss: 8.6598e-04 - val_Correlation: 0.1010\n",
      "Epoch 6/200\n",
      "\n",
      "Epoch 00006: LearningRateScheduler setting learning rate to tf.Tensor(0.0009606341, shape=(), dtype=float32).\n",
      "1720/1720 [==============================] - 340s 198ms/step - loss: 5.1321e-06 - Correlation: 0.0812 - val_loss: 3.1537e-04 - val_Correlation: 0.1061\n",
      "Epoch 7/200\n",
      "\n",
      "Epoch 00007: LearningRateScheduler setting learning rate to tf.Tensor(0.0009529489, shape=(), dtype=float32).\n",
      "1720/1720 [==============================] - 341s 198ms/step - loss: 4.8948e-06 - Correlation: 0.0771 - val_loss: 4.7111e-06 - val_Correlation: 0.0755\n",
      "Epoch 8/200\n",
      "\n",
      "Epoch 00008: LearningRateScheduler setting learning rate to tf.Tensor(0.0009453251, shape=(), dtype=float32).\n",
      "1720/1720 [==============================] - 340s 198ms/step - loss: 4.8351e-06 - Correlation: 0.0736 - val_loss: 4.9859e-05 - val_Correlation: 0.0745\n",
      "Epoch 9/200\n",
      "\n",
      "Epoch 00009: LearningRateScheduler setting learning rate to tf.Tensor(0.0009377624, shape=(), dtype=float32).\n",
      "1720/1720 [==============================] - 340s 198ms/step - loss: 4.7315e-06 - Correlation: 0.0754 - val_loss: 2.5893e-04 - val_Correlation: 0.0823\n",
      "Epoch 10/200\n",
      "\n",
      "Epoch 00010: LearningRateScheduler setting learning rate to tf.Tensor(0.0009302601, shape=(), dtype=float32).\n",
      "1720/1720 [==============================] - 340s 198ms/step - loss: 4.6014e-06 - Correlation: 0.0778 - val_loss: 6.5834e-04 - val_Correlation: 0.0748\n",
      "Epoch 11/200\n",
      "\n",
      "Epoch 00011: LearningRateScheduler setting learning rate to tf.Tensor(0.00092281785, shape=(), dtype=float32).\n",
      "1720/1720 [==============================] - 340s 198ms/step - loss: 4.4526e-06 - Correlation: 0.0773 - val_loss: 0.0012 - val_Correlation: 0.0937\n",
      "Epoch 12/200\n",
      "\n",
      "Epoch 00012: LearningRateScheduler setting learning rate to tf.Tensor(0.0009154351, shape=(), dtype=float32).\n",
      "1720/1720 [==============================] - 340s 198ms/step - loss: 4.2738e-06 - Correlation: 0.0792 - val_loss: 5.5482e-04 - val_Correlation: 0.0959\n",
      "Epoch 13/200\n",
      "\n",
      "Epoch 00013: LearningRateScheduler setting learning rate to tf.Tensor(0.00090811145, shape=(), dtype=float32).\n",
      "1720/1720 [==============================] - 340s 198ms/step - loss: 4.1772e-06 - Correlation: 0.0801 - val_loss: 0.0020 - val_Correlation: 0.0862\n",
      "Epoch 14/200\n",
      "\n",
      "Epoch 00014: LearningRateScheduler setting learning rate to tf.Tensor(0.0009008464, shape=(), dtype=float32).\n",
      "1720/1720 [==============================] - 340s 198ms/step - loss: 4.1622e-06 - Correlation: 0.0761 - val_loss: 1.6765e-04 - val_Correlation: 0.0862\n"
     ]
    }
   ],
   "source": [
    "EPOCHS = 200\n",
    "history = model.fit(train_generator, validation_data=(val_generator), epochs=EPOCHS, callbacks=[lr, estop])"
   ]
  },
  {
   "cell_type": "code",
   "execution_count": 36,
   "id": "eb880f1f-3600-4cbb-814e-f8791676f2c4",
   "metadata": {},
   "outputs": [
    {
     "name": "stdout",
     "output_type": "stream",
     "text": [
      "WARNING:tensorflow:Skipping full serialization of Keras layer <keras.layers.core.Lambda object at 0x7f5616d139d0>, because it is not built.\n"
     ]
    },
    {
     "name": "stderr",
     "output_type": "stream",
     "text": [
      "2022-01-05 17:39:58.826068: W tensorflow/python/util/util.cc:348] Sets are not currently considered sequences, but this may change in the future, so consider avoiding using them.\n",
      "WARNING:absl:Found untraced functions such as residual_block_0_layer_call_and_return_conditional_losses, residual_block_0_layer_call_fn, residual_block_1_layer_call_and_return_conditional_losses, residual_block_1_layer_call_fn, residual_block_2_layer_call_and_return_conditional_losses while saving (showing 5 of 160). These functions will not be directly callable after loading.\n"
     ]
    },
    {
     "name": "stdout",
     "output_type": "stream",
     "text": [
      "INFO:tensorflow:Assets written to: models/tcn/tcn/assets\n"
     ]
    },
    {
     "name": "stderr",
     "output_type": "stream",
     "text": [
      "INFO:tensorflow:Assets written to: models/tcn/tcn/assets\n"
     ]
    }
   ],
   "source": [
    "model.save('models/tcn/tcn')"
   ]
  },
  {
   "cell_type": "code",
   "execution_count": 31,
   "id": "c908aaaa-8ebf-435a-872c-39769231d1db",
   "metadata": {},
   "outputs": [
    {
     "data": {
      "text/plain": [
       "33"
      ]
     },
     "execution_count": 31,
     "metadata": {},
     "output_type": "execute_result"
    }
   ],
   "source": [
    "def plot_training_history(history):\n",
    "    fig, ax = plt.subplots(1, 2, figsize=(16, 8))\n",
    "    histories = pd.DataFrame(history.history)\n",
    "    epochs = list(range(1, len(histories)+1))\n",
    "    loss = histories['loss']\n",
    "    val_loss = histories['val_loss']\n",
    "    correlation = histories['Correlation']\n",
    "    val_correlation = histories['val_Correlation']\n",
    "    ax[0].plot(epochs, loss, label='Train Loss')\n",
    "    ax[0].plot(epochs, val_loss, label='Val Loss')\n",
    "    ax[0].set_title('Losses')\n",
    "    ax[0].set_xlabel('Epoch')\n",
    "    ax[0].legend(loc='upper right')\n",
    "    ax[1].plot(epochs, correlation, label='Train Correlation')\n",
    "    ax[1].plot(epochs, val_correlation, label='Val Correlation')\n",
    "    ax[1].set_title('Correlations')\n",
    "    ax[1].set_xlabel('Epoch')\n",
    "    ax[1].legend(loc='upper right')\n",
    "    fig.show()\n",
    "gc.collect()"
   ]
  },
  {
   "cell_type": "code",
   "execution_count": 32,
   "id": "ea4e6b82-c586-4529-be38-4b6400a1a2f1",
   "metadata": {},
   "outputs": [
    {
     "name": "stderr",
     "output_type": "stream",
     "text": [
      "/tmp/ipykernel_11609/2599010004.py:19: UserWarning: Matplotlib is currently using module://matplotlib_inline.backend_inline, which is a non-GUI backend, so cannot show the figure.\n",
      "  fig.show()\n"
     ]
    },
    {
     "data": {
      "image/png": "[encoded data removed]",
      "text/plain": [
       "<Figure size 1152x576 with 2 Axes>"
      ]
     },
     "metadata": {
      "needs_background": "light"
     },
     "output_type": "display_data"
    }
   ],
   "source": [
    "plot_training_history(history)"
   ]
  },
  {
   "cell_type": "code",
   "execution_count": 33,
   "id": "6ae30b42-5660-47d0-9444-84b7f4e65fdb",
   "metadata": {},
   "outputs": [],
   "source": [
    "predictions = model.predict(val_generator)"
   ]
  },
  {
   "cell_type": "code",
   "execution_count": 34,
   "id": "e809ed20-cbf1-4199-9688-2678b029a855",
   "metadata": {},
   "outputs": [],
   "source": [
    "def prediction_details(predictions, y_test, asset_details, assets):\n",
    "    print('Asset:    Corr. coef.')\n",
    "    print('---------------------')\n",
    "    for i, asset in enumerate(assets):\n",
    "        # drop first 14 values in the y_test, since they are absent in val_generator labels\n",
    "        y_true = np.squeeze(y_test[WINDOW_SIZE - 1:, i])\n",
    "        y_pred = np.squeeze(predictions[:, i])\n",
    "        real_target_ind = np.argwhere(y_true != 0)\n",
    "        asset_name = asset_details[asset_details.Asset_ID == asset]['Asset_Name'].item()\n",
    "        print(f\"{asset_name}: {np.corrcoef(y_pred[real_target_ind].flatten(), y_true[real_target_ind].flatten())[0, 1]:.4f}\")\n",
    "        plt.plot(y_true, label='Target')\n",
    "        plt.plot(y_pred, label='Prediction')\n",
    "        plt.xlabel('Time')\n",
    "        plt.ylabel('Target')\n",
    "        plt.title(asset_name)\n",
    "        plt.legend()\n",
    "        plt.show()"
   ]
  },
  {
   "cell_type": "code",
   "execution_count": 35,
   "id": "485693eb-caa2-4c99-b702-baca93f89ef1",
   "metadata": {},
   "outputs": [
    {
     "name": "stdout",
     "output_type": "stream",
     "text": [
      "Asset:    Corr. coef.\n",
      "---------------------\n",
      "Bitcoin: -0.0189\n"
     ]
    },
    {
     "data": {
      "image/png": "[encoded data removed]",
      "text/plain": [
       "<Figure size 432x288 with 1 Axes>"
      ]
     },
     "metadata": {
      "needs_background": "light"
     },
     "output_type": "display_data"
    }
   ],
   "source": [
    "prediction_details(predictions=predictions, y_test=y_test, asset_details=asset_details, assets=train.Asset_ID.astype(int).unique())"
   ]
  }
 ],
 "metadata": {
  "kernelspec": {
   "display_name": "Python 3 (ipykernel)",
   "language": "python",
   "name": "python3"
  },
  "language_info": {
   "codemirror_mode": {
    "name": "ipython",
    "version": 3
   },
   "file_extension": ".py",
   "mimetype": "text/x-python",
   "name": "python",
   "nbconvert_exporter": "python",
   "pygments_lexer": "ipython3",
   "version": "3.8.12"
  }
 },
 "nbformat": 4,
 "nbformat_minor": 5
}
